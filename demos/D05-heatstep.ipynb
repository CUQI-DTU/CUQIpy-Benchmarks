{
 "cells": [
  {
   "cell_type": "markdown",
   "metadata": {},
   "source": [
    "In this notebook, we will demonstrate how `TableAutomization.py` can be used for PDE type of problems. We will use 1D heat equation as an example."
   ]
  },
  {
   "cell_type": "code",
   "execution_count": 1,
   "metadata": {},
   "outputs": [],
   "source": [
    "import cuqi\n",
    "import numpy as np\n",
    "import os\n",
    "import sys\n",
    "sys.path.append(os.path.abspath('..'))\n",
    "from utilities import TableAutomization as TA\n",
    "import benchmarksClass as BC \n",
    "import matplotlib.pyplot as plt"
   ]
  },
  {
   "cell_type": "markdown",
   "metadata": {},
   "source": [
    "## 1D Heat Equation\n",
    "The PDE is given by:\n",
    "\n",
    "$$ \\frac{\\partial u(\\xi,\\tau)}{\\partial \\tau} - c^2 \\Delta_\\xi u(\\xi,\\tau)   = f(\\xi,\\tau), \\;\\text{in}\\;[0,1] $$\n",
    "$$u(0,\\tau)= u(L,\\tau)= 0 $$\n",
    "\n",
    "where $u(\\xi,\\tau)$ is the temperature and $c^2$ is the thermal diffusivity (assumed to be 1 here). We assume the source term $f$ is zero. The unknown parameters (random variable) for this test problem is the initial heat profile $g(\\xi):=u(\\xi,0)$.\n",
    "\n",
    "The data $y$ is a random variable containing the temperature measurements everywhere in the domain at the final time $\\tau^\\mathrm{max}$(assumed to be 0.02 here) corrupted by Gaussian noise(We use $\\sigma_\\text{noise}=0.02$ here):\n",
    "\n",
    "$$y = \\mathcal{G}(g) + \\eta, \\;\\;\\; \\eta\\sim\\mathrm{Gaussian}(0,\\sigma_\\text{noise}^2\\mathbf{I}),$$ \n",
    "\n",
    "where $\\mathcal{G}(g)$ is the forward model that maps the initial condition $g$ to the final time solution via solving the 1D time-dependent heat problem. $\\eta$ is the measurement noise.\n",
    "\n",
    "Given observed data $y^\\text{obs}$ the task is to infer the initial heat profile $g$.\n",
    "\n",
    "We use finite difference method to solve the problem and set the number of nodes as 30 here."
   ]
  },
  {
   "cell_type": "markdown",
   "metadata": {},
   "source": [
    "###  parameterization"
   ]
  },
  {
   "cell_type": "markdown",
   "metadata": {},
   "source": [
    "Here, we parametarize random varable $g(\\xi)$ as stepfunction, that is ,the number of parameter we use is the number of steps. We use 3 steps in this example."
   ]
  },
  {
   "cell_type": "markdown",
   "metadata": {},
   "source": [
    "This is a graph to show the example of what the step function looks like."
   ]
  },
  {
   "cell_type": "code",
   "execution_count": 2,
   "metadata": {},
   "outputs": [
    {
     "data": {
      "image/png": "[encoded data removed]",
      "text/plain": [
       "<Figure size 640x480 with 1 Axes>"
      ]
     },
     "metadata": {},
     "output_type": "display_data"
    }
   ],
   "source": [
    "# Define the step function\n",
    "def step_function_example(x):\n",
    "    return np.where(x >= 2/3, 2, np.where(x >= 1/3, 1, 0))\n",
    "\n",
    "x = np.linspace(0, 1, 1000)\n",
    "\n",
    "\n",
    "y = step_function_example(x)\n",
    "\n",
    "plt.plot(x, y, label='Step Function', color='blue')\n",
    "plt.title('Step Function')\n",
    "plt.xlabel('x')\n",
    "plt.ylabel('y')\n",
    "plt.axhline(0, color='black',linewidth=0.5)\n",
    "plt.axvline(0, color='black',linewidth=0.5)\n",
    "plt.legend()\n",
    "plt.show()"
   ]
  },
  {
   "cell_type": "markdown",
   "metadata": {},
   "source": [
    "We set the prior as an i.i.d multivariate Gaussian with mean $0$ and variance $1.2^2$. \n",
    "And we are using observed data in data_heat.npy"
   ]
  },
  {
   "cell_type": "markdown",
   "metadata": {},
   "source": [
    "## Sampling from posterior distribution"
   ]
  },
  {
   "cell_type": "code",
   "execution_count": 3,
   "metadata": {},
   "outputs": [],
   "source": [
    "target_heatstep = BC.HeatStep()\n",
    "x0 = BC.HeatStep().x0"
   ]
  },
  {
   "cell_type": "markdown",
   "metadata": {},
   "source": [
    "Note that we used finite difference gradient for computing gradient based sampling."
   ]
  },
  {
   "cell_type": "code",
   "execution_count": 4,
   "metadata": {},
   "outputs": [
    {
     "name": "stdout",
     "output_type": "stream",
     "text": [
      "Sample 10000 / 10000\n",
      "\n",
      "Average acceptance rate: 0.19775 \n",
      "\n",
      "Sample 10000 / 10000\n",
      "\n",
      "Average acceptance rate all components: 0.48208333333333336 \n",
      "\n",
      "Sample 10000 / 10000\n",
      "Sample 10000 / 10000\n",
      "Sample 10000 / 10000\n",
      "Sample 10000 / 10000\n",
      "\n",
      "Average acceptance rate: 0.20775 \n",
      "\n",
      "Sample 10000 / 10000\n",
      "\n",
      "Average acceptance rate all components: 0.4835416666666667 \n",
      "\n",
      "Sample 10000 / 10000\n",
      "Sample 10000 / 10000\n",
      "Sample 10000 / 10000\n",
      "Sample 10000 / 10000\n",
      "\n",
      "Average acceptance rate: 0.2035 \n",
      "\n",
      "Sample 10000 / 10000\n",
      "\n",
      "Average acceptance rate all components: 0.4819583333333333 \n",
      "\n",
      "Sample 10000 / 10000\n",
      "Sample 10000 / 10000\n",
      "Sample 10000 / 10000\n"
     ]
    }
   ],
   "source": [
    "df = TA.create_comparison(dim = 3, target= target_heatstep, x0 = x0,scale = [0.027,0.027,0.000233,0.000233,0.5], Ns = 8000, Nb= 2000, seed = 12,chains=3)"
   ]
  },
  {
   "cell_type": "code",
   "execution_count": 5,
   "metadata": {},
   "outputs": [
    {
     "data": {
      "text/html": [
       "<div>\n",
       "<style scoped>\n",
       "    .dataframe tbody tr th:only-of-type {\n",
       "        vertical-align: middle;\n",
       "    }\n",
       "\n",
       "    .dataframe tbody tr th {\n",
       "        vertical-align: top;\n",
       "    }\n",
       "\n",
       "    .dataframe thead th {\n",
       "        text-align: right;\n",
       "    }\n",
       "</style>\n",
       "<table border=\"1\" class=\"dataframe\">\n",
       "  <thead>\n",
       "    <tr style=\"text-align: right;\">\n",
       "      <th></th>\n",
       "      <th>MH</th>\n",
       "      <th>CWMH</th>\n",
       "      <th>ULA</th>\n",
       "      <th>MALA</th>\n",
       "      <th>NUTS</th>\n",
       "    </tr>\n",
       "  </thead>\n",
       "  <tbody>\n",
       "    <tr>\n",
       "      <th>samples</th>\n",
       "      <td>8000</td>\n",
       "      <td>8000</td>\n",
       "      <td>8000</td>\n",
       "      <td>8000</td>\n",
       "      <td>8000</td>\n",
       "    </tr>\n",
       "    <tr>\n",
       "      <th>burnins</th>\n",
       "      <td>2000</td>\n",
       "      <td>2000</td>\n",
       "      <td>2000</td>\n",
       "      <td>2000</td>\n",
       "      <td>2000</td>\n",
       "    </tr>\n",
       "    <tr>\n",
       "      <th>scale</th>\n",
       "      <td>0.027</td>\n",
       "      <td>0.027</td>\n",
       "      <td>0.000233</td>\n",
       "      <td>0.000233</td>\n",
       "      <td>-</td>\n",
       "    </tr>\n",
       "    <tr>\n",
       "      <th>ESS(max)</th>\n",
       "      <td>136.012</td>\n",
       "      <td>244.9</td>\n",
       "      <td>380.921</td>\n",
       "      <td>152.974</td>\n",
       "      <td>2410.353</td>\n",
       "    </tr>\n",
       "    <tr>\n",
       "      <th>ESS(min)</th>\n",
       "      <td>121.56</td>\n",
       "      <td>189.278</td>\n",
       "      <td>284.272</td>\n",
       "      <td>122.862</td>\n",
       "      <td>2106.395</td>\n",
       "    </tr>\n",
       "    <tr>\n",
       "      <th>ESS(mean)</th>\n",
       "      <td>127.317</td>\n",
       "      <td>216.02</td>\n",
       "      <td>335.406</td>\n",
       "      <td>139.599</td>\n",
       "      <td>2308.886</td>\n",
       "    </tr>\n",
       "    <tr>\n",
       "      <th>AR</th>\n",
       "      <td>0.198</td>\n",
       "      <td>0.52</td>\n",
       "      <td>1.0</td>\n",
       "      <td>0.539</td>\n",
       "      <td>0.801</td>\n",
       "    </tr>\n",
       "    <tr>\n",
       "      <th>LogPDF</th>\n",
       "      <td>20000</td>\n",
       "      <td>59996</td>\n",
       "      <td>100000</td>\n",
       "      <td>100000</td>\n",
       "      <td>527750</td>\n",
       "    </tr>\n",
       "    <tr>\n",
       "      <th>Gradient</th>\n",
       "      <td>0</td>\n",
       "      <td>0</td>\n",
       "      <td>10000</td>\n",
       "      <td>10000</td>\n",
       "      <td>52775</td>\n",
       "    </tr>\n",
       "    <tr>\n",
       "      <th>Rhat(max)</th>\n",
       "      <td>1.006</td>\n",
       "      <td>1.008</td>\n",
       "      <td>1.002</td>\n",
       "      <td>1.002</td>\n",
       "      <td>1.0</td>\n",
       "    </tr>\n",
       "    <tr>\n",
       "      <th>Rhat(min)</th>\n",
       "      <td>1.004</td>\n",
       "      <td>1.005</td>\n",
       "      <td>1.001</td>\n",
       "      <td>1.001</td>\n",
       "      <td>1.0</td>\n",
       "    </tr>\n",
       "    <tr>\n",
       "      <th>LogPDF/ESS</th>\n",
       "      <td>157.089</td>\n",
       "      <td>277.733</td>\n",
       "      <td>298.146</td>\n",
       "      <td>716.336</td>\n",
       "      <td>228.573</td>\n",
       "    </tr>\n",
       "    <tr>\n",
       "      <th>Gradient/ESS</th>\n",
       "      <td>0.0</td>\n",
       "      <td>0.0</td>\n",
       "      <td>29.815</td>\n",
       "      <td>71.634</td>\n",
       "      <td>22.857</td>\n",
       "    </tr>\n",
       "  </tbody>\n",
       "</table>\n",
       "</div>"
      ],
      "text/plain": [
       "                   MH     CWMH       ULA      MALA      NUTS\n",
       "samples          8000     8000      8000      8000      8000\n",
       "burnins          2000     2000      2000      2000      2000\n",
       "scale           0.027    0.027  0.000233  0.000233         -\n",
       "ESS(max)      136.012    244.9   380.921   152.974  2410.353\n",
       "ESS(min)       121.56  189.278   284.272   122.862  2106.395\n",
       "ESS(mean)     127.317   216.02   335.406   139.599  2308.886\n",
       "AR              0.198     0.52       1.0     0.539     0.801\n",
       "LogPDF          20000    59996    100000    100000    527750\n",
       "Gradient            0        0     10000     10000     52775\n",
       "Rhat(max)       1.006    1.008     1.002     1.002       1.0\n",
       "Rhat(min)       1.004    1.005     1.001     1.001       1.0\n",
       "LogPDF/ESS    157.089  277.733   298.146   716.336   228.573\n",
       "Gradient/ESS      0.0      0.0    29.815    71.634    22.857"
      ]
     },
     "execution_count": 5,
     "metadata": {},
     "output_type": "execute_result"
    }
   ],
   "source": [
    "df"
   ]
  }
 ],
 "metadata": {
  "kernelspec": {
   "display_name": "Python 3",
   "language": "python",
   "name": "python3"
  },
  "language_info": {
   "codemirror_mode": {
    "name": "ipython",
    "version": 3
   },
   "file_extension": ".py",
   "mimetype": "text/x-python",
   "name": "python",
   "nbconvert_exporter": "python",
   "pygments_lexer": "ipython3",
   "version": "3.10.14"
  }
 },
 "nbformat": 4,
 "nbformat_minor": 2
}
