{
 "cells": [
  {
   "cell_type": "markdown",
   "metadata": {},
   "source": [
    "In this notebook, we will demonstrate how `TableAutomization.py` can be used for PDE type of problems. We will use 1D heat equation as an example."
   ]
  },
  {
   "cell_type": "code",
   "execution_count": 1,
   "metadata": {},
   "outputs": [],
   "source": [
    "import cuqi\n",
    "import numpy as np\n",
    "import os\n",
    "import sys\n",
    "sys.path.append(os.path.abspath('..'))\n",
    "from utilities import TableAutomization as TA\n",
    "import benchmarksClass as BC \n",
    "import matplotlib.pyplot as plt"
   ]
  },
  {
   "cell_type": "markdown",
   "metadata": {},
   "source": [
    "## 1D Heat Equation\n",
    "The PDE is given by:\n",
    "\n",
    "$$ \\frac{\\partial u(\\xi,\\tau)}{\\partial \\tau} - c^2 \\Delta_\\xi u(\\xi,\\tau)   = f(\\xi,\\tau), \\;\\text{in}\\;[0,1] $$\n",
    "$$u(0,\\tau)= u(L,\\tau)= 0 $$\n",
    "\n",
    "where $u(\\xi,\\tau)$ is the temperature and $c^2$ is the thermal diffusivity (assumed to be 1 here). We assume the source term $f$ is zero. The unknown parameters (random variable) for this test problem is the initial heat profile $g(\\xi):=u(\\xi,0)$.\n",
    "\n",
    "The data $y$ is a random variable containing the temperature measurements everywhere in the domain at the final time $\\tau^\\mathrm{max}$(assumed to be 0.02 here) corrupted by Gaussian noise(We use $\\sigma_\\text{noise}=0.02$ here):\n",
    "\n",
    "$$y = \\mathcal{G}(g) + \\eta, \\;\\;\\; \\eta\\sim\\mathrm{Gaussian}(0,\\sigma_\\text{noise}^2\\mathbf{I}),$$ \n",
    "\n",
    "where $\\mathcal{G}(g)$ is the forward model that maps the initial condition $g$ to the final time solution via solving the 1D time-dependent heat problem. $\\eta$ is the measurement noise.\n",
    "\n",
    "Given observed data $y^\\text{obs}$ the task is to infer the initial heat profile $g$.\n",
    "\n",
    "We use finite difference method to solve the problem and set the number of nodes as 30 here."
   ]
  },
  {
   "cell_type": "markdown",
   "metadata": {},
   "source": [
    "###  parameterization"
   ]
  },
  {
   "cell_type": "markdown",
   "metadata": {},
   "source": [
    "Here, we parametarize random varable $g(\\xi)$ as stepfunction, that is ,the number of parameter we use is the number of steps. We use 3 steps in this example."
   ]
  },
  {
   "cell_type": "markdown",
   "metadata": {},
   "source": [
    "This is a graph to show the example of what the step function looks like."
   ]
  },
  {
   "cell_type": "code",
   "execution_count": 7,
   "metadata": {},
   "outputs": [
    {
     "data": {
      "image/png": "[encoded data removed]",
      "text/plain": [
       "<Figure size 640x480 with 1 Axes>"
      ]
     },
     "metadata": {},
     "output_type": "display_data"
    }
   ],
   "source": [
    "# Define the step function\n",
    "def step_function_example(x):\n",
    "    return np.where(x >= 2/3, 2, np.where(x >= 1/3, 1, 0))\n",
    "\n",
    "x = np.linspace(0, 1, 1000)\n",
    "\n",
    "\n",
    "y = step_function_example(x)\n",
    "\n",
    "plt.plot(x, y, label='Step Function', color='blue')\n",
    "plt.title('Step Function')\n",
    "plt.xlabel('x')\n",
    "plt.ylabel('y')\n",
    "plt.axhline(0, color='black',linewidth=0.5)\n",
    "plt.axvline(0, color='black',linewidth=0.5)\n",
    "plt.legend()\n",
    "plt.show()"
   ]
  },
  {
   "cell_type": "markdown",
   "metadata": {},
   "source": [
    "We set the prior as an i.i.d multivariate Gaussian with mean $0$ and variance $1.2^2$. \n",
    "And we are using observed data in data_heat.npy"
   ]
  },
  {
   "cell_type": "markdown",
   "metadata": {},
   "source": [
    "## Sampling from posterior distribution"
   ]
  },
  {
   "cell_type": "code",
   "execution_count": 3,
   "metadata": {},
   "outputs": [
    {
     "name": "stdout",
     "output_type": "stream",
     "text": [
      "<bound method Posterior._gradient of Posterior(\n",
      "    Equation:\n",
      "\t p(x|y) ∝ L(x|y)p(x)\n",
      "    Densities:\n",
      "\ty ~ CUQI Gaussian Likelihood function. Parameters ['x'].\n",
      " \tx ~ CUQI Gaussian.\n",
      " )>\n",
      "<bound method Posterior._gradient of Posterior(\n",
      "    Equation:\n",
      "\t p(x|y) ∝ L(x|y)p(x)\n",
      "    Densities:\n",
      "\ty ~ CUQI Gaussian Likelihood function. Parameters ['x'].\n",
      " \tx ~ CUQI Gaussian.\n",
      " )>\n"
     ]
    }
   ],
   "source": [
    "target_heatstep = BC.HeatStep()\n",
    "x0 = BC.HeatStep().x0"
   ]
  },
  {
   "cell_type": "code",
   "execution_count": 3,
   "metadata": {},
   "outputs": [
    {
     "name": "stdout",
     "output_type": "stream",
     "text": [
      "Sample 101 / 101\n",
      "\n",
      "Average acceptance rate: 0.09 \n",
      "\n",
      "Sample 101 / 101\n",
      "\n",
      "Average acceptance rate all components: 0.06 \n",
      "\n"
     ]
    },
    {
     "ename": "NotImplementedError",
     "evalue": "Gradient not implemented for distribution Posterior(\n    Equation:\n\t p(x|y) ∝ L(x|y)p(x)\n    Densities:\n\ty ~ CUQI Gaussian Likelihood function. Parameters ['x'].\n \tx ~ CUQI Gaussian.\n ) with geometry StepExpansion(3,)",
     "output_type": "error",
     "traceback": [
      "\u001b[0;31m---------------------------------------------------------------------------\u001b[0m",
      "\u001b[0;31mNotImplementedError\u001b[0m                       Traceback (most recent call last)",
      "Cell \u001b[0;32mIn[3], line 1\u001b[0m\n\u001b[0;32m----> 1\u001b[0m df \u001b[38;5;241m=\u001b[39m \u001b[43mTA\u001b[49m\u001b[38;5;241;43m.\u001b[39;49m\u001b[43mcreate_comparison\u001b[49m\u001b[43m(\u001b[49m\u001b[43mdim\u001b[49m\u001b[43m \u001b[49m\u001b[38;5;241;43m=\u001b[39;49m\u001b[43m \u001b[49m\u001b[38;5;241;43m3\u001b[39;49m\u001b[43m,\u001b[49m\u001b[43m \u001b[49m\u001b[43mtarget\u001b[49m\u001b[38;5;241;43m=\u001b[39;49m\u001b[43m \u001b[49m\u001b[43mtarget_heatstep\u001b[49m\u001b[43m,\u001b[49m\u001b[43m \u001b[49m\u001b[43mx0\u001b[49m\u001b[43m \u001b[49m\u001b[38;5;241;43m=\u001b[39;49m\u001b[43m \u001b[49m\u001b[43mx0\u001b[49m\u001b[43m,\u001b[49m\u001b[43mscale\u001b[49m\u001b[43m \u001b[49m\u001b[38;5;241;43m=\u001b[39;49m\u001b[43m \u001b[49m\u001b[43m[\u001b[49m\u001b[38;5;241;43m1\u001b[39;49m\u001b[43m,\u001b[49m\u001b[38;5;241;43m1\u001b[39;49m\u001b[43m,\u001b[49m\u001b[38;5;241;43m1\u001b[39;49m\u001b[43m]\u001b[49m\u001b[43m,\u001b[49m\u001b[43m \u001b[49m\u001b[43mNs\u001b[49m\u001b[43m \u001b[49m\u001b[38;5;241;43m=\u001b[39;49m\u001b[43m \u001b[49m\u001b[38;5;241;43m100\u001b[39;49m\u001b[43m,\u001b[49m\u001b[43m \u001b[49m\u001b[43mNb\u001b[49m\u001b[38;5;241;43m=\u001b[39;49m\u001b[43m \u001b[49m\u001b[38;5;241;43m1\u001b[39;49m\u001b[43m,\u001b[49m\u001b[43m \u001b[49m\u001b[43mseed\u001b[49m\u001b[43m \u001b[49m\u001b[38;5;241;43m=\u001b[39;49m\u001b[43m \u001b[49m\u001b[38;5;241;43m12\u001b[39;49m\u001b[43m,\u001b[49m\u001b[43mchains\u001b[49m\u001b[38;5;241;43m=\u001b[39;49m\u001b[38;5;241;43m3\u001b[39;49m\u001b[43m,\u001b[49m\u001b[43mselected_methods\u001b[49m\u001b[38;5;241;43m=\u001b[39;49m\u001b[43m[\u001b[49m\u001b[38;5;124;43m\"\u001b[39;49m\u001b[38;5;124;43mMH_fixed\u001b[39;49m\u001b[38;5;124;43m\"\u001b[39;49m\u001b[43m,\u001b[49m\u001b[43m \u001b[49m\u001b[38;5;124;43m\"\u001b[39;49m\u001b[38;5;124;43mCWMH\u001b[39;49m\u001b[38;5;124;43m\"\u001b[39;49m\u001b[43m,\u001b[49m\u001b[38;5;124;43m\"\u001b[39;49m\u001b[38;5;124;43mULA\u001b[39;49m\u001b[38;5;124;43m\"\u001b[39;49m\u001b[43m]\u001b[49m\u001b[43m)\u001b[49m\n",
      "File \u001b[0;32m~/Desktop/CUQIpy_project/CUQIpy-Benchmarks/utilities/TableAutomization.py:241\u001b[0m, in \u001b[0;36mcreate_comparison\u001b[0;34m(target, scale, Ns, Nb, dim, x0, seed, chains, selected_criteria, selected_methods)\u001b[0m\n\u001b[1;32m    221\u001b[0m \u001b[38;5;250m\u001b[39m\u001b[38;5;124;03m\"\"\"\u001b[39;00m\n\u001b[1;32m    222\u001b[0m \u001b[38;5;124;03mCreate a table comparing various sampling methods with ESS values.\u001b[39;00m\n\u001b[1;32m    223\u001b[0m \u001b[38;5;124;03m\u001b[39;00m\n\u001b[0;32m   (...)\u001b[0m\n\u001b[1;32m    237\u001b[0m \u001b[38;5;124;03mplot : matplotlib figure, plot of the samples\u001b[39;00m\n\u001b[1;32m    238\u001b[0m \u001b[38;5;124;03m\"\"\"\u001b[39;00m\n\u001b[1;32m    240\u001b[0m \u001b[38;5;66;03m# Run precomputation\u001b[39;00m\n\u001b[0;32m--> 241\u001b[0m samples, pr,  scale, Ns, Nb \u001b[38;5;241m=\u001b[39m \u001b[43mprecompute_samples\u001b[49m\u001b[43m(\u001b[49m\u001b[43mtarget\u001b[49m\u001b[43m,\u001b[49m\u001b[43m \u001b[49m\u001b[43mscale\u001b[49m\u001b[43m,\u001b[49m\u001b[43m \u001b[49m\u001b[43mNs\u001b[49m\u001b[43m,\u001b[49m\u001b[43m \u001b[49m\u001b[43mNb\u001b[49m\u001b[43m,\u001b[49m\u001b[43m \u001b[49m\u001b[43mx0\u001b[49m\u001b[43m,\u001b[49m\u001b[43m \u001b[49m\u001b[43mseed\u001b[49m\u001b[43m,\u001b[49m\u001b[43m \u001b[49m\u001b[43mselected_methods\u001b[49m\u001b[43m)\u001b[49m\n\u001b[1;32m    243\u001b[0m df_dict \u001b[38;5;241m=\u001b[39m {\n\u001b[1;32m    244\u001b[0m     \u001b[38;5;124m\"\u001b[39m\u001b[38;5;124mMethod\u001b[39m\u001b[38;5;124m\"\u001b[39m: selected_methods,\n\u001b[1;32m    245\u001b[0m     \u001b[38;5;124m\"\u001b[39m\u001b[38;5;124mSamples\u001b[39m\u001b[38;5;124m\"\u001b[39m: [Ns[i] \u001b[38;5;28;01mfor\u001b[39;00m i \u001b[38;5;129;01min\u001b[39;00m \u001b[38;5;28mrange\u001b[39m(\u001b[38;5;28mlen\u001b[39m(selected_methods))],\n\u001b[0;32m   (...)\u001b[0m\n\u001b[1;32m    249\u001b[0m \n\u001b[1;32m    250\u001b[0m }\n\u001b[1;32m    252\u001b[0m \u001b[38;5;66;03m# Conditionally compute and add the selected metrics to the DataFrame dictionary\u001b[39;00m\n",
      "File \u001b[0;32m~/Desktop/CUQIpy_project/CUQIpy-Benchmarks/utilities/TableAutomization.py:110\u001b[0m, in \u001b[0;36mprecompute_samples\u001b[0;34m(target, scale, Ns, Nb, x0, seed, selected_methods)\u001b[0m\n\u001b[1;32m    108\u001b[0m     \u001b[38;5;28;01mif\u001b[39;00m method \u001b[38;5;129;01min\u001b[39;00m method_mapping:\n\u001b[1;32m    109\u001b[0m         mcmc_method, adapted \u001b[38;5;241m=\u001b[39m method_mapping[method]\n\u001b[0;32m--> 110\u001b[0m         samples[method], pr[method] \u001b[38;5;241m=\u001b[39m \u001b[43mMCMC_sampling\u001b[49m\u001b[43m(\u001b[49m\u001b[43mtarget\u001b[49m\u001b[43m,\u001b[49m\u001b[43m \u001b[49m\u001b[43mmcmc_method\u001b[49m\u001b[43m,\u001b[49m\u001b[43m \u001b[49m\u001b[43madapted\u001b[49m\u001b[43m,\u001b[49m\u001b[43m \u001b[49m\u001b[43mscale\u001b[49m\u001b[43m[\u001b[49m\u001b[43midx\u001b[49m\u001b[43m]\u001b[49m\u001b[43m,\u001b[49m\u001b[43m \u001b[49m\u001b[43mNs\u001b[49m\u001b[43m[\u001b[49m\u001b[43midx\u001b[49m\u001b[43m]\u001b[49m\u001b[43m,\u001b[49m\u001b[43m \u001b[49m\u001b[43mNb\u001b[49m\u001b[43m[\u001b[49m\u001b[43midx\u001b[49m\u001b[43m]\u001b[49m\u001b[43m,\u001b[49m\u001b[43m \u001b[49m\u001b[43mx0\u001b[49m\u001b[43m,\u001b[49m\u001b[43m \u001b[49m\u001b[43mseed\u001b[49m\u001b[43m)\u001b[49m\n\u001b[1;32m    112\u001b[0m \u001b[38;5;28;01mreturn\u001b[39;00m samples, pr, scale, Ns, Nb\n",
      "File \u001b[0;32m~/Desktop/CUQIpy_project/CUQIpy-Benchmarks/utilities/TableAutomization.py:54\u001b[0m, in \u001b[0;36mMCMC_sampling\u001b[0;34m(target, method, adapted, scale, Ns, Nb, x0, seed)\u001b[0m\n\u001b[1;32m     52\u001b[0m         x \u001b[38;5;241m=\u001b[39m sampler\u001b[38;5;241m.\u001b[39msample_adapt(Ns,Nb)\n\u001b[1;32m     53\u001b[0m     \u001b[38;5;28;01melse\u001b[39;00m: \n\u001b[0;32m---> 54\u001b[0m         x \u001b[38;5;241m=\u001b[39m \u001b[43msampler\u001b[49m\u001b[38;5;241;43m.\u001b[39;49m\u001b[43msample\u001b[49m\u001b[43m(\u001b[49m\u001b[43mNs\u001b[49m\u001b[43m,\u001b[49m\u001b[43mNb\u001b[49m\u001b[43m)\u001b[49m\n\u001b[1;32m     56\u001b[0m \u001b[38;5;28;01mfinally\u001b[39;00m:\n\u001b[1;32m     57\u001b[0m     pr\u001b[38;5;241m.\u001b[39mdisable()\n",
      "File \u001b[0;32m~/Desktop/CUQIpy_project/CUQIpy/cuqi/sampler/_sampler.py:91\u001b[0m, in \u001b[0;36mSampler.sample\u001b[0;34m(self, N, Nb)\u001b[0m\n\u001b[1;32m     89\u001b[0m \u001b[38;5;28;01mdef\u001b[39;00m \u001b[38;5;21msample\u001b[39m(\u001b[38;5;28mself\u001b[39m,N,Nb\u001b[38;5;241m=\u001b[39m\u001b[38;5;241m0\u001b[39m):\n\u001b[1;32m     90\u001b[0m     \u001b[38;5;66;03m# Get samples from the samplers sample method\u001b[39;00m\n\u001b[0;32m---> 91\u001b[0m     result \u001b[38;5;241m=\u001b[39m \u001b[38;5;28;43mself\u001b[39;49m\u001b[38;5;241;43m.\u001b[39;49m\u001b[43m_sample\u001b[49m\u001b[43m(\u001b[49m\u001b[43mN\u001b[49m\u001b[43m,\u001b[49m\u001b[43mNb\u001b[49m\u001b[43m)\u001b[49m\n\u001b[1;32m     92\u001b[0m     \u001b[38;5;28;01mreturn\u001b[39;00m \u001b[38;5;28mself\u001b[39m\u001b[38;5;241m.\u001b[39m_create_Sample_object(result,N\u001b[38;5;241m+\u001b[39mNb)\n",
      "File \u001b[0;32m~/Desktop/CUQIpy_project/CUQIpy/cuqi/sampler/_langevin_algorithm.py:83\u001b[0m, in \u001b[0;36mULA._sample\u001b[0;34m(self, N, Nb)\u001b[0m\n\u001b[1;32m     81\u001b[0m \u001b[38;5;66;03m# initial state\u001b[39;00m\n\u001b[1;32m     82\u001b[0m samples[:, \u001b[38;5;241m0\u001b[39m] \u001b[38;5;241m=\u001b[39m \u001b[38;5;28mself\u001b[39m\u001b[38;5;241m.\u001b[39mx0\n\u001b[0;32m---> 83\u001b[0m target_eval[\u001b[38;5;241m0\u001b[39m], g_target_eval[:,\u001b[38;5;241m0\u001b[39m] \u001b[38;5;241m=\u001b[39m \u001b[38;5;28mself\u001b[39m\u001b[38;5;241m.\u001b[39mtarget\u001b[38;5;241m.\u001b[39mlogd(\u001b[38;5;28mself\u001b[39m\u001b[38;5;241m.\u001b[39mx0), \u001b[38;5;28;43mself\u001b[39;49m\u001b[38;5;241;43m.\u001b[39;49m\u001b[43mtarget\u001b[49m\u001b[38;5;241;43m.\u001b[39;49m\u001b[43mgradient\u001b[49m\u001b[43m(\u001b[49m\u001b[38;5;28;43mself\u001b[39;49m\u001b[38;5;241;43m.\u001b[39;49m\u001b[43mx0\u001b[49m\u001b[43m)\u001b[49m\n\u001b[1;32m     84\u001b[0m acc[\u001b[38;5;241m0\u001b[39m] \u001b[38;5;241m=\u001b[39m \u001b[38;5;241m1\u001b[39m\n\u001b[1;32m     86\u001b[0m \u001b[38;5;66;03m# ULA\u001b[39;00m\n",
      "File \u001b[0;32m~/Desktop/CUQIpy_project/CUQIpy/cuqi/density/_density.py:102\u001b[0m, in \u001b[0;36mDensity.gradient\u001b[0;34m(self, *args, **kwargs)\u001b[0m\n\u001b[1;32m     98\u001b[0m     \u001b[38;5;28;01mreturn\u001b[39;00m cuqi\u001b[38;5;241m.\u001b[39mutilities\u001b[38;5;241m.\u001b[39mapprox_gradient(\n\u001b[1;32m     99\u001b[0m         \u001b[38;5;28mself\u001b[39m\u001b[38;5;241m.\u001b[39mlogd, \u001b[38;5;241m*\u001b[39margs, \u001b[38;5;241m*\u001b[39m\u001b[38;5;241m*\u001b[39mkwargs, epsilon\u001b[38;5;241m=\u001b[39m\u001b[38;5;28mself\u001b[39m\u001b[38;5;241m.\u001b[39mFD_epsilon)\n\u001b[1;32m    101\u001b[0m \u001b[38;5;66;03m# Otherwise use the implemented gradient\u001b[39;00m\n\u001b[0;32m--> 102\u001b[0m \u001b[38;5;28;01mreturn\u001b[39;00m \u001b[38;5;28;43mself\u001b[39;49m\u001b[38;5;241;43m.\u001b[39;49m\u001b[43m_gradient\u001b[49m\u001b[43m(\u001b[49m\u001b[38;5;241;43m*\u001b[39;49m\u001b[43margs\u001b[49m\u001b[43m,\u001b[49m\u001b[43m \u001b[49m\u001b[38;5;241;43m*\u001b[39;49m\u001b[38;5;241;43m*\u001b[39;49m\u001b[43mkwargs\u001b[49m\u001b[43m)\u001b[49m\n",
      "File \u001b[0;32m~/Desktop/CUQIpy_project/CUQIpy/cuqi/distribution/_custom.py:57\u001b[0m, in \u001b[0;36mUserDefinedDistribution._gradient\u001b[0;34m(self, x)\u001b[0m\n\u001b[1;32m     55\u001b[0m \u001b[38;5;28;01mdef\u001b[39;00m \u001b[38;5;21m_gradient\u001b[39m(\u001b[38;5;28mself\u001b[39m, x):\n\u001b[1;32m     56\u001b[0m     \u001b[38;5;28;01mif\u001b[39;00m \u001b[38;5;28mself\u001b[39m\u001b[38;5;241m.\u001b[39mgradient_func \u001b[38;5;129;01mis\u001b[39;00m \u001b[38;5;129;01mnot\u001b[39;00m \u001b[38;5;28;01mNone\u001b[39;00m:\n\u001b[0;32m---> 57\u001b[0m         \u001b[38;5;28;01mreturn\u001b[39;00m \u001b[38;5;28;43mself\u001b[39;49m\u001b[38;5;241;43m.\u001b[39;49m\u001b[43mgradient_func\u001b[49m\u001b[43m(\u001b[49m\u001b[43mx\u001b[49m\u001b[43m)\u001b[49m\n\u001b[1;32m     58\u001b[0m     \u001b[38;5;28;01melse\u001b[39;00m:\n\u001b[1;32m     59\u001b[0m         \u001b[38;5;28;01mraise\u001b[39;00m \u001b[38;5;167;01mNotImplementedError\u001b[39;00m(\u001b[38;5;124m\"\u001b[39m\u001b[38;5;124mgradient_func is not defined.\u001b[39m\u001b[38;5;124m\"\u001b[39m)\n",
      "File \u001b[0;32m~/Desktop/CUQIpy_project/CUQIpy/cuqi/density/_density.py:102\u001b[0m, in \u001b[0;36mDensity.gradient\u001b[0;34m(self, *args, **kwargs)\u001b[0m\n\u001b[1;32m     98\u001b[0m     \u001b[38;5;28;01mreturn\u001b[39;00m cuqi\u001b[38;5;241m.\u001b[39mutilities\u001b[38;5;241m.\u001b[39mapprox_gradient(\n\u001b[1;32m     99\u001b[0m         \u001b[38;5;28mself\u001b[39m\u001b[38;5;241m.\u001b[39mlogd, \u001b[38;5;241m*\u001b[39margs, \u001b[38;5;241m*\u001b[39m\u001b[38;5;241m*\u001b[39mkwargs, epsilon\u001b[38;5;241m=\u001b[39m\u001b[38;5;28mself\u001b[39m\u001b[38;5;241m.\u001b[39mFD_epsilon)\n\u001b[1;32m    101\u001b[0m \u001b[38;5;66;03m# Otherwise use the implemented gradient\u001b[39;00m\n\u001b[0;32m--> 102\u001b[0m \u001b[38;5;28;01mreturn\u001b[39;00m \u001b[38;5;28;43mself\u001b[39;49m\u001b[38;5;241;43m.\u001b[39;49m\u001b[43m_gradient\u001b[49m\u001b[43m(\u001b[49m\u001b[38;5;241;43m*\u001b[39;49m\u001b[43margs\u001b[49m\u001b[43m,\u001b[49m\u001b[43m \u001b[49m\u001b[38;5;241;43m*\u001b[39;49m\u001b[38;5;241;43m*\u001b[39;49m\u001b[43mkwargs\u001b[49m\u001b[43m)\u001b[49m\n",
      "File \u001b[0;32m~/Desktop/CUQIpy_project/CUQIpy/cuqi/distribution/_posterior.py:98\u001b[0m, in \u001b[0;36mPosterior._gradient\u001b[0;34m(self, x)\u001b[0m\n\u001b[1;32m     94\u001b[0m \u001b[38;5;28;01mdef\u001b[39;00m \u001b[38;5;21m_gradient\u001b[39m(\u001b[38;5;28mself\u001b[39m, x):\n\u001b[1;32m     95\u001b[0m     \u001b[38;5;66;03m#Avoid complicated geometries that change the gradient.\u001b[39;00m\n\u001b[1;32m     96\u001b[0m     \u001b[38;5;28;01mif\u001b[39;00m \u001b[38;5;129;01mnot\u001b[39;00m \u001b[38;5;28mtype\u001b[39m(\u001b[38;5;28mself\u001b[39m\u001b[38;5;241m.\u001b[39mgeometry) \u001b[38;5;129;01min\u001b[39;00m _get_identity_geometries() \u001b[38;5;129;01mand\u001b[39;00m\\\n\u001b[1;32m     97\u001b[0m        \u001b[38;5;129;01mnot\u001b[39;00m \u001b[38;5;28mhasattr\u001b[39m(\u001b[38;5;28mself\u001b[39m\u001b[38;5;241m.\u001b[39mgeometry, \u001b[38;5;124m'\u001b[39m\u001b[38;5;124mgradient\u001b[39m\u001b[38;5;124m'\u001b[39m):\n\u001b[0;32m---> 98\u001b[0m         \u001b[38;5;28;01mraise\u001b[39;00m \u001b[38;5;167;01mNotImplementedError\u001b[39;00m(\u001b[38;5;124m\"\u001b[39m\u001b[38;5;124mGradient not implemented for distribution \u001b[39m\u001b[38;5;132;01m{}\u001b[39;00m\u001b[38;5;124m with geometry \u001b[39m\u001b[38;5;132;01m{}\u001b[39;00m\u001b[38;5;124m\"\u001b[39m\u001b[38;5;241m.\u001b[39mformat(\u001b[38;5;28mself\u001b[39m,\u001b[38;5;28mself\u001b[39m\u001b[38;5;241m.\u001b[39mgeometry))\n\u001b[1;32m    100\u001b[0m     \u001b[38;5;28;01mreturn\u001b[39;00m \u001b[38;5;28mself\u001b[39m\u001b[38;5;241m.\u001b[39mlikelihood\u001b[38;5;241m.\u001b[39mgradient(x)\u001b[38;5;241m+\u001b[39m \u001b[38;5;28mself\u001b[39m\u001b[38;5;241m.\u001b[39mprior\u001b[38;5;241m.\u001b[39mgradient(x)\n",
      "\u001b[0;31mNotImplementedError\u001b[0m: Gradient not implemented for distribution Posterior(\n    Equation:\n\t p(x|y) ∝ L(x|y)p(x)\n    Densities:\n\ty ~ CUQI Gaussian Likelihood function. Parameters ['x'].\n \tx ~ CUQI Gaussian.\n ) with geometry StepExpansion(3,)"
     ]
    }
   ],
   "source": [
    "df = TA.create_comparison(dim = 3, target= target_heatstep, x0 = x0,scale = [1,1,1], Ns = 100, Nb= 1, seed = 12,chains=3,selected_methods=[\"MH_fixed\", \"CWMH\",\"ULA\"])"
   ]
  },
  {
   "cell_type": "code",
   "execution_count": 4,
   "metadata": {},
   "outputs": [
    {
     "name": "stdout",
     "output_type": "stream",
     "text": [
      "+----------+---------+----------+-------+----------+----------+-----+--------+----------+-----------+-----------+\n",
      "|  Method  | Samples | Burn-ins | Scale | ESS(max) | ESS(min) |  AR | LogPDF | Gradient | Rhat(max) | Rhat(min) |\n",
      "+----------+---------+----------+-------+----------+----------+-----+--------+----------+-----------+-----------+\n",
      "| MH_fixed |   100   |    1     |   1   |  11.935  |  2.229   | 0.1 |  202   |    0     |   1.628   |   1.254   |\n",
      "|   CWMH   |   100   |    1     |   1   |  11.872  |  2.527   | 0.1 |  602   |    0     |   2.856   |   2.022   |\n",
      "+----------+---------+----------+-------+----------+----------+-----+--------+----------+-----------+-----------+\n"
     ]
    }
   ],
   "source": [
    "TA.print_table(df)"
   ]
  }
 ],
 "metadata": {
  "kernelspec": {
   "display_name": "Python 3",
   "language": "python",
   "name": "python3"
  },
  "language_info": {
   "codemirror_mode": {
    "name": "ipython",
    "version": 3
   },
   "file_extension": ".py",
   "mimetype": "text/x-python",
   "name": "python",
   "nbconvert_exporter": "python",
   "pygments_lexer": "ipython3",
   "version": "3.12.4"
  }
 },
 "nbformat": 4,
 "nbformat_minor": 2
}
