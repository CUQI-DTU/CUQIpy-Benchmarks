{
 "cells": [
  {
   "cell_type": "code",
   "execution_count": 1,
   "metadata": {},
   "outputs": [],
   "source": [
    "import cuqi\n",
    "import numpy as np\n",
    "import os\n",
    "import sys\n",
    "sys.path.append(os.path.abspath('..'))\n",
    "from utilities import TableAutomization as TA\n",
    "import benchmarksClass as BC "
   ]
  },
  {
   "cell_type": "code",
   "execution_count": 2,
   "metadata": {},
   "outputs": [],
   "source": [
    "target_heatstep = BC.HeatStep()\n",
    "x0 = BC.HeatStep().x0"
   ]
  },
  {
   "cell_type": "code",
   "execution_count": 3,
   "metadata": {},
   "outputs": [
    {
     "name": "stdout",
     "output_type": "stream",
     "text": [
      "Sample 101 / 101\n",
      "\n",
      "Average acceptance rate: 0.09 \n",
      "\n",
      "Sample 101 / 101\n",
      "\n",
      "Average acceptance rate all components: 0.06 \n",
      "\n",
      "Sample 101 / 101\n",
      "\n",
      "Average acceptance rate: 0.06 \n",
      "\n",
      "Sample 101 / 101\n",
      "\n",
      "Average acceptance rate all components: 0.10000000000000002 \n",
      "\n",
      "Sample 101 / 101\n",
      "\n",
      "Average acceptance rate: 0.07 \n",
      "\n",
      "Sample 101 / 101\n",
      "\n",
      "Average acceptance rate all components: 0.05666666666666667 \n",
      "\n"
     ]
    }
   ],
   "source": [
    "df = TA.create_comparison(dim = 3, target= target_heatstep, x0 = x0,scale = [1,1], Ns = 100, Nb= 1, seed = 12,chains=3,selected_methods=[\"MH_fixed\", \"CWMH\"])"
   ]
  },
  {
   "cell_type": "code",
   "execution_count": 4,
   "metadata": {},
   "outputs": [
    {
     "name": "stdout",
     "output_type": "stream",
     "text": [
      "+----------+---------+----------+-------+----------+----------+-----+--------+----------+-----------+-----------+\n",
      "|  Method  | Samples | Burn-ins | Scale | ESS(max) | ESS(min) |  AR | LogPDF | Gradient | Rhat(max) | Rhat(min) |\n",
      "+----------+---------+----------+-------+----------+----------+-----+--------+----------+-----------+-----------+\n",
      "| MH_fixed |   100   |    1     |   1   |  11.935  |  2.229   | 0.1 |  202   |    0     |   1.628   |   1.254   |\n",
      "|   CWMH   |   100   |    1     |   1   |  11.872  |  2.527   | 0.1 |  602   |    0     |   2.856   |   2.022   |\n",
      "+----------+---------+----------+-------+----------+----------+-----+--------+----------+-----------+-----------+\n"
     ]
    }
   ],
   "source": [
    "TA.print_table(df)"
   ]
  },
  {
   "cell_type": "code",
   "execution_count": null,
   "metadata": {},
   "outputs": [],
   "source": []
  },
  {
   "cell_type": "code",
   "execution_count": null,
   "metadata": {},
   "outputs": [],
   "source": []
  }
 ],
 "metadata": {
  "kernelspec": {
   "display_name": "Python 3",
   "language": "python",
   "name": "python3"
  },
  "language_info": {
   "codemirror_mode": {
    "name": "ipython",
    "version": 3
   },
   "file_extension": ".py",
   "mimetype": "text/x-python",
   "name": "python",
   "nbconvert_exporter": "python",
   "pygments_lexer": "ipython3",
   "version": "3.10.14"
  }
 },
 "nbformat": 4,
 "nbformat_minor": 2
}
