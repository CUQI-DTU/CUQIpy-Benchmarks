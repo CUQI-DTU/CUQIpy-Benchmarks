{
 "cells": [
  {
   "cell_type": "code",
   "execution_count": 4,
   "metadata": {},
   "outputs": [],
   "source": [
    "from cuqi.distribution import DistributionGallery, Gaussian, JointDistribution\n",
    "from cuqi.testproblem import Poisson1D\n",
    "from cuqi.problem import BayesianProblem\n",
    "import cuqi\n",
    "import inspect\n",
    "import numpy as np\n",
    "import matplotlib.pyplot as plt\n",
    "from cuqi.sampler import MH, CWMH, ULA, MALA, NUTS\n",
    "import time\n",
    "import scipy.stats as sps\n",
    "from scipy.stats import gaussian_kde\n",
    "import pandas as pd"
   ]
  },
  {
   "cell_type": "code",
   "execution_count": 5,
   "metadata": {},
   "outputs": [],
   "source": [
    "# The donut distribution \n",
    "target_donut = DistributionGallery(\"donut\")\n",
    "\n",
    "# The Poisson1D Bayesian problem\n",
    "dim = 201\n",
    "L = np.pi\n",
    "\n",
    "xs = np.array([0.2, 0.4, 0.6, 0.8])*L\n",
    "ws = 0.8\n",
    "sigma_s = 0.05\n",
    "def f(t):\n",
    "    s = np.zeros(dim-1)\n",
    "    for i in range(4):\n",
    "        s += ws * sps.norm.pdf(t, loc=xs[i], scale=sigma_s)\n",
    "    return s\n",
    "\n",
    "A, _, _ = Poisson1D(dim=dim, \n",
    "                    endpoint=L,\n",
    "                    field_type='KL',\n",
    "                    field_params={'num_modes': 10} ,\n",
    "                    map=lambda x: np.exp(x), \n",
    "                    source=f).get_components()\n",
    "sigma_x = 30\n",
    "x = Gaussian(0, sigma_x**2, geometry=A.domain_geometry)\n",
    "np.random.seed(12)\n",
    "x_true = x.sample()\n",
    "sigma_y = np.sqrt(0.001)\n",
    "y = Gaussian(A(x), sigma_y**2, geometry=A.range_geometry)\n",
    "y_obs = y(x=x_true).sample()\n",
    "joint = JointDistribution(y, x)\n",
    "target_poisson = joint(y=y_obs)"
   ]
  },
  {
   "cell_type": "code",
   "execution_count": 6,
   "metadata": {},
   "outputs": [
    {
     "data": {
      "text/plain": [
       "['CWMH',\n",
       " 'Conjugate',\n",
       " 'ConjugateApprox',\n",
       " 'Gibbs',\n",
       " 'LinearRTO',\n",
       " 'MALA',\n",
       " 'MH',\n",
       " 'NUTS',\n",
       " 'ProposalBasedSampler',\n",
       " 'RegularizedLinearRTO',\n",
       " 'Sampler',\n",
       " 'UGLA',\n",
       " 'ULA',\n",
       " 'pCN']"
      ]
     },
     "execution_count": 6,
     "metadata": {},
     "output_type": "execute_result"
    }
   ],
   "source": [
    "[sampler for sampler in dir(cuqi.sampler) if not sampler.startswith('_')]"
   ]
  },
  {
   "cell_type": "code",
   "execution_count": 7,
   "metadata": {},
   "outputs": [],
   "source": [
    "Ns_MH_fixed = 10000 # Number of samples\n",
    "Nb_MH_fixed = 0 # Number of burn-in samples\n",
    "scale_MH_fixed = 0.05 # Fixed step size \"scale\""
   ]
  },
  {
   "cell_type": "code",
   "execution_count": 8,
   "metadata": {},
   "outputs": [],
   "source": [
    "MH_sampler = MH(target_donut, scale=scale_MH_fixed, x0=np.array([0,0]))"
   ]
  },
  {
   "cell_type": "code",
   "execution_count": 9,
   "metadata": {},
   "outputs": [
    {
     "name": "stdout",
     "output_type": "stream",
     "text": [
      "Sample 10000 / 10000\n",
      "\n",
      "Average acceptance rate: 0.8742 \n",
      "\n"
     ]
    }
   ],
   "source": [
    "MH_fixed_samples = MH_sampler.sample(Ns_MH_fixed, Nb_MH_fixed) #MH fixed sampling\n",
    "\n"
   ]
  },
  {
   "cell_type": "code",
   "execution_count": 10,
   "metadata": {},
   "outputs": [],
   "source": [
    "ess_MH_fixed = MH_fixed_samples.compute_ess()"
   ]
  },
  {
   "cell_type": "code",
   "execution_count": 11,
   "metadata": {},
   "outputs": [
    {
     "name": "stdout",
     "output_type": "stream",
     "text": [
      "Sample 10000 / 10000\n",
      "\n",
      "Average acceptance rate: 0.5038823529411764 MCMC scale: 0.38003425321366907 \n",
      "\n"
     ]
    }
   ],
   "source": [
    "Ns_MH_adapted = 8500\n",
    "Nb_MH_adapted = 1500\n",
    "\n",
    "MH_adapted_samples = MH_sampler.sample_adapt(Ns_MH_adapted, Nb_MH_adapted)\n",
    "ess_MH_adapted = MH_adapted_samples.compute_ess()"
   ]
  },
  {
   "cell_type": "code",
   "execution_count": 12,
   "metadata": {},
   "outputs": [
    {
     "name": "stdout",
     "output_type": "stream",
     "text": [
      "Sample 1000 / 1000\n"
     ]
    }
   ],
   "source": [
    "scale_ULA = 0.065\n",
    "ULA_sampler = ULA(target=target_donut, scale=scale_ULA, x0=np.array([0,0]))\n",
    "Ns_ULA  = 1000\n",
    "ULA_samples = ULA_sampler.sample(Ns_ULA)\n",
    "ess_ULA = ULA_samples.compute_ess()"
   ]
  },
  {
   "cell_type": "code",
   "execution_count": 13,
   "metadata": {},
   "outputs": [
    {
     "name": "stdout",
     "output_type": "stream",
     "text": [
      "Sample 40000 / 40000\n"
     ]
    }
   ],
   "source": [
    "#x_uni = Gaussian(0, 1)\n",
    "scale_MALA = 0.01\n",
    "MALA_uni = MALA(target= target_donut, scale=scale_MALA, x0=np.array([0,0]))\n",
    "\n",
    "Ns_MALA = 40000\n",
    "MALA_samples_uni = MALA_uni.sample(Ns_MALA)\n",
    "ess_MALA = MALA_samples_uni.compute_ess()"
   ]
  },
  {
   "cell_type": "code",
   "execution_count": 14,
   "metadata": {},
   "outputs": [
    {
     "name": "stdout",
     "output_type": "stream",
     "text": [
      "Sample 3002 / 3002\n"
     ]
    }
   ],
   "source": [
    "NUTS_donut = NUTS(target=target_donut, x0=np.array([0,0]))\n",
    "Ns_NUTS = 3000\n",
    "Nb_NUTS = 2\n",
    "NUTS_donuts_samples = NUTS_donut.sample(Ns_NUTS, Nb_NUTS)\n",
    "ess_NUTS = NUTS_donuts_samples.compute_ess()"
   ]
  },
  {
   "cell_type": "code",
   "execution_count": 15,
   "metadata": {},
   "outputs": [
    {
     "data": {
      "text/html": [
       "<div>\n",
       "<style scoped>\n",
       "    .dataframe tbody tr th:only-of-type {\n",
       "        vertical-align: middle;\n",
       "    }\n",
       "\n",
       "    .dataframe tbody tr th {\n",
       "        vertical-align: top;\n",
       "    }\n",
       "\n",
       "    .dataframe thead th {\n",
       "        text-align: right;\n",
       "    }\n",
       "</style>\n",
       "<table border=\"1\" class=\"dataframe\">\n",
       "  <thead>\n",
       "    <tr style=\"text-align: right;\">\n",
       "      <th></th>\n",
       "      <th>Sampling Method</th>\n",
       "      <th>No. of Samples</th>\n",
       "      <th>No. of Burn-ins</th>\n",
       "      <th>Scaling Factor</th>\n",
       "      <th>ESS (v0)</th>\n",
       "      <th>ESS (v1)</th>\n",
       "    </tr>\n",
       "  </thead>\n",
       "  <tbody>\n",
       "    <tr>\n",
       "      <th>0</th>\n",
       "      <td>MH_fixed</td>\n",
       "      <td>10000</td>\n",
       "      <td>0.0</td>\n",
       "      <td>0.05</td>\n",
       "      <td>10.021</td>\n",
       "      <td>1.657</td>\n",
       "    </tr>\n",
       "    <tr>\n",
       "      <th>1</th>\n",
       "      <td>MH_adapted</td>\n",
       "      <td>8500</td>\n",
       "      <td>1500.0</td>\n",
       "      <td>0.05</td>\n",
       "      <td>26.709</td>\n",
       "      <td>3.575</td>\n",
       "    </tr>\n",
       "    <tr>\n",
       "      <th>2</th>\n",
       "      <td>ULA</td>\n",
       "      <td>1000</td>\n",
       "      <td>-</td>\n",
       "      <td>0.065</td>\n",
       "      <td>6.610</td>\n",
       "      <td>4.743</td>\n",
       "    </tr>\n",
       "    <tr>\n",
       "      <th>3</th>\n",
       "      <td>MALA</td>\n",
       "      <td>40000</td>\n",
       "      <td>-</td>\n",
       "      <td>0.01</td>\n",
       "      <td>18.280</td>\n",
       "      <td>24.796</td>\n",
       "    </tr>\n",
       "    <tr>\n",
       "      <th>4</th>\n",
       "      <td>NUTS</td>\n",
       "      <td>3000</td>\n",
       "      <td>-</td>\n",
       "      <td>-</td>\n",
       "      <td>887.511</td>\n",
       "      <td>959.071</td>\n",
       "    </tr>\n",
       "  </tbody>\n",
       "</table>\n",
       "</div>"
      ],
      "text/plain": [
       "  Sampling Method  No. of Samples No. of Burn-ins Scaling Factor  ESS (v0)  \\\n",
       "0        MH_fixed           10000             0.0           0.05    10.021   \n",
       "1      MH_adapted            8500          1500.0           0.05    26.709   \n",
       "2             ULA            1000               -          0.065     6.610   \n",
       "3            MALA           40000               -           0.01    18.280   \n",
       "4            NUTS            3000               -              -   887.511   \n",
       "\n",
       "   ESS (v1)  \n",
       "0     1.657  \n",
       "1     3.575  \n",
       "2     4.743  \n",
       "3    24.796  \n",
       "4   959.071  "
      ]
     },
     "execution_count": 15,
     "metadata": {},
     "output_type": "execute_result"
    }
   ],
   "source": [
    "import pandas as pd\n",
    "\n",
    "\n",
    "def safe_access(array, index):\n",
    "    return round(array[index], 3) if len(array) > index else None\n",
    "\n",
    "ess_df = pd.DataFrame({\n",
    "    \"Sampling Method\": [\"MH_fixed\", \"MH_adapted\", \"ULA\", \"MALA\", \"NUTS\"],\n",
    "    \"No. of Samples\": [Ns_MH_fixed, Ns_MH_adapted, Ns_ULA, Ns_MALA, Ns_NUTS],\n",
    "    \"No. of Burn-ins\": [Nb_MH_fixed, Nb_MH_adapted, None, None, None],\n",
    "    \"Scaling Factor\": [scale_MH_fixed, scale_MH_fixed, scale_ULA, scale_MALA, None],\n",
    "    \"ESS (v0)\":  [safe_access(ess_MH_fixed, 0), safe_access(ess_MH_adapted, 0), safe_access(ess_ULA, 0), safe_access(ess_MALA, 0), safe_access(ess_NUTS, 0)],\n",
    "    \"ESS (v1)\": [safe_access(ess_MH_fixed, 1), safe_access(ess_MH_adapted, 1), safe_access(ess_ULA, 1), safe_access(ess_MALA, 1), safe_access(ess_NUTS, 1)]\n",
    "})\n",
    "\n",
    "# Optional: Replace None values with \"-\"\n",
    "ess_df = ess_df.fillna(\"-\")\n",
    "\n",
    "# Display the DataFrame without the index\n",
    "ess_df\n"
   ]
  },
  {
   "cell_type": "code",
   "execution_count": 51,
   "metadata": {},
   "outputs": [],
   "source": [
    "def plot2d(val, x1_min, x1_max, x2_min, x2_max, N2=201, **kwargs):\n",
    "    # plot\n",
    "    pixelwidth_x = (x1_max-x1_min)/(N2-1)\n",
    "    pixelwidth_y = (x2_max-x2_min)/(N2-1)\n",
    "\n",
    "    hp_x = 0.5*pixelwidth_x\n",
    "    hp_y = 0.5*pixelwidth_y\n",
    "\n",
    "    extent = (x1_min-hp_x, x1_max+hp_x, x2_min-hp_y, x2_max+hp_y)\n",
    "\n",
    "    plt.imshow(val, origin='lower', extent=extent, **kwargs)\n",
    "    plt.colorbar()\n",
    "\n",
    "\n",
    "def plot_pdf_2D(distb, x1_min, x1_max, x2_min, x2_max, N2=201, **kwargs):\n",
    "    N2 = 201\n",
    "    ls1 = np.linspace(x1_min, x1_max, N2)\n",
    "    ls2 = np.linspace(x2_min, x2_max, N2)\n",
    "    grid1, grid2 = np.meshgrid(ls1, ls2)\n",
    "    distb_pdf = np.zeros((N2,N2))\n",
    "    for ii in range(N2):\n",
    "        for jj in range(N2):\n",
    "            distb_pdf[ii,jj] = np.exp(distb.logd(np.array([grid1[ii,jj], grid2[ii,jj]]))) \n",
    "    plot2d(distb_pdf, x1_min, x1_max, x2_min, x2_max, N2, **kwargs)\n",
    "\n",
    "def plot_pdf_1D(distb, min, max, **kwargs):\n",
    "    grid = np.linspace(min, max, 1000)\n",
    "    y = [distb.pdf(grid_point) for grid_point in grid]\n",
    "    plt.plot(grid, y, **kwargs)"
   ]
  },
  {
   "cell_type": "code",
   "execution_count": 60,
   "metadata": {},
   "outputs": [],
   "source": [
    "def MCMC_sampling(target, method,adapted , scale, Ns ,Nb, x0, seed):\n",
    "  np.random.seed(seed)\n",
    "  if method == MH:\n",
    "    sampler = method(target=target, scale=scale,x0=x0)\n",
    "    if adapted:\n",
    "       return sampler.sample_adapt(Ns, Nb)\n",
    "    return sampler.sample(Ns, Nb)\n",
    "  else: \n",
    "    if method == NUTS: \n",
    "      sampler = method(target, x0)\n",
    "      return sampler.sample(Ns,Nb)\n",
    "    sampler = method(target, scale, x0)\n",
    "    return sampler.sample(Ns,Nb)"
   ]
  },
  {
   "cell_type": "code",
   "execution_count": 64,
   "metadata": {},
   "outputs": [],
   "source": [
    "def safe_access(array, index):\n",
    "    return round(array[index], 3) if len(array) > index else None"
   ]
  },
  {
   "cell_type": "code",
   "execution_count": 67,
   "metadata": {},
   "outputs": [],
   "source": [
    "def create_table(target,scale,Ns,Nb,x0,seed):\n",
    "    if isinstance(scale, float):\n",
    "        scale = np.full(5, scale)\n",
    "    if isinstance(Ns, int):\n",
    "        Ns = np.full(5, Ns)\n",
    "    if isinstance(Nb, int):\n",
    "        Nb = np.full(5, Nb)\n",
    "    \n",
    "    ess_MH_fixed = MCMC_sampling(target = target, method=MH, adapted = False ,scale=scale[0],Ns=Ns[0],Nb=Nb[0],x0=x0,seed=seed).compute_ess()\n",
    "    ess_MH_adapted = MCMC_sampling(target = target,method=MH, adapted = True,scale=scale[1],Ns=Ns[1],Nb=Nb[1],x0=x0,seed=seed).compute_ess()\n",
    "    ess_ULA = MCMC_sampling(target = target,method= ULA, adapted = False ,scale=scale[2],Ns=Ns[2],Nb=Nb[2],x0=x0,seed=seed).compute_ess()\n",
    "    ess_MALA = MCMC_sampling(target = target,method=MALA, adapted = False,scale=scale[3],Ns=Ns[3],Nb=Nb[3],x0=x0,seed=seed).compute_ess()\n",
    "    ess_NUTS = MCMC_sampling(target = target,method=NUTS, adapted = False ,scale=scale[4],Ns=Ns[4],Nb=Nb[4],x0=x0,seed=seed).compute_ess()\n",
    "\n",
    "    ess_df = pd.DataFrame({\n",
    "        \"Sampling Method\": [\"MH_fixed\", \"MH_adapted\", \"ULA\", \"MALA\", \"NUTS\"],\n",
    "        \"No. of Samples\": [Ns[0], Ns[1], Ns[2], Ns[3], Ns[4]],\n",
    "        \"No. of Burn-ins\": [Nb[0], Nb[1], Nb[2], Nb[3], Nb[4]],\n",
    "        \"Scaling Factor\": [scale[0], scale[1], scale[2], scale[3], scale[4]],\n",
    "        \"ESS (v0)\":  [safe_access(ess_MH_fixed, 0), safe_access(ess_MH_adapted, 0), safe_access(ess_ULA, 0), safe_access(ess_MALA, 0), safe_access(ess_NUTS, 0)],\n",
    "        \"ESS (v1)\": [safe_access(ess_MH_fixed, 1), safe_access(ess_MH_adapted, 1), safe_access(ess_ULA, 1), safe_access(ess_MALA, 1), safe_access(ess_NUTS, 1)]\n",
    "    })\n",
    "\n",
    "    # Optional: Replace None values with \"-\"\n",
    "    ess_df = ess_df.fillna(\"-\")\n",
    "\n",
    "    # Display the DataFrame without the index\n",
    "    return ess_df\n",
    "\n",
    "  "
   ]
  },
  {
   "cell_type": "code",
   "execution_count": 68,
   "metadata": {},
   "outputs": [
    {
     "name": "stdout",
     "output_type": "stream",
     "text": [
      "Sample 102 / 102\n",
      "\n",
      "Average acceptance rate: 0.61 \n",
      "\n",
      "Sample 102 / 102\n",
      "\n",
      "Average acceptance rate: 0.55 MCMC scale: 0.2801305356910719 \n",
      "\n",
      "Sample 102 / 102\n",
      "Sample 102 / 102\n",
      "Sample 102 / 102\n"
     ]
    },
    {
     "data": {
      "text/html": [
       "<div>\n",
       "<style scoped>\n",
       "    .dataframe tbody tr th:only-of-type {\n",
       "        vertical-align: middle;\n",
       "    }\n",
       "\n",
       "    .dataframe tbody tr th {\n",
       "        vertical-align: top;\n",
       "    }\n",
       "\n",
       "    .dataframe thead th {\n",
       "        text-align: right;\n",
       "    }\n",
       "</style>\n",
       "<table border=\"1\" class=\"dataframe\">\n",
       "  <thead>\n",
       "    <tr style=\"text-align: right;\">\n",
       "      <th></th>\n",
       "      <th>Sampling Method</th>\n",
       "      <th>No. of Samples</th>\n",
       "      <th>No. of Burn-ins</th>\n",
       "      <th>Scaling Factor</th>\n",
       "      <th>ESS (v0)</th>\n",
       "      <th>ESS (v1)</th>\n",
       "    </tr>\n",
       "  </thead>\n",
       "  <tbody>\n",
       "    <tr>\n",
       "      <th>0</th>\n",
       "      <td>MH_fixed</td>\n",
       "      <td>100</td>\n",
       "      <td>2</td>\n",
       "      <td>0.05</td>\n",
       "      <td>1.388</td>\n",
       "      <td>7.172</td>\n",
       "    </tr>\n",
       "    <tr>\n",
       "      <th>1</th>\n",
       "      <td>MH_adapted</td>\n",
       "      <td>100</td>\n",
       "      <td>2</td>\n",
       "      <td>0.05</td>\n",
       "      <td>1.958</td>\n",
       "      <td>6.839</td>\n",
       "    </tr>\n",
       "    <tr>\n",
       "      <th>2</th>\n",
       "      <td>ULA</td>\n",
       "      <td>100</td>\n",
       "      <td>2</td>\n",
       "      <td>0.05</td>\n",
       "      <td>2.435</td>\n",
       "      <td>23.095</td>\n",
       "    </tr>\n",
       "    <tr>\n",
       "      <th>3</th>\n",
       "      <td>MALA</td>\n",
       "      <td>100</td>\n",
       "      <td>2</td>\n",
       "      <td>0.05</td>\n",
       "      <td>100.000</td>\n",
       "      <td>100.000</td>\n",
       "    </tr>\n",
       "    <tr>\n",
       "      <th>4</th>\n",
       "      <td>NUTS</td>\n",
       "      <td>100</td>\n",
       "      <td>2</td>\n",
       "      <td>0.05</td>\n",
       "      <td>33.394</td>\n",
       "      <td>3.729</td>\n",
       "    </tr>\n",
       "  </tbody>\n",
       "</table>\n",
       "</div>"
      ],
      "text/plain": [
       "  Sampling Method  No. of Samples  No. of Burn-ins  Scaling Factor  ESS (v0)  \\\n",
       "0        MH_fixed             100                2            0.05     1.388   \n",
       "1      MH_adapted             100                2            0.05     1.958   \n",
       "2             ULA             100                2            0.05     2.435   \n",
       "3            MALA             100                2            0.05   100.000   \n",
       "4            NUTS             100                2            0.05    33.394   \n",
       "\n",
       "   ESS (v1)  \n",
       "0     7.172  \n",
       "1     6.839  \n",
       "2    23.095  \n",
       "3   100.000  \n",
       "4     3.729  "
      ]
     },
     "execution_count": 68,
     "metadata": {},
     "output_type": "execute_result"
    }
   ],
   "source": [
    "create_table(target_donut, 0.05, 100, 2, x0 = np.array([0,0]), seed = 12)"
   ]
  },
  {
   "cell_type": "code",
   "execution_count": null,
   "metadata": {},
   "outputs": [],
   "source": []
  }
 ],
 "metadata": {
  "kernelspec": {
   "display_name": "Python 3",
   "language": "python",
   "name": "python3"
  },
  "language_info": {
   "codemirror_mode": {
    "name": "ipython",
    "version": 3
   },
   "file_extension": ".py",
   "mimetype": "text/x-python",
   "name": "python",
   "nbconvert_exporter": "python",
   "pygments_lexer": "ipython3",
   "version": "3.12.4"
  }
 },
 "nbformat": 4,
 "nbformat_minor": 2
}
