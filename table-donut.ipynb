{
 "cells": [
  {
   "cell_type": "markdown",
   "metadata": {},
   "source": [
    "Here we will compare different samplig methods for the target `donut_target`, specifically the ess method "
   ]
  },
  {
   "cell_type": "markdown",
   "metadata": {},
   "source": [
    "### Importing the needed libraries "
   ]
  },
  {
   "cell_type": "code",
   "execution_count": 1,
   "metadata": {},
   "outputs": [],
   "source": [
    "from cuqi.distribution import DistributionGallery, Gaussian, JointDistribution\n",
    "from cuqi.testproblem import Poisson1D\n",
    "from cuqi.problem import BayesianProblem\n",
    "import cuqi\n",
    "import inspect\n",
    "import numpy as np\n",
    "import matplotlib.pyplot as plt\n",
    "from cuqi.sampler import MH, CWMH, ULA, MALA, NUTS\n",
    "import time\n",
    "import scipy.stats as sps\n",
    "from scipy.stats import gaussian_kde\n",
    "import pandas as pd\n",
    "import cProfile, pstats, io\n",
    "from pstats import SortKey\n",
    "import TableAutomization as TA"
   ]
  },
  {
   "cell_type": "markdown",
   "metadata": {},
   "source": [
    "### The donut distribution\n"
   ]
  },
  {
   "cell_type": "markdown",
   "metadata": {},
   "source": [
    "Out of all of the sampling methods we choose 5:\n",
    "- MH with fixed samlpler\n",
    "- MH with adapted sampler\n",
    "- ULA\n",
    "- MALA \n",
    "- NUTSA\n",
    "\n",
    "We create a general sampling function, that given certain inputs will compute the according MCMC sampling"
   ]
  },
  {
   "cell_type": "code",
   "execution_count": 2,
   "metadata": {},
   "outputs": [],
   "source": [
    "# The donut distribution \n",
    "target_donut = DistributionGallery(\"donut\")\n"
   ]
  },
  {
   "cell_type": "code",
   "execution_count": 4,
   "metadata": {},
   "outputs": [
    {
     "name": "stdout",
     "output_type": "stream",
     "text": [
      "Sample 1002 / 1002\n",
      "\n",
      "Average acceptance rate: 0.851 \n",
      "\n",
      "Sample 1002 / 1002\n",
      "\n",
      "Average acceptance rate: 0.574 MCMC scale: 0.33174280419572777 \n",
      "\n",
      "Sample 1002 / 1002\n",
      "Sample 1002 / 1002\n",
      "Sample 1002 / 1002\n"
     ]
    },
    {
     "data": {
      "text/html": [
       "<div>\n",
       "<style scoped>\n",
       "    .dataframe tbody tr th:only-of-type {\n",
       "        vertical-align: middle;\n",
       "    }\n",
       "\n",
       "    .dataframe tbody tr th {\n",
       "        vertical-align: top;\n",
       "    }\n",
       "\n",
       "    .dataframe thead th {\n",
       "        text-align: right;\n",
       "    }\n",
       "</style>\n",
       "<table border=\"1\" class=\"dataframe\">\n",
       "  <thead>\n",
       "    <tr style=\"text-align: right;\">\n",
       "      <th></th>\n",
       "      <th>Sampling Method</th>\n",
       "      <th>No. of Samples</th>\n",
       "      <th>No. of Burn-ins</th>\n",
       "      <th>Scaling Factor</th>\n",
       "      <th>ESS (v0)</th>\n",
       "      <th>ESS (v1)</th>\n",
       "      <th>AR</th>\n",
       "      <th>LogPDF</th>\n",
       "    </tr>\n",
       "  </thead>\n",
       "  <tbody>\n",
       "    <tr>\n",
       "      <th>0</th>\n",
       "      <td>MH_fixed</td>\n",
       "      <td>1000</td>\n",
       "      <td>2</td>\n",
       "      <td>0.05</td>\n",
       "      <td>5.210</td>\n",
       "      <td>1.445</td>\n",
       "      <td>0.851</td>\n",
       "      <td>1002.0</td>\n",
       "    </tr>\n",
       "    <tr>\n",
       "      <th>1</th>\n",
       "      <td>MH_adapted</td>\n",
       "      <td>1000</td>\n",
       "      <td>2</td>\n",
       "      <td>0.05</td>\n",
       "      <td>1.809</td>\n",
       "      <td>7.280</td>\n",
       "      <td>0.574</td>\n",
       "      <td>1002.0</td>\n",
       "    </tr>\n",
       "    <tr>\n",
       "      <th>2</th>\n",
       "      <td>ULA</td>\n",
       "      <td>1000</td>\n",
       "      <td>2</td>\n",
       "      <td>0.05</td>\n",
       "      <td>2.412</td>\n",
       "      <td>1.944</td>\n",
       "      <td>1.000</td>\n",
       "      <td>1002.0</td>\n",
       "    </tr>\n",
       "    <tr>\n",
       "      <th>3</th>\n",
       "      <td>MALA</td>\n",
       "      <td>1000</td>\n",
       "      <td>2</td>\n",
       "      <td>0.05</td>\n",
       "      <td>1000.000</td>\n",
       "      <td>1000.000</td>\n",
       "      <td>0.000</td>\n",
       "      <td>1002.0</td>\n",
       "    </tr>\n",
       "    <tr>\n",
       "      <th>4</th>\n",
       "      <td>NUTS</td>\n",
       "      <td>1000</td>\n",
       "      <td>2</td>\n",
       "      <td>0.05</td>\n",
       "      <td>252.605</td>\n",
       "      <td>316.402</td>\n",
       "      <td>0.961</td>\n",
       "      <td>0.0</td>\n",
       "    </tr>\n",
       "  </tbody>\n",
       "</table>\n",
       "</div>"
      ],
      "text/plain": [
       "  Sampling Method  No. of Samples  No. of Burn-ins  Scaling Factor  ESS (v0)  \\\n",
       "0        MH_fixed            1000                2            0.05     5.210   \n",
       "1      MH_adapted            1000                2            0.05     1.809   \n",
       "2             ULA            1000                2            0.05     2.412   \n",
       "3            MALA            1000                2            0.05  1000.000   \n",
       "4            NUTS            1000                2            0.05   252.605   \n",
       "\n",
       "   ESS (v1)     AR  LogPDF  \n",
       "0     1.445  0.851  1002.0  \n",
       "1     7.280  0.574  1002.0  \n",
       "2     1.944  1.000  1002.0  \n",
       "3  1000.000  0.000  1002.0  \n",
       "4   316.402  0.961     0.0  "
      ]
     },
     "execution_count": 4,
     "metadata": {},
     "output_type": "execute_result"
    }
   ],
   "source": [
    "TA.create_table(target_donut, 0.05, 1000,2, x0 = np.array([0,0]), seed = 12 )"
   ]
  },
  {
   "cell_type": "code",
   "execution_count": null,
   "metadata": {},
   "outputs": [],
   "source": []
  }
 ],
 "metadata": {
  "kernelspec": {
   "display_name": "Python 3",
   "language": "python",
   "name": "python3"
  },
  "language_info": {
   "codemirror_mode": {
    "name": "ipython",
    "version": 3
   },
   "file_extension": ".py",
   "mimetype": "text/x-python",
   "name": "python",
   "nbconvert_exporter": "python",
   "pygments_lexer": "ipython3",
   "version": "3.12.4"
  }
 },
 "nbformat": 4,
 "nbformat_minor": 2
}
