{
 "cells": [
  {
   "cell_type": "markdown",
   "metadata": {},
   "source": [
    "Here we will compare different samplig methods for the target `donut_target`, specifically the ess method "
   ]
  },
  {
   "cell_type": "markdown",
   "metadata": {},
   "source": [
    "### Importing the needed libraries "
   ]
  },
  {
   "cell_type": "code",
   "execution_count": 1,
   "metadata": {},
   "outputs": [],
   "source": [
    "from cuqi.distribution import DistributionGallery, Gaussian, JointDistribution\n",
    "from cuqi.testproblem import Poisson1D\n",
    "from cuqi.problem import BayesianProblem\n",
    "import cuqi\n",
    "import inspect\n",
    "import numpy as np\n",
    "import matplotlib.pyplot as plt\n",
    "from cuqi.sampler import MH, CWMH, ULA, MALA, NUTS\n",
    "import time\n",
    "import scipy.stats as sps\n",
    "from scipy.stats import gaussian_kde\n",
    "import pandas as pd\n",
    "import cProfile, pstats, io\n",
    "from pstats import SortKey\n",
    "import TableAutomization as TA"
   ]
  },
  {
   "cell_type": "markdown",
   "metadata": {},
   "source": [
    "### The donut distribution\n"
   ]
  },
  {
   "cell_type": "markdown",
   "metadata": {},
   "source": [
    "Out of all of the sampling methods we choose 5:\n",
    "- MH with fixed samlpler\n",
    "- MH with adapted sampler\n",
    "- ULA\n",
    "- MALA \n",
    "- NUTSA\n",
    "\n",
    "We create a general sampling function, that given certain inputs will compute the according MCMC sampling"
   ]
  },
  {
   "cell_type": "code",
   "execution_count": 2,
   "metadata": {},
   "outputs": [],
   "source": [
    "# The donut distribution \n",
    "target_donut = DistributionGallery(\"donut\")\n"
   ]
  },
  {
   "cell_type": "code",
   "execution_count": 3,
   "metadata": {},
   "outputs": [],
   "source": [
    "true_mu = np.array([0, 0])\n",
    "true_sigma = np.array([1,1])\n",
    "y = cuqi.distribution.Gaussian(mean=true_mu, cov=true_sigma**2)"
   ]
  },
  {
   "cell_type": "code",
   "execution_count": 4,
   "metadata": {},
   "outputs": [
    {
     "name": "stdout",
     "output_type": "stream",
     "text": [
      "Sample 1002 / 1002\n",
      "\n",
      "Average acceptance rate: 0.87 \n",
      "\n",
      "Sample 1002 / 1002\n",
      "\n",
      "Average acceptance rate: 0.568 MCMC scale: 0.34647851827122866 \n",
      "\n",
      "Sample 1002 / 1002\n",
      "Sample 1002 / 1002\n",
      "Sample 1002 / 1002\n",
      "Sample 1002 / 1002\n",
      "\n",
      "Average acceptance rate: 0.87 \n",
      "\n",
      "Sample 1002 / 1002\n",
      "\n",
      "Average acceptance rate: 0.568 MCMC scale: 0.34647851827122866 \n",
      "\n",
      "Sample 1002 / 1002\n",
      "Sample 1002 / 1002\n",
      "Sample 1002 / 1002\n"
     ]
    },
    {
     "ename": "AttributeError",
     "evalue": "'list' object has no attribute 'geometry'",
     "output_type": "error",
     "traceback": [
      "\u001b[0;31m---------------------------------------------------------------------------\u001b[0m",
      "\u001b[0;31mAttributeError\u001b[0m                            Traceback (most recent call last)",
      "Cell \u001b[0;32mIn[4], line 1\u001b[0m\n\u001b[0;32m----> 1\u001b[0m \u001b[43mTA\u001b[49m\u001b[38;5;241;43m.\u001b[39;49m\u001b[43mcreate_table\u001b[49m\u001b[43m(\u001b[49m\u001b[43mtarget_donut\u001b[49m\u001b[43m,\u001b[49m\u001b[43m \u001b[49m\u001b[38;5;241;43m0.05\u001b[39;49m\u001b[43m,\u001b[49m\u001b[43m \u001b[49m\u001b[38;5;241;43m1000\u001b[39;49m\u001b[43m,\u001b[49m\u001b[38;5;241;43m2\u001b[39;49m\u001b[43m,\u001b[49m\u001b[43m \u001b[49m\u001b[43mx0\u001b[49m\u001b[43m \u001b[49m\u001b[38;5;241;43m=\u001b[39;49m\u001b[43m \u001b[49m\u001b[43my\u001b[49m\u001b[43m,\u001b[49m\u001b[43m \u001b[49m\u001b[43mseed\u001b[49m\u001b[43m \u001b[49m\u001b[38;5;241;43m=\u001b[39;49m\u001b[43m \u001b[49m\u001b[38;5;241;43m12\u001b[39;49m\u001b[43m \u001b[49m\u001b[43m,\u001b[49m\u001b[43mchains\u001b[49m\u001b[38;5;241;43m=\u001b[39;49m\u001b[38;5;241;43m2\u001b[39;49m\u001b[43m)\u001b[49m\n",
      "File \u001b[0;32m~/Desktop/CUQIpy_project/CUQIpy-Benchmarks/TableAutomization.py:161\u001b[0m, in \u001b[0;36mcreate_table\u001b[0;34m(target, scale, Ns, Nb, x0, seed, chains)\u001b[0m\n\u001b[1;32m    159\u001b[0m     \u001b[38;5;28;01mfor\u001b[39;00m i \u001b[38;5;129;01min\u001b[39;00m \u001b[38;5;28mrange\u001b[39m(chains\u001b[38;5;241m-\u001b[39m\u001b[38;5;241m1\u001b[39m):\n\u001b[1;32m    160\u001b[0m         data\u001b[38;5;241m.\u001b[39mappend(precompute_samples(target,scale,Ns,Nb,x0,seed)[\u001b[38;5;241m0\u001b[39m])\n\u001b[0;32m--> 161\u001b[0m     rhat \u001b[38;5;241m=\u001b[39m \u001b[43mcompute_Rhat\u001b[49m\u001b[43m(\u001b[49m\u001b[43msamples\u001b[49m\u001b[43m,\u001b[49m\u001b[43mdata\u001b[49m\u001b[43m)\u001b[49m\n\u001b[1;32m    162\u001b[0m     \u001b[38;5;28mprint\u001b[39m(rhat)\n\u001b[1;32m    166\u001b[0m df \u001b[38;5;241m=\u001b[39m pd\u001b[38;5;241m.\u001b[39mDataFrame({\n\u001b[1;32m    167\u001b[0m     \u001b[38;5;124m\"\u001b[39m\u001b[38;5;124mSampling Method\u001b[39m\u001b[38;5;124m\"\u001b[39m: [\u001b[38;5;124m\"\u001b[39m\u001b[38;5;124mMH_fixed\u001b[39m\u001b[38;5;124m\"\u001b[39m, \u001b[38;5;124m\"\u001b[39m\u001b[38;5;124mMH_adapted\u001b[39m\u001b[38;5;124m\"\u001b[39m, \u001b[38;5;124m\"\u001b[39m\u001b[38;5;124mULA\u001b[39m\u001b[38;5;124m\"\u001b[39m, \u001b[38;5;124m\"\u001b[39m\u001b[38;5;124mMALA\u001b[39m\u001b[38;5;124m\"\u001b[39m, \u001b[38;5;124m\"\u001b[39m\u001b[38;5;124mNUTS\u001b[39m\u001b[38;5;124m\"\u001b[39m],\n\u001b[1;32m    168\u001b[0m     \u001b[38;5;124m\"\u001b[39m\u001b[38;5;124mNo. of Samples\u001b[39m\u001b[38;5;124m\"\u001b[39m: [Ns[\u001b[38;5;241m0\u001b[39m], Ns[\u001b[38;5;241m1\u001b[39m], Ns[\u001b[38;5;241m2\u001b[39m], Ns[\u001b[38;5;241m3\u001b[39m], Ns[\u001b[38;5;241m4\u001b[39m]],\n\u001b[0;32m   (...)\u001b[0m\n\u001b[1;32m    175\u001b[0m     \u001b[38;5;124m\"\u001b[39m\u001b[38;5;124mGradient\u001b[39m\u001b[38;5;124m\"\u001b[39m: [gradient[\u001b[38;5;241m0\u001b[39m], gradient[\u001b[38;5;241m1\u001b[39m], gradient[\u001b[38;5;241m2\u001b[39m], gradient[\u001b[38;5;241m3\u001b[39m], gradient[\u001b[38;5;241m4\u001b[39m]]\n\u001b[1;32m    176\u001b[0m })\n",
      "File \u001b[0;32m~/Desktop/CUQIpy_project/CUQIpy-Benchmarks/TableAutomization.py:132\u001b[0m, in \u001b[0;36mcompute_Rhat\u001b[0;34m(samples, data)\u001b[0m\n\u001b[1;32m    129\u001b[0m rhat\u001b[38;5;241m=\u001b[39m np\u001b[38;5;241m.\u001b[39mzeros((\u001b[38;5;241m5\u001b[39m, \u001b[38;5;241m2\u001b[39m))  \u001b[38;5;66;03m# Initialize the array for ESS values\u001b[39;00m\n\u001b[1;32m    131\u001b[0m \u001b[38;5;66;03m# Extract the Rhat from the precomputed samples\u001b[39;00m\n\u001b[0;32m--> 132\u001b[0m rhat[\u001b[38;5;241m0\u001b[39m] \u001b[38;5;241m=\u001b[39m \u001b[43msamples\u001b[49m\u001b[43m[\u001b[49m\u001b[38;5;124;43m'\u001b[39;49m\u001b[38;5;124;43mMH_fixed\u001b[39;49m\u001b[38;5;124;43m'\u001b[39;49m\u001b[43m]\u001b[49m\u001b[38;5;241;43m.\u001b[39;49m\u001b[43mcompute_rhat\u001b[49m\u001b[43m(\u001b[49m\u001b[43m[\u001b[49m\u001b[43m[\u001b[49m\u001b[43mitem\u001b[49m\u001b[43m[\u001b[49m\u001b[38;5;124;43m\"\u001b[39;49m\u001b[38;5;124;43mMH_fixed\u001b[39;49m\u001b[38;5;124;43m\"\u001b[39;49m\u001b[43m]\u001b[49m\u001b[43m]\u001b[49m\u001b[43m \u001b[49m\u001b[38;5;28;43;01mfor\u001b[39;49;00m\u001b[43m \u001b[49m\u001b[43mitem\u001b[49m\u001b[43m \u001b[49m\u001b[38;5;129;43;01min\u001b[39;49;00m\u001b[43m \u001b[49m\u001b[43mdata\u001b[49m\u001b[43m]\u001b[49m\u001b[43m)\u001b[49m\n\u001b[1;32m    133\u001b[0m rhat[\u001b[38;5;241m1\u001b[39m] \u001b[38;5;241m=\u001b[39m samples[\u001b[38;5;124m'\u001b[39m\u001b[38;5;124mMH_adapted\u001b[39m\u001b[38;5;124m'\u001b[39m]\u001b[38;5;241m.\u001b[39mcompute_rhat([[item[\u001b[38;5;124m\"\u001b[39m\u001b[38;5;124mMH_adapted\u001b[39m\u001b[38;5;124m\"\u001b[39m]] \u001b[38;5;28;01mfor\u001b[39;00m item \u001b[38;5;129;01min\u001b[39;00m data])\n\u001b[1;32m    134\u001b[0m rhat[\u001b[38;5;241m2\u001b[39m] \u001b[38;5;241m=\u001b[39m samples[\u001b[38;5;124m'\u001b[39m\u001b[38;5;124mULA\u001b[39m\u001b[38;5;124m'\u001b[39m]\u001b[38;5;241m.\u001b[39mcompute_rhat([[item[\u001b[38;5;124m\"\u001b[39m\u001b[38;5;124mULA\u001b[39m\u001b[38;5;124m\"\u001b[39m]] \u001b[38;5;28;01mfor\u001b[39;00m item \u001b[38;5;129;01min\u001b[39;00m data])\n",
      "File \u001b[0;32m~/Desktop/CUQIpy_project/CUQIpy/cuqi/samples/_samples.py:813\u001b[0m, in \u001b[0;36mSamples.compute_rhat\u001b[0;34m(self, chains, **kwargs)\u001b[0m\n\u001b[1;32m    811\u001b[0m n_chains \u001b[38;5;241m=\u001b[39m \u001b[38;5;28mlen\u001b[39m(chains)\n\u001b[1;32m    812\u001b[0m \u001b[38;5;28;01mfor\u001b[39;00m i \u001b[38;5;129;01min\u001b[39;00m \u001b[38;5;28mrange\u001b[39m(n_chains):\n\u001b[0;32m--> 813\u001b[0m     \u001b[38;5;28;01mif\u001b[39;00m \u001b[38;5;28mself\u001b[39m\u001b[38;5;241m.\u001b[39mgeometry \u001b[38;5;241m!=\u001b[39m \u001b[43mchains\u001b[49m\u001b[43m[\u001b[49m\u001b[43mi\u001b[49m\u001b[43m]\u001b[49m\u001b[38;5;241;43m.\u001b[39;49m\u001b[43mgeometry\u001b[49m:\n\u001b[1;32m    814\u001b[0m         \u001b[38;5;28;01mraise\u001b[39;00m \u001b[38;5;167;01mTypeError\u001b[39;00m(\u001b[38;5;124mf\u001b[39m\u001b[38;5;124m\"\u001b[39m\u001b[38;5;124mGeometry of chain \u001b[39m\u001b[38;5;132;01m{\u001b[39;00mi\u001b[38;5;132;01m}\u001b[39;00m\u001b[38;5;124m does not match Samples geometry.\u001b[39m\u001b[38;5;124m\"\u001b[39m)\n\u001b[1;32m    816\u001b[0m \u001b[38;5;28;01mif\u001b[39;00m \u001b[38;5;28mlen\u001b[39m(\u001b[38;5;28mself\u001b[39m\u001b[38;5;241m.\u001b[39msamples\u001b[38;5;241m.\u001b[39mshape) \u001b[38;5;241m!=\u001b[39m \u001b[38;5;241m2\u001b[39m:\n",
      "\u001b[0;31mAttributeError\u001b[0m: 'list' object has no attribute 'geometry'"
     ]
    }
   ],
   "source": [
    "TA.create_table(target_donut, 0.05, 1000,2, x0 = y, seed = 12 ,chains=2)"
   ]
  },
  {
   "cell_type": "code",
   "execution_count": 5,
   "metadata": {},
   "outputs": [
    {
     "name": "stdout",
     "output_type": "stream",
     "text": [
      "Sample 1002 / 1002\n",
      "\n",
      "Average acceptance rate: 0.851 \n",
      "\n",
      "Sample 1002 / 1002\n",
      "\n",
      "Average acceptance rate: 0.574 MCMC scale: 0.33174280419572777 \n",
      "\n",
      "Sample 1002 / 1002\n",
      "Sample 1002 / 1002\n",
      "Sample 1002 / 1002\n"
     ]
    },
    {
     "data": {
      "text/html": [
       "<div>\n",
       "<style scoped>\n",
       "    .dataframe tbody tr th:only-of-type {\n",
       "        vertical-align: middle;\n",
       "    }\n",
       "\n",
       "    .dataframe tbody tr th {\n",
       "        vertical-align: top;\n",
       "    }\n",
       "\n",
       "    .dataframe thead th {\n",
       "        text-align: right;\n",
       "    }\n",
       "</style>\n",
       "<table border=\"1\" class=\"dataframe\">\n",
       "  <thead>\n",
       "    <tr style=\"text-align: right;\">\n",
       "      <th></th>\n",
       "      <th>Sampling Method</th>\n",
       "      <th>No. of Samples</th>\n",
       "      <th>No. of Burn-ins</th>\n",
       "      <th>Scaling Factor</th>\n",
       "      <th>ESS (v0)</th>\n",
       "      <th>ESS (v1)</th>\n",
       "      <th>AR</th>\n",
       "      <th>LogPDF</th>\n",
       "      <th>Gradient</th>\n",
       "    </tr>\n",
       "  </thead>\n",
       "  <tbody>\n",
       "    <tr>\n",
       "      <th>0</th>\n",
       "      <td>MH_fixed</td>\n",
       "      <td>1000</td>\n",
       "      <td>2</td>\n",
       "      <td>0.05</td>\n",
       "      <td>5.210</td>\n",
       "      <td>1.445</td>\n",
       "      <td>0.851</td>\n",
       "      <td>1002.0</td>\n",
       "      <td>0.0</td>\n",
       "    </tr>\n",
       "    <tr>\n",
       "      <th>1</th>\n",
       "      <td>MH_adapted</td>\n",
       "      <td>1000</td>\n",
       "      <td>2</td>\n",
       "      <td>0.05</td>\n",
       "      <td>1.809</td>\n",
       "      <td>7.280</td>\n",
       "      <td>0.574</td>\n",
       "      <td>1002.0</td>\n",
       "      <td>0.0</td>\n",
       "    </tr>\n",
       "    <tr>\n",
       "      <th>2</th>\n",
       "      <td>ULA</td>\n",
       "      <td>1000</td>\n",
       "      <td>2</td>\n",
       "      <td>0.05</td>\n",
       "      <td>2.412</td>\n",
       "      <td>1.944</td>\n",
       "      <td>1.000</td>\n",
       "      <td>1002.0</td>\n",
       "      <td>1002.0</td>\n",
       "    </tr>\n",
       "    <tr>\n",
       "      <th>3</th>\n",
       "      <td>MALA</td>\n",
       "      <td>1000</td>\n",
       "      <td>2</td>\n",
       "      <td>0.05</td>\n",
       "      <td>1000.000</td>\n",
       "      <td>1000.000</td>\n",
       "      <td>0.000</td>\n",
       "      <td>1002.0</td>\n",
       "      <td>1002.0</td>\n",
       "    </tr>\n",
       "    <tr>\n",
       "      <th>4</th>\n",
       "      <td>NUTS</td>\n",
       "      <td>1000</td>\n",
       "      <td>2</td>\n",
       "      <td>0.05</td>\n",
       "      <td>252.605</td>\n",
       "      <td>316.402</td>\n",
       "      <td>0.961</td>\n",
       "      <td>33559.0</td>\n",
       "      <td>33559.0</td>\n",
       "    </tr>\n",
       "  </tbody>\n",
       "</table>\n",
       "</div>"
      ],
      "text/plain": [
       "  Sampling Method  No. of Samples  No. of Burn-ins  Scaling Factor  ESS (v0)  \\\n",
       "0        MH_fixed            1000                2            0.05     5.210   \n",
       "1      MH_adapted            1000                2            0.05     1.809   \n",
       "2             ULA            1000                2            0.05     2.412   \n",
       "3            MALA            1000                2            0.05  1000.000   \n",
       "4            NUTS            1000                2            0.05   252.605   \n",
       "\n",
       "   ESS (v1)     AR   LogPDF  Gradient  \n",
       "0     1.445  0.851   1002.0       0.0  \n",
       "1     7.280  0.574   1002.0       0.0  \n",
       "2     1.944  1.000   1002.0    1002.0  \n",
       "3  1000.000  0.000   1002.0    1002.0  \n",
       "4   316.402  0.961  33559.0   33559.0  "
      ]
     },
     "execution_count": 5,
     "metadata": {},
     "output_type": "execute_result"
    }
   ],
   "source": [
    "TA.create_table(target_donut, 0.05, 1000,2, x0 = np.array([0,0]), seed = 12 )"
   ]
  },
  {
   "cell_type": "code",
   "execution_count": null,
   "metadata": {},
   "outputs": [],
   "source": []
  }
 ],
 "metadata": {
  "kernelspec": {
   "display_name": "Python 3",
   "language": "python",
   "name": "python3"
  },
  "language_info": {
   "codemirror_mode": {
    "name": "ipython",
    "version": 3
   },
   "file_extension": ".py",
   "mimetype": "text/x-python",
   "name": "python",
   "nbconvert_exporter": "python",
   "pygments_lexer": "ipython3",
   "version": "3.12.4"
  }
 },
 "nbformat": 4,
 "nbformat_minor": 2
}
