{
 "cells": [
  {
   "cell_type": "code",
   "execution_count": 9,
   "metadata": {},
   "outputs": [],
   "source": [
    "import sys\n",
    "import cuqi\n",
    "sys.path.append(\"..\") \n",
    "import numpy as np\n",
    "from scipy.sparse import diags\n",
    "import matplotlib.pyplot as plt\n",
    "import inspect\n",
    "\n",
    "# Set rng seed \n",
    "np.random.seed(0)\n",
    "from cuqi.testproblem import Deconvolution1D\n",
    "from cuqi.model import LinearModel\n",
    "from cuqi.distribution import Gaussian, LMRF, CMRF\n",
    "from cuqi.sampler import CWMH, ULA, MH\n",
    "from cuqi.problem import BayesianProblem\n",
    "from cuqi.samples import Samples\n",
    "import numpy as np\n",
    "from cuqi.distribution import Distribution, DistributionGallery, Gaussian, JointDistribution, UserDefinedDistribution\n",
    "from cuqi.model import LinearModel\n",
    "from cuqi.problem import BayesianProblem\n",
    "import numpy as np\n",
    "from cuqi.problem import BayesianProblem\n",
    "from cuqi.distribution import Distribution, JointDistribution, UserDefinedDistribution, Gaussian\n",
    "import cuqi\n",
    "import numpy as np\n",
    "import os\n",
    "import sys\n",
    "sys.path.append(os.path.abspath('..'))\n",
    "from utilities import TableAutomization as TA\n",
    "import benchmarksClass as BC \n"
   ]
  },
  {
   "cell_type": "code",
   "execution_count": 24,
   "metadata": {},
   "outputs": [],
   "source": [
    "model, data, probInfo = Deconvolution1D(dim=50, phantom=\"Square\").get_components()"
   ]
  },
  {
   "cell_type": "code",
   "execution_count": 25,
   "metadata": {},
   "outputs": [
    {
     "data": {
      "text/plain": [
       "CUQI LinearModel: Continuous1D(50,) -> Continuous1D(50,).\n",
       "    Forward parameters: ['x']."
      ]
     },
     "execution_count": 25,
     "metadata": {},
     "output_type": "execute_result"
    }
   ],
   "source": [
    "model"
   ]
  },
  {
   "cell_type": "code",
   "execution_count": 26,
   "metadata": {},
   "outputs": [
    {
     "data": {
      "text/plain": [
       "CUQIarray: NumPy array wrapped with geometry.\n",
       "---------------------------------------------\n",
       "\n",
       "Geometry:\n",
       " _DefaultGeometry1D(50,)\n",
       "\n",
       "Parameters:\n",
       " True\n",
       "\n",
       "Array:\n",
       "CUQIarray([0.03328051, 0.02122702, 0.03021244, 0.04770357, 0.04969733,\n",
       "           0.02790432, 0.05481805, 0.05246519, 0.06264134, 0.07848857,\n",
       "           0.08749239, 0.11313161, 0.11947003, 0.12690593, 0.14430128,\n",
       "           0.15746615, 0.18314994, 0.17974866, 0.19772064, 0.19772512,\n",
       "           0.19099951, 0.2316426 , 0.24040568, 0.22888517, 0.26131043,\n",
       "           0.22406923, 0.23676441, 0.22988948, 0.24043421, 0.23122299,\n",
       "           0.20781555, 0.19837159, 0.17292239, 0.14840118, 0.15065028,\n",
       "           0.14142613, 0.13799208, 0.12388345, 0.09471561, 0.08302892,\n",
       "           0.06389705, 0.04947335, 0.03691606, 0.06482492, 0.03258057,\n",
       "           0.02664101, 0.01276669, 0.02819996, 0.00108647, 0.01351258])"
      ]
     },
     "execution_count": 26,
     "metadata": {},
     "output_type": "execute_result"
    }
   ],
   "source": [
    "data"
   ]
  },
  {
   "cell_type": "code",
   "execution_count": 27,
   "metadata": {},
   "outputs": [
    {
     "data": {
      "text/plain": [
       "ProblemInfo with the following set attributes:\n",
       "['infoString', 'exactData', 'exactSolution']\n",
       " infoString: Noise type: Additive Gaussian with std: 0.01"
      ]
     },
     "execution_count": 27,
     "metadata": {},
     "output_type": "execute_result"
    }
   ],
   "source": [
    "probInfo"
   ]
  },
  {
   "cell_type": "code",
   "execution_count": 28,
   "metadata": {},
   "outputs": [
    {
     "ename": "SyntaxError",
     "evalue": "positional argument follows keyword argument (2479236471.py, line 3)",
     "output_type": "error",
     "traceback": [
      "\u001b[0;36m  Cell \u001b[0;32mIn[28], line 3\u001b[0;36m\u001b[0m\n\u001b[0;31m    prior = Gaussian(mean=np.zeros(model.domain_dim), 0.2)\u001b[0m\n\u001b[0m                                                         ^\u001b[0m\n\u001b[0;31mSyntaxError\u001b[0m\u001b[0;31m:\u001b[0m positional argument follows keyword argument\n"
     ]
    }
   ],
   "source": [
    "std_prior = 0.2\n",
    "\n",
    "prior = Gaussian(mean=np.zeros(model.domain_dim), 0.2)"
   ]
  },
  {
   "cell_type": "code",
   "execution_count": 19,
   "metadata": {},
   "outputs": [],
   "source": [
    "likelihood = Gaussian(mean=model).to_likelihood(data)"
   ]
  },
  {
   "cell_type": "code",
   "execution_count": 20,
   "metadata": {},
   "outputs": [
    {
     "name": "stderr",
     "output_type": "stream",
     "text": [
      "/opt/conda/envs/env/lib/python3.10/site-packages/cuqi/utilities/_get_python_variable_name.py:32: UserWarning: Could not automatically find variable name for object: CUQI Gaussian. Conditioning variables ['cov', 'x'].. Use keyword `name` when defining distribution to specify a name. If code runs slowly and variable name is not needed set config.MAX_STACK_SEARCH_DEPTH to 0.\n",
      "  warnings.warn(\"Could not automatically find variable name for object: {}. Use keyword `name` when defining distribution to specify a name. If code runs slowly and variable name is not needed set config.MAX_STACK_SEARCH_DEPTH to 0.\".format(var))\n"
     ]
    },
    {
     "ename": "ValueError",
     "evalue": "Every density parameter must have a distribution (prior). Missing prior for ['x', 'cov'].",
     "output_type": "error",
     "traceback": [
      "\u001b[0;31m---------------------------------------------------------------------------\u001b[0m",
      "\u001b[0;31mValueError\u001b[0m                                Traceback (most recent call last)",
      "Cell \u001b[0;32mIn[20], line 1\u001b[0m\n\u001b[0;32m----> 1\u001b[0m IP \u001b[38;5;241m=\u001b[39m \u001b[43mBayesianProblem\u001b[49m\u001b[43m(\u001b[49m\u001b[43mlikelihood\u001b[49m\u001b[43m,\u001b[49m\u001b[43m \u001b[49m\u001b[43mprior\u001b[49m\u001b[43m)\u001b[49m\n",
      "File \u001b[0;32m/opt/conda/envs/env/lib/python3.10/site-packages/cuqi/problem/_problem.py:149\u001b[0m, in \u001b[0;36mBayesianProblem.__init__\u001b[0;34m(self, *densities, **data)\u001b[0m\n\u001b[1;32m    148\u001b[0m \u001b[38;5;28;01mdef\u001b[39;00m \u001b[38;5;21m__init__\u001b[39m(\u001b[38;5;28mself\u001b[39m, \u001b[38;5;241m*\u001b[39mdensities: Density, \u001b[38;5;241m*\u001b[39m\u001b[38;5;241m*\u001b[39mdata: np\u001b[38;5;241m.\u001b[39mndarray):\n\u001b[0;32m--> 149\u001b[0m     \u001b[38;5;28mself\u001b[39m\u001b[38;5;241m.\u001b[39m_target \u001b[38;5;241m=\u001b[39m \u001b[43mJointDistribution\u001b[49m\u001b[43m(\u001b[49m\u001b[38;5;241;43m*\u001b[39;49m\u001b[43mdensities\u001b[49m\u001b[43m)\u001b[49m(\u001b[38;5;241m*\u001b[39m\u001b[38;5;241m*\u001b[39mdata)\n",
      "File \u001b[0;32m/opt/conda/envs/env/lib/python3.10/site-packages/cuqi/distribution/_joint_distribution.py:74\u001b[0m, in \u001b[0;36mJointDistribution.__init__\u001b[0;34m(self, *densities)\u001b[0m\n\u001b[1;32m     72\u001b[0m cond_vars \u001b[38;5;241m=\u001b[39m \u001b[38;5;28mself\u001b[39m\u001b[38;5;241m.\u001b[39m_get_conditioning_variables()\n\u001b[1;32m     73\u001b[0m \u001b[38;5;28;01mif\u001b[39;00m \u001b[38;5;28mlen\u001b[39m(cond_vars) \u001b[38;5;241m>\u001b[39m \u001b[38;5;241m0\u001b[39m:\n\u001b[0;32m---> 74\u001b[0m     \u001b[38;5;28;01mraise\u001b[39;00m \u001b[38;5;167;01mValueError\u001b[39;00m(\u001b[38;5;124mf\u001b[39m\u001b[38;5;124m\"\u001b[39m\u001b[38;5;124mEvery density parameter must have a distribution (prior). Missing prior for \u001b[39m\u001b[38;5;132;01m{\u001b[39;00mcond_vars\u001b[38;5;132;01m}\u001b[39;00m\u001b[38;5;124m.\u001b[39m\u001b[38;5;124m\"\u001b[39m)\n",
      "\u001b[0;31mValueError\u001b[0m: Every density parameter must have a distribution (prior). Missing prior for ['x', 'cov']."
     ]
    }
   ],
   "source": [
    "IP = BayesianProblem(likelihood, prior)"
   ]
  },
  {
   "cell_type": "code",
   "execution_count": 11,
   "metadata": {},
   "outputs": [
    {
     "ename": "NotImplementedError",
     "evalue": "_gradient is not implemented for Normal. Consider enabling finite difference approximation of the gradient by calling the Normal method enable_FD().",
     "output_type": "error",
     "traceback": [
      "\u001b[0;31m---------------------------------------------------------------------------\u001b[0m",
      "\u001b[0;31mNotImplementedError\u001b[0m                       Traceback (most recent call last)",
      "Cell \u001b[0;32mIn[11], line 6\u001b[0m\n\u001b[1;32m      4\u001b[0m pX \u001b[38;5;241m=\u001b[39m cuqi\u001b[38;5;241m.\u001b[39mdistribution\u001b[38;5;241m.\u001b[39mNormal(mean, std)\n\u001b[1;32m      5\u001b[0m sampler \u001b[38;5;241m=\u001b[39m ULA(target \u001b[38;5;241m=\u001b[39m pX, scale \u001b[38;5;241m=\u001b[39m \u001b[38;5;241m0.5\u001b[39m, x0 \u001b[38;5;241m=\u001b[39m \u001b[38;5;241m1\u001b[39m)\n\u001b[0;32m----> 6\u001b[0m s \u001b[38;5;241m=\u001b[39m \u001b[43msampler\u001b[49m\u001b[38;5;241;43m.\u001b[39;49m\u001b[43msample\u001b[49m\u001b[43m(\u001b[49m\u001b[38;5;241;43m10\u001b[39;49m\u001b[43m,\u001b[49m\u001b[43m \u001b[49m\u001b[38;5;241;43m2\u001b[39;49m\u001b[43m)\u001b[49m\n\u001b[1;32m      7\u001b[0m \u001b[38;5;28mprint\u001b[39m(s)\n",
      "File \u001b[0;32m/opt/conda/envs/env/lib/python3.10/site-packages/cuqi/sampler/_sampler.py:91\u001b[0m, in \u001b[0;36mSampler.sample\u001b[0;34m(self, N, Nb)\u001b[0m\n\u001b[1;32m     89\u001b[0m \u001b[38;5;28;01mdef\u001b[39;00m \u001b[38;5;21msample\u001b[39m(\u001b[38;5;28mself\u001b[39m,N,Nb\u001b[38;5;241m=\u001b[39m\u001b[38;5;241m0\u001b[39m):\n\u001b[1;32m     90\u001b[0m     \u001b[38;5;66;03m# Get samples from the samplers sample method\u001b[39;00m\n\u001b[0;32m---> 91\u001b[0m     result \u001b[38;5;241m=\u001b[39m \u001b[38;5;28;43mself\u001b[39;49m\u001b[38;5;241;43m.\u001b[39;49m\u001b[43m_sample\u001b[49m\u001b[43m(\u001b[49m\u001b[43mN\u001b[49m\u001b[43m,\u001b[49m\u001b[43mNb\u001b[49m\u001b[43m)\u001b[49m\n\u001b[1;32m     92\u001b[0m     \u001b[38;5;28;01mreturn\u001b[39;00m \u001b[38;5;28mself\u001b[39m\u001b[38;5;241m.\u001b[39m_create_Sample_object(result,N\u001b[38;5;241m+\u001b[39mNb)\n",
      "File \u001b[0;32m/opt/conda/envs/env/lib/python3.10/site-packages/cuqi/sampler/_langevin_algorithm.py:83\u001b[0m, in \u001b[0;36mULA._sample\u001b[0;34m(self, N, Nb)\u001b[0m\n\u001b[1;32m     81\u001b[0m \u001b[38;5;66;03m# initial state\u001b[39;00m\n\u001b[1;32m     82\u001b[0m samples[:, \u001b[38;5;241m0\u001b[39m] \u001b[38;5;241m=\u001b[39m \u001b[38;5;28mself\u001b[39m\u001b[38;5;241m.\u001b[39mx0\n\u001b[0;32m---> 83\u001b[0m target_eval[\u001b[38;5;241m0\u001b[39m], g_target_eval[:,\u001b[38;5;241m0\u001b[39m] \u001b[38;5;241m=\u001b[39m \u001b[38;5;28mself\u001b[39m\u001b[38;5;241m.\u001b[39mtarget\u001b[38;5;241m.\u001b[39mlogd(\u001b[38;5;28mself\u001b[39m\u001b[38;5;241m.\u001b[39mx0), \u001b[38;5;28;43mself\u001b[39;49m\u001b[38;5;241;43m.\u001b[39;49m\u001b[43mtarget\u001b[49m\u001b[38;5;241;43m.\u001b[39;49m\u001b[43mgradient\u001b[49m\u001b[43m(\u001b[49m\u001b[38;5;28;43mself\u001b[39;49m\u001b[38;5;241;43m.\u001b[39;49m\u001b[43mx0\u001b[49m\u001b[43m)\u001b[49m\n\u001b[1;32m     84\u001b[0m acc[\u001b[38;5;241m0\u001b[39m] \u001b[38;5;241m=\u001b[39m \u001b[38;5;241m1\u001b[39m\n\u001b[1;32m     86\u001b[0m \u001b[38;5;66;03m# ULA\u001b[39;00m\n",
      "File \u001b[0;32m/opt/conda/envs/env/lib/python3.10/site-packages/cuqi/density/_density.py:102\u001b[0m, in \u001b[0;36mDensity.gradient\u001b[0;34m(self, *args, **kwargs)\u001b[0m\n\u001b[1;32m     98\u001b[0m     \u001b[38;5;28;01mreturn\u001b[39;00m cuqi\u001b[38;5;241m.\u001b[39mutilities\u001b[38;5;241m.\u001b[39mapprox_gradient(\n\u001b[1;32m     99\u001b[0m         \u001b[38;5;28mself\u001b[39m\u001b[38;5;241m.\u001b[39mlogd, \u001b[38;5;241m*\u001b[39margs, \u001b[38;5;241m*\u001b[39m\u001b[38;5;241m*\u001b[39mkwargs, epsilon\u001b[38;5;241m=\u001b[39m\u001b[38;5;28mself\u001b[39m\u001b[38;5;241m.\u001b[39mFD_epsilon)\n\u001b[1;32m    101\u001b[0m \u001b[38;5;66;03m# Otherwise use the implemented gradient\u001b[39;00m\n\u001b[0;32m--> 102\u001b[0m \u001b[38;5;28;01mreturn\u001b[39;00m \u001b[38;5;28;43mself\u001b[39;49m\u001b[38;5;241;43m.\u001b[39;49m\u001b[43m_gradient\u001b[49m\u001b[43m(\u001b[49m\u001b[38;5;241;43m*\u001b[39;49m\u001b[43margs\u001b[49m\u001b[43m,\u001b[49m\u001b[43m \u001b[49m\u001b[38;5;241;43m*\u001b[39;49m\u001b[38;5;241;43m*\u001b[39;49m\u001b[43mkwargs\u001b[49m\u001b[43m)\u001b[49m\n",
      "File \u001b[0;32m/opt/conda/envs/env/lib/python3.10/site-packages/cuqi/distribution/_distribution.py:235\u001b[0m, in \u001b[0;36mDistribution._gradient\u001b[0;34m(self, *args, **kwargs)\u001b[0m\n\u001b[1;32m    234\u001b[0m \u001b[38;5;28;01mdef\u001b[39;00m \u001b[38;5;21m_gradient\u001b[39m(\u001b[38;5;28mself\u001b[39m, \u001b[38;5;241m*\u001b[39margs, \u001b[38;5;241m*\u001b[39m\u001b[38;5;241m*\u001b[39mkwargs):\n\u001b[0;32m--> 235\u001b[0m     \u001b[38;5;28;01mraise\u001b[39;00m \u001b[38;5;167;01mNotImplementedError\u001b[39;00m(\n\u001b[1;32m    236\u001b[0m         \u001b[38;5;124mf\u001b[39m\u001b[38;5;124m\"\u001b[39m\u001b[38;5;124m_gradient is not implemented for \u001b[39m\u001b[38;5;132;01m{\u001b[39;00m\u001b[38;5;28mself\u001b[39m\u001b[38;5;241m.\u001b[39m\u001b[38;5;18m__class__\u001b[39m\u001b[38;5;241m.\u001b[39m\u001b[38;5;18m__name__\u001b[39m\u001b[38;5;132;01m}\u001b[39;00m\u001b[38;5;124m. \u001b[39m\u001b[38;5;124m\"\u001b[39m \u001b[38;5;241m+\u001b[39m\n\u001b[1;32m    237\u001b[0m         \u001b[38;5;124m\"\u001b[39m\u001b[38;5;124mConsider enabling finite difference approximation of the \u001b[39m\u001b[38;5;124m\"\u001b[39m \u001b[38;5;241m+\u001b[39m\n\u001b[1;32m    238\u001b[0m         \u001b[38;5;124mf\u001b[39m\u001b[38;5;124m\"\u001b[39m\u001b[38;5;124mgradient by calling the \u001b[39m\u001b[38;5;132;01m{\u001b[39;00m\u001b[38;5;28mself\u001b[39m\u001b[38;5;241m.\u001b[39m\u001b[38;5;18m__class__\u001b[39m\u001b[38;5;241m.\u001b[39m\u001b[38;5;18m__name__\u001b[39m\u001b[38;5;132;01m}\u001b[39;00m\u001b[38;5;124m method \u001b[39m\u001b[38;5;124m\"\u001b[39m \u001b[38;5;241m+\u001b[39m\n\u001b[1;32m    239\u001b[0m         \u001b[38;5;124m\"\u001b[39m\u001b[38;5;124menable_FD().\u001b[39m\u001b[38;5;124m\"\u001b[39m)\n",
      "\u001b[0;31mNotImplementedError\u001b[0m: _gradient is not implemented for Normal. Consider enabling finite difference approximation of the gradient by calling the Normal method enable_FD()."
     ]
    }
   ],
   "source": [
    "mean = -2.0\n",
    "std = 4.0\n",
    "\n",
    "pX = cuqi.distribution.Normal(mean, std)\n",
    "sampler = MH(target = pX, scale = 0.5, x0 = 1)\n",
    "s = sampler.sample(10, 2)\n",
    "print(s)\n"
   ]
  },
  {
   "cell_type": "code",
   "execution_count": 5,
   "metadata": {},
   "outputs": [
    {
     "name": "stdout",
     "output_type": "stream",
     "text": [
      "Sample 220 / 220\n",
      "\n",
      "Average acceptance rate: 0.94 \n",
      "\n"
     ]
    },
    {
     "ename": "IndexError",
     "evalue": "too many indices for array: array is 0-dimensional, but 1 were indexed",
     "output_type": "error",
     "traceback": [
      "\u001b[0;31m---------------------------------------------------------------------------\u001b[0m",
      "\u001b[0;31mIndexError\u001b[0m                                Traceback (most recent call last)",
      "Cell \u001b[0;32mIn[5], line 1\u001b[0m\n\u001b[0;32m----> 1\u001b[0m df\u001b[38;5;241m=\u001b[39m \u001b[43mTA\u001b[49m\u001b[38;5;241;43m.\u001b[39;49m\u001b[43mcreate_comparison\u001b[49m\u001b[43m(\u001b[49m\u001b[43mdim\u001b[49m\u001b[43m \u001b[49m\u001b[38;5;241;43m=\u001b[39;49m\u001b[38;5;241;43m1\u001b[39;49m\u001b[43m,\u001b[49m\u001b[43m \u001b[49m\u001b[43mtarget\u001b[49m\u001b[43m \u001b[49m\u001b[38;5;241;43m=\u001b[39;49m\u001b[43m \u001b[49m\u001b[43mpX\u001b[49m\u001b[43m,\u001b[49m\u001b[43m \u001b[49m\u001b[43mscale\u001b[49m\u001b[43m \u001b[49m\u001b[38;5;241;43m=\u001b[39;49m\u001b[43m \u001b[49m\u001b[38;5;241;43m0.5\u001b[39;49m\u001b[43m,\u001b[49m\u001b[43m \u001b[49m\u001b[43mNs\u001b[49m\u001b[43m \u001b[49m\u001b[38;5;241;43m=\u001b[39;49m\u001b[38;5;241;43m200\u001b[39;49m\u001b[43m,\u001b[49m\u001b[43m \u001b[49m\u001b[43mNb\u001b[49m\u001b[43m \u001b[49m\u001b[38;5;241;43m=\u001b[39;49m\u001b[43m \u001b[49m\u001b[38;5;241;43m20\u001b[39;49m\u001b[43m,\u001b[49m\u001b[43m  \u001b[49m\u001b[43mx0\u001b[49m\u001b[43m \u001b[49m\u001b[38;5;241;43m=\u001b[39;49m\u001b[43m \u001b[49m\u001b[43mnp\u001b[49m\u001b[38;5;241;43m.\u001b[39;49m\u001b[43marray\u001b[49m\u001b[43m(\u001b[49m\u001b[43m[\u001b[49m\u001b[38;5;241;43m1\u001b[39;49m\u001b[43m]\u001b[49m\u001b[43m)\u001b[49m\u001b[43m,\u001b[49m\u001b[43m \u001b[49m\u001b[43mseed\u001b[49m\u001b[38;5;241;43m=\u001b[39;49m\u001b[38;5;241;43m12\u001b[39;49m\u001b[43m,\u001b[49m\u001b[43m \u001b[49m\u001b[43mchains\u001b[49m\u001b[43m \u001b[49m\u001b[38;5;241;43m=\u001b[39;49m\u001b[43m \u001b[49m\u001b[38;5;241;43m2\u001b[39;49m\u001b[43m)\u001b[49m\n",
      "File \u001b[0;32m/app/CUQIpy-Benchmarks/sandbox/../utilities/TableAutomization.py:241\u001b[0m, in \u001b[0;36mcreate_comparison\u001b[0;34m(dim, target, scale, Ns, Nb, x0, seed, chains, selected_criteria, selected_methods)\u001b[0m\n\u001b[1;32m    221\u001b[0m \u001b[38;5;250m\u001b[39m\u001b[38;5;124;03m\"\"\"\u001b[39;00m\n\u001b[1;32m    222\u001b[0m \u001b[38;5;124;03mCreate a table comparing various sampling methods with ESS values.\u001b[39;00m\n\u001b[1;32m    223\u001b[0m \u001b[38;5;124;03m\u001b[39;00m\n\u001b[0;32m   (...)\u001b[0m\n\u001b[1;32m    237\u001b[0m \u001b[38;5;124;03mplot : matplotlib figure, plot of the samples\u001b[39;00m\n\u001b[1;32m    238\u001b[0m \u001b[38;5;124;03m\"\"\"\u001b[39;00m\n\u001b[1;32m    240\u001b[0m \u001b[38;5;66;03m# Run precomputation\u001b[39;00m\n\u001b[0;32m--> 241\u001b[0m samples, pr,  scale, Ns, Nb \u001b[38;5;241m=\u001b[39m \u001b[43mprecompute_samples\u001b[49m\u001b[43m(\u001b[49m\u001b[43mtarget\u001b[49m\u001b[43m,\u001b[49m\u001b[43m \u001b[49m\u001b[43mscale\u001b[49m\u001b[43m,\u001b[49m\u001b[43m \u001b[49m\u001b[43mNs\u001b[49m\u001b[43m,\u001b[49m\u001b[43m \u001b[49m\u001b[43mNb\u001b[49m\u001b[43m,\u001b[49m\u001b[43m \u001b[49m\u001b[43mx0\u001b[49m\u001b[43m,\u001b[49m\u001b[43m \u001b[49m\u001b[43mseed\u001b[49m\u001b[43m,\u001b[49m\u001b[43m \u001b[49m\u001b[43mselected_methods\u001b[49m\u001b[43m)\u001b[49m\n\u001b[1;32m    243\u001b[0m df_dict \u001b[38;5;241m=\u001b[39m {\n\u001b[1;32m    244\u001b[0m     \u001b[38;5;124m\"\u001b[39m\u001b[38;5;124mMethod\u001b[39m\u001b[38;5;124m\"\u001b[39m: selected_methods,\n\u001b[1;32m    245\u001b[0m     \u001b[38;5;124m\"\u001b[39m\u001b[38;5;124mSamples\u001b[39m\u001b[38;5;124m\"\u001b[39m: [Ns[i] \u001b[38;5;28;01mfor\u001b[39;00m i \u001b[38;5;129;01min\u001b[39;00m \u001b[38;5;28mrange\u001b[39m(\u001b[38;5;28mlen\u001b[39m(selected_methods))],\n\u001b[0;32m   (...)\u001b[0m\n\u001b[1;32m    249\u001b[0m \n\u001b[1;32m    250\u001b[0m }\n\u001b[1;32m    252\u001b[0m \u001b[38;5;66;03m# Conditionally compute and add the selected metrics to the DataFrame dictionary\u001b[39;00m\n",
      "File \u001b[0;32m/app/CUQIpy-Benchmarks/sandbox/../utilities/TableAutomization.py:110\u001b[0m, in \u001b[0;36mprecompute_samples\u001b[0;34m(target, scale, Ns, Nb, x0, seed, selected_methods)\u001b[0m\n\u001b[1;32m    108\u001b[0m     \u001b[38;5;28;01mif\u001b[39;00m method \u001b[38;5;129;01min\u001b[39;00m method_mapping:\n\u001b[1;32m    109\u001b[0m         mcmc_method, adapted \u001b[38;5;241m=\u001b[39m method_mapping[method]\n\u001b[0;32m--> 110\u001b[0m         samples[method], pr[method] \u001b[38;5;241m=\u001b[39m \u001b[43mMCMC_sampling\u001b[49m\u001b[43m(\u001b[49m\u001b[43mtarget\u001b[49m\u001b[43m,\u001b[49m\u001b[43m \u001b[49m\u001b[43mmcmc_method\u001b[49m\u001b[43m,\u001b[49m\u001b[43m \u001b[49m\u001b[43madapted\u001b[49m\u001b[43m,\u001b[49m\u001b[43m \u001b[49m\u001b[43mscale\u001b[49m\u001b[43m[\u001b[49m\u001b[43midx\u001b[49m\u001b[43m]\u001b[49m\u001b[43m,\u001b[49m\u001b[43m \u001b[49m\u001b[43mNs\u001b[49m\u001b[43m[\u001b[49m\u001b[43midx\u001b[49m\u001b[43m]\u001b[49m\u001b[43m,\u001b[49m\u001b[43m \u001b[49m\u001b[43mNb\u001b[49m\u001b[43m[\u001b[49m\u001b[43midx\u001b[49m\u001b[43m]\u001b[49m\u001b[43m,\u001b[49m\u001b[43m \u001b[49m\u001b[43mx0\u001b[49m\u001b[43m,\u001b[49m\u001b[43m \u001b[49m\u001b[43mseed\u001b[49m\u001b[43m)\u001b[49m\n\u001b[1;32m    112\u001b[0m \u001b[38;5;28;01mreturn\u001b[39;00m samples, pr, scale, Ns, Nb\n",
      "File \u001b[0;32m/app/CUQIpy-Benchmarks/sandbox/../utilities/TableAutomization.py:54\u001b[0m, in \u001b[0;36mMCMC_sampling\u001b[0;34m(target, method, adapted, scale, Ns, Nb, x0, seed)\u001b[0m\n\u001b[1;32m     52\u001b[0m         x \u001b[38;5;241m=\u001b[39m sampler\u001b[38;5;241m.\u001b[39msample_adapt(Ns,Nb)\n\u001b[1;32m     53\u001b[0m     \u001b[38;5;28;01melse\u001b[39;00m: \n\u001b[0;32m---> 54\u001b[0m         x \u001b[38;5;241m=\u001b[39m \u001b[43msampler\u001b[49m\u001b[38;5;241;43m.\u001b[39;49m\u001b[43msample\u001b[49m\u001b[43m(\u001b[49m\u001b[43mNs\u001b[49m\u001b[43m,\u001b[49m\u001b[43mNb\u001b[49m\u001b[43m)\u001b[49m\n\u001b[1;32m     56\u001b[0m \u001b[38;5;28;01mfinally\u001b[39;00m:\n\u001b[1;32m     57\u001b[0m     pr\u001b[38;5;241m.\u001b[39mdisable()\n",
      "File \u001b[0;32m/opt/conda/envs/env/lib/python3.10/site-packages/cuqi/sampler/_sampler.py:91\u001b[0m, in \u001b[0;36mSampler.sample\u001b[0;34m(self, N, Nb)\u001b[0m\n\u001b[1;32m     89\u001b[0m \u001b[38;5;28;01mdef\u001b[39;00m \u001b[38;5;21msample\u001b[39m(\u001b[38;5;28mself\u001b[39m,N,Nb\u001b[38;5;241m=\u001b[39m\u001b[38;5;241m0\u001b[39m):\n\u001b[1;32m     90\u001b[0m     \u001b[38;5;66;03m# Get samples from the samplers sample method\u001b[39;00m\n\u001b[0;32m---> 91\u001b[0m     result \u001b[38;5;241m=\u001b[39m \u001b[38;5;28;43mself\u001b[39;49m\u001b[38;5;241;43m.\u001b[39;49m\u001b[43m_sample\u001b[49m\u001b[43m(\u001b[49m\u001b[43mN\u001b[49m\u001b[43m,\u001b[49m\u001b[43mNb\u001b[49m\u001b[43m)\u001b[49m\n\u001b[1;32m     92\u001b[0m     \u001b[38;5;28;01mreturn\u001b[39;00m \u001b[38;5;28mself\u001b[39m\u001b[38;5;241m.\u001b[39m_create_Sample_object(result,N\u001b[38;5;241m+\u001b[39mNb)\n",
      "File \u001b[0;32m/opt/conda/envs/env/lib/python3.10/site-packages/cuqi/sampler/_cwmh.py:96\u001b[0m, in \u001b[0;36mCWMH._sample\u001b[0;34m(self, N, Nb)\u001b[0m\n\u001b[1;32m     93\u001b[0m \u001b[38;5;66;03m# run MCMC\u001b[39;00m\n\u001b[1;32m     94\u001b[0m \u001b[38;5;28;01mfor\u001b[39;00m s \u001b[38;5;129;01min\u001b[39;00m \u001b[38;5;28mrange\u001b[39m(Ns\u001b[38;5;241m-\u001b[39m\u001b[38;5;241m1\u001b[39m):\n\u001b[1;32m     95\u001b[0m     \u001b[38;5;66;03m# run component by component\u001b[39;00m\n\u001b[0;32m---> 96\u001b[0m     samples[:, s\u001b[38;5;241m+\u001b[39m\u001b[38;5;241m1\u001b[39m], target_eval[s\u001b[38;5;241m+\u001b[39m\u001b[38;5;241m1\u001b[39m], acc[:, s\u001b[38;5;241m+\u001b[39m\u001b[38;5;241m1\u001b[39m] \u001b[38;5;241m=\u001b[39m \u001b[38;5;28;43mself\u001b[39;49m\u001b[38;5;241;43m.\u001b[39;49m\u001b[43msingle_update\u001b[49m\u001b[43m(\u001b[49m\u001b[43msamples\u001b[49m\u001b[43m[\u001b[49m\u001b[43m:\u001b[49m\u001b[43m,\u001b[49m\u001b[43m \u001b[49m\u001b[43ms\u001b[49m\u001b[43m]\u001b[49m\u001b[43m,\u001b[49m\u001b[43m \u001b[49m\u001b[43mtarget_eval\u001b[49m\u001b[43m[\u001b[49m\u001b[43ms\u001b[49m\u001b[43m]\u001b[49m\u001b[43m)\u001b[49m\n\u001b[1;32m     98\u001b[0m     \u001b[38;5;28mself\u001b[39m\u001b[38;5;241m.\u001b[39m_print_progress(s\u001b[38;5;241m+\u001b[39m\u001b[38;5;241m2\u001b[39m,Ns) \u001b[38;5;66;03m#s+2 is the sample number, s+1 is index assuming x0 is the first sample\u001b[39;00m\n\u001b[1;32m     99\u001b[0m     \u001b[38;5;28mself\u001b[39m\u001b[38;5;241m.\u001b[39m_call_callback(samples[:, s\u001b[38;5;241m+\u001b[39m\u001b[38;5;241m1\u001b[39m], s\u001b[38;5;241m+\u001b[39m\u001b[38;5;241m1\u001b[39m)\n",
      "File \u001b[0;32m/opt/conda/envs/env/lib/python3.10/site-packages/cuqi/sampler/_cwmh.py:175\u001b[0m, in \u001b[0;36mCWMH.single_update\u001b[0;34m(self, x_t, target_eval_t)\u001b[0m\n\u001b[1;32m    171\u001b[0m acc \u001b[38;5;241m=\u001b[39m np\u001b[38;5;241m.\u001b[39mzeros(\u001b[38;5;28mself\u001b[39m\u001b[38;5;241m.\u001b[39mdim)\n\u001b[1;32m    173\u001b[0m \u001b[38;5;28;01mfor\u001b[39;00m j \u001b[38;5;129;01min\u001b[39;00m \u001b[38;5;28mrange\u001b[39m(\u001b[38;5;28mself\u001b[39m\u001b[38;5;241m.\u001b[39mdim):\n\u001b[1;32m    174\u001b[0m     \u001b[38;5;66;03m# propose state\u001b[39;00m\n\u001b[0;32m--> 175\u001b[0m     x_star[j] \u001b[38;5;241m=\u001b[39m \u001b[43mx_i_star\u001b[49m\u001b[43m[\u001b[49m\u001b[43mj\u001b[49m\u001b[43m]\u001b[49m\n\u001b[1;32m    177\u001b[0m     \u001b[38;5;66;03m# evaluate target\u001b[39;00m\n\u001b[1;32m    178\u001b[0m     target_eval_star \u001b[38;5;241m=\u001b[39m \u001b[38;5;28mself\u001b[39m\u001b[38;5;241m.\u001b[39mtarget\u001b[38;5;241m.\u001b[39mlogd(x_star)\n",
      "\u001b[0;31mIndexError\u001b[0m: too many indices for array: array is 0-dimensional, but 1 were indexed"
     ]
    }
   ],
   "source": [
    "df= TA.create_comparison(dim =1, target = pX, scale = 0.5, Ns =200, Nb = 20,  x0 = np.array([1]), seed=12, chains = 2)\n",
    "    "
   ]
  },
  {
   "cell_type": "code",
   "execution_count": null,
   "metadata": {},
   "outputs": [],
   "source": []
  },
  {
   "cell_type": "code",
   "execution_count": null,
   "metadata": {},
   "outputs": [],
   "source": []
  }
 ],
 "metadata": {
  "kernelspec": {
   "display_name": "env",
   "language": "python",
   "name": "python3"
  },
  "language_info": {
   "codemirror_mode": {
    "name": "ipython",
    "version": 3
   },
   "file_extension": ".py",
   "mimetype": "text/x-python",
   "name": "python",
   "nbconvert_exporter": "python",
   "pygments_lexer": "ipython3",
   "version": "3.10.14"
  }
 },
 "nbformat": 4,
 "nbformat_minor": 2
}
