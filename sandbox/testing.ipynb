{
 "cells": [
  {
   "cell_type": "code",
   "execution_count": 1,
   "metadata": {},
   "outputs": [],
   "source": [
    "from cuqi.distribution import DistributionGallery, Gaussian, JointDistribution\n",
    "from cuqi.testproblem import Poisson1D\n",
    "from cuqi.problem import BayesianProblem\n",
    "import cuqi\n",
    "import inspect\n",
    "import numpy as np\n",
    "import matplotlib.pyplot as plt\n",
    "from cuqi.sampler import MH, CWMH, ULA, MALA, NUTS\n",
    "import time\n",
    "\n",
    "import scipy.stats as sps\n",
    "from scipy.stats import gaussian_kde\n",
    "import pandas as pd\n",
    "import cProfile, pstats, io\n",
    "from pstats import SortKey\n",
    "import os\n",
    "import matplotlib.pyplot as plt\n",
    "from IPython.display import Image, display\n",
    "import sys\n",
    "# Change the current working directory to the root of the project\n",
    "sys.path.append(os.path.abspath('..'))\n",
    "import math\n",
    "\n",
    "# Now you should be able to import the module\n",
    "from utilities import TableAutomization as TA\n",
    "from benchmarksClass import _benchmarks as BM\n",
    "from benchmarksClass import _donut as donut\n",
    "\n"
   ]
  },
  {
   "cell_type": "code",
   "execution_count": 2,
   "metadata": {},
   "outputs": [],
   "source": [
    "# The donut distribution \n",
    "target_donut = donut.donut()\n"
   ]
  },
  {
   "cell_type": "code",
   "execution_count": 4,
   "metadata": {},
   "outputs": [
    {
     "name": "stdout",
     "output_type": "stream",
     "text": [
      "Sample 100 / 100\n",
      "\n",
      "Average acceptance rate: 0.77 \n",
      "\n",
      "Sample 100 / 100\n",
      "\n",
      "Average acceptance rate all components: 0.7 \n",
      "\n",
      "Sample 100 / 100\n",
      "Sample 150 / 150\n",
      "Sample 110 / 110\n"
     ]
    }
   ],
   "source": [
    "df, (fig, axs)  = TA.create_comparison(\n",
    "    target_donut, \n",
    "    [0.05, 0.05, 0.065, 0.065, 0.05 ], \n",
    "    [100, 85, 100, 100, 100], \n",
    "    [0, 15, 0, 50, 10], \n",
    "    x0 = np.array([1, 1]),\n",
    "    seed=12, \n",
    "    chains = 2\n",
    ")\n"
   ]
  }
 ],
 "metadata": {
  "kernelspec": {
   "display_name": "env",
   "language": "python",
   "name": "python3"
  },
  "language_info": {
   "codemirror_mode": {
    "name": "ipython",
    "version": 3
   },
   "file_extension": ".py",
   "mimetype": "text/x-python",
   "name": "python",
   "nbconvert_exporter": "python",
   "pygments_lexer": "ipython3",
   "version": "3.12.4"
  }
 },
 "nbformat": 4,
 "nbformat_minor": 2
}
