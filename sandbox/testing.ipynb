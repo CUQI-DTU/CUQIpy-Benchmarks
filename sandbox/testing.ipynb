{
 "cells": [
  {
   "cell_type": "code",
   "execution_count": 1,
   "metadata": {},
   "outputs": [],
   "source": [
    "from cuqi.distribution import DistributionGallery, Gaussian, JointDistribution\n",
    "from cuqi.testproblem import Poisson1D\n",
    "from cuqi.problem import BayesianProblem\n",
    "import cuqi\n",
    "import inspect\n",
    "import numpy as np\n",
    "import matplotlib.pyplot as plt\n",
    "from cuqi.sampler import MH, CWMH, ULA, MALA, NUTS\n",
    "import time\n",
    "from cuqi.model import LinearModel\n",
    "import scipy.stats as sps\n",
    "from scipy.stats import gaussian_kde\n",
    "import pandas as pd\n",
    "import cProfile, pstats, io\n",
    "from pstats import SortKey\n",
    "import os\n",
    "import matplotlib.pyplot as plt\n",
    "from IPython.display import Image, display\n",
    "import sys\n",
    "from cuqi.distribution import Distribution, JointDistribution, UserDefinedDistribution\n",
    "import pandas as pd\n",
    "\n",
    "# Change the current working directory to the root of the project\n",
    "sys.path.append(os.path.abspath('..'))\n",
    "import math\n",
    "import TESTutilities as TA\n",
    "import benchmarksClass as BC \n"
   ]
  },
  {
   "cell_type": "code",
   "execution_count": 2,
   "metadata": {},
   "outputs": [],
   "source": [
    "# The donut distribution \n",
    "# target_donut = BM.\n",
    "\n",
    "\n",
    "target_mm = BC.Donut()"
   ]
  },
  {
   "cell_type": "code",
   "execution_count": 3,
   "metadata": {},
   "outputs": [],
   "source": [
    "true_mu = np.array([0, 0])\n",
    "true_sigma = np.array([1,1])\n",
    "y = cuqi.distribution.Gaussian(mean=true_mu, cov=true_sigma**2)"
   ]
  },
  {
   "cell_type": "code",
   "execution_count": 4,
   "metadata": {},
   "outputs": [
    {
     "data": {
      "text/plain": [
       "<TESTutilities.tableComparison.TableComparison at 0x7f9cdffb0a90>"
      ]
     },
     "execution_count": 4,
     "metadata": {},
     "output_type": "execute_result"
    }
   ],
   "source": [
    "sampler = TA(target =target_mm, scale = 0.1, Ns= 100, Nb =10, dim = 2, seed = 42)\n",
    "sampler\n"
   ]
  },
  {
   "cell_type": "code",
   "execution_count": 5,
   "metadata": {},
   "outputs": [
    {
     "name": "stdout",
     "output_type": "stream",
     "text": [
      "Sample 110 / 110\n",
      "\n",
      "Average acceptance rate: 0.76 \n",
      "\n",
      "Sample 110 / 110\n",
      "\n",
      "Average acceptance rate all components: 0.805 \n",
      "\n",
      "Sample 110 / 110\n",
      "Sample 110 / 110\n",
      "Sample 110 / 110\n"
     ]
    }
   ],
   "source": [
    "df = sampler.create_comparison()"
   ]
  },
  {
   "cell_type": "code",
   "execution_count": 14,
   "metadata": {},
   "outputs": [
    {
     "data": {
      "text/plain": [
       "0.76"
      ]
     },
     "execution_count": 14,
     "metadata": {},
     "output_type": "execute_result"
    }
   ],
   "source": [
    "mh_result = sampler.get_sampling_result(\"MH\")\n",
    "(mh_result[\"samples\"]).acc_rate"
   ]
  },
  {
   "cell_type": "code",
   "execution_count": 6,
   "metadata": {},
   "outputs": [
    {
     "data": {
      "text/html": [
       "<div>\n",
       "<style scoped>\n",
       "    .dataframe tbody tr th:only-of-type {\n",
       "        vertical-align: middle;\n",
       "    }\n",
       "\n",
       "    .dataframe tbody tr th {\n",
       "        vertical-align: top;\n",
       "    }\n",
       "\n",
       "    .dataframe thead th {\n",
       "        text-align: right;\n",
       "    }\n",
       "</style>\n",
       "<table border=\"1\" class=\"dataframe\">\n",
       "  <thead>\n",
       "    <tr style=\"text-align: right;\">\n",
       "      <th></th>\n",
       "      <th>MH</th>\n",
       "      <th>CWMH</th>\n",
       "      <th>ULA</th>\n",
       "      <th>MALA</th>\n",
       "      <th>NUTS</th>\n",
       "    </tr>\n",
       "  </thead>\n",
       "  <tbody>\n",
       "    <tr>\n",
       "      <th>samples</th>\n",
       "      <td>100</td>\n",
       "      <td>100</td>\n",
       "      <td>100</td>\n",
       "      <td>100</td>\n",
       "      <td>100</td>\n",
       "    </tr>\n",
       "    <tr>\n",
       "      <th>burnins</th>\n",
       "      <td>10</td>\n",
       "      <td>10</td>\n",
       "      <td>10</td>\n",
       "      <td>10</td>\n",
       "      <td>10</td>\n",
       "    </tr>\n",
       "    <tr>\n",
       "      <th>scale</th>\n",
       "      <td>0.1</td>\n",
       "      <td>0.1</td>\n",
       "      <td>0.1</td>\n",
       "      <td>0.1</td>\n",
       "      <td>-</td>\n",
       "    </tr>\n",
       "    <tr>\n",
       "      <th>ESS(v0)</th>\n",
       "      <td>1.651</td>\n",
       "      <td>2.743</td>\n",
       "      <td>200.0</td>\n",
       "      <td>100.0</td>\n",
       "      <td>8.225</td>\n",
       "    </tr>\n",
       "    <tr>\n",
       "      <th>ESS(v1)</th>\n",
       "      <td>2.445</td>\n",
       "      <td>7.071</td>\n",
       "      <td>200.0</td>\n",
       "      <td>100.0</td>\n",
       "      <td>45.883</td>\n",
       "    </tr>\n",
       "    <tr>\n",
       "      <th>AR</th>\n",
       "      <td>0.76</td>\n",
       "      <td>0.8</td>\n",
       "      <td>1.0</td>\n",
       "      <td>0.01</td>\n",
       "      <td>0.76</td>\n",
       "    </tr>\n",
       "    <tr>\n",
       "      <th>LogPDF</th>\n",
       "      <td>110</td>\n",
       "      <td>219</td>\n",
       "      <td>110</td>\n",
       "      <td>110</td>\n",
       "      <td>2808</td>\n",
       "    </tr>\n",
       "    <tr>\n",
       "      <th>Gradient</th>\n",
       "      <td>0</td>\n",
       "      <td>0</td>\n",
       "      <td>110</td>\n",
       "      <td>110</td>\n",
       "      <td>2808</td>\n",
       "    </tr>\n",
       "    <tr>\n",
       "      <th>LogPDF/ESS</th>\n",
       "      <td>53.711</td>\n",
       "      <td>44.629</td>\n",
       "      <td>0.55</td>\n",
       "      <td>1.1</td>\n",
       "      <td>103.793</td>\n",
       "    </tr>\n",
       "    <tr>\n",
       "      <th>Gradient/ESS</th>\n",
       "      <td>0.0</td>\n",
       "      <td>0.0</td>\n",
       "      <td>0.55</td>\n",
       "      <td>1.1</td>\n",
       "      <td>103.793</td>\n",
       "    </tr>\n",
       "  </tbody>\n",
       "</table>\n",
       "</div>"
      ],
      "text/plain": [
       "                  MH    CWMH    ULA   MALA     NUTS\n",
       "samples          100     100    100    100      100\n",
       "burnins           10      10     10     10       10\n",
       "scale            0.1     0.1    0.1    0.1        -\n",
       "ESS(v0)        1.651   2.743  200.0  100.0    8.225\n",
       "ESS(v1)        2.445   7.071  200.0  100.0   45.883\n",
       "AR              0.76     0.8    1.0   0.01     0.76\n",
       "LogPDF           110     219    110    110     2808\n",
       "Gradient           0       0    110    110     2808\n",
       "LogPDF/ESS    53.711  44.629   0.55    1.1  103.793\n",
       "Gradient/ESS     0.0     0.0   0.55    1.1  103.793"
      ]
     },
     "execution_count": 6,
     "metadata": {},
     "output_type": "execute_result"
    }
   ],
   "source": [
    "df"
   ]
  },
  {
   "cell_type": "code",
   "execution_count": 11,
   "metadata": {},
   "outputs": [
    {
     "data": {
      "text/plain": [
       "samples            100\n",
       "burnins             10\n",
       "scale             0.05\n",
       "ESS(v0)          1.483\n",
       "ESS(v1)          1.423\n",
       "AR                0.77\n",
       "LogPDF             110\n",
       "Gradient             0\n",
       "Rhat(v0)         2.518\n",
       "Rhat(v1)         2.678\n",
       "LogPDF/ESS      75.718\n",
       "Gradient/ESS       0.0\n",
       "Name: MH, dtype: object"
      ]
     },
     "execution_count": 11,
     "metadata": {},
     "output_type": "execute_result"
    }
   ],
   "source": [
    "df[\"MH\"]"
   ]
  },
  {
   "cell_type": "code",
   "execution_count": 6,
   "metadata": {},
   "outputs": [
    {
     "name": "stdout",
     "output_type": "stream",
     "text": [
      "Sample 110 / 110\n",
      "\n",
      "Average acceptance rate: 0.76 \n",
      "\n",
      "Sample 110 / 110\n",
      "\n",
      "Average acceptance rate: 0.55 MCMC scale: 0.30299100482732133 \n",
      "\n",
      "Sample 110 / 110\n",
      "\n",
      "Average acceptance rate all components: 0.7649999999999999 \n",
      "\n",
      "Sample 110 / 110\n",
      "\n",
      "Average acceptance rate all components: 0.72 \n",
      "\n",
      "Sample 110 / 110\n",
      "\n",
      "Average acceptance rate: 0.9 \n",
      "\n",
      "Sample 110 / 110\n",
      "\n",
      "Average acceptance rate: 0.61 MCMC scale: 0.279475249816773 \n",
      "\n",
      "Sample 110 / 110\n",
      "\n",
      "Average acceptance rate all components: 0.795 \n",
      "\n",
      "Sample 110 / 110\n",
      "\n",
      "Average acceptance rate all components: 0.7350000000000001 \n",
      "\n"
     ]
    }
   ],
   "source": [
    "df2, (fig, axs)  = TA.create_comparison(\n",
    "    target_mm, \n",
    "    0.05, \n",
    "    100,\n",
    "    10,\n",
    "    x0 = y,\n",
    "    seed=12, \n",
    "    chains = 2,\n",
    "    selected_methods=[\"MH\", \"MH_adapted\", \"CWMH\", \"CWMH_adapted\"]\n",
    ")\n"
   ]
  },
  {
   "cell_type": "code",
   "execution_count": null,
   "metadata": {},
   "outputs": [],
   "source": []
  },
  {
   "cell_type": "code",
   "execution_count": 10,
   "metadata": {},
   "outputs": [
    {
     "data": {
      "text/html": [
       "<div>\n",
       "<style scoped>\n",
       "    .dataframe tbody tr th:only-of-type {\n",
       "        vertical-align: middle;\n",
       "    }\n",
       "\n",
       "    .dataframe tbody tr th {\n",
       "        vertical-align: top;\n",
       "    }\n",
       "\n",
       "    .dataframe thead th {\n",
       "        text-align: right;\n",
       "    }\n",
       "</style>\n",
       "<table border=\"1\" class=\"dataframe\">\n",
       "  <thead>\n",
       "    <tr style=\"text-align: right;\">\n",
       "      <th></th>\n",
       "      <th>NUTS</th>\n",
       "      <th>MH</th>\n",
       "    </tr>\n",
       "  </thead>\n",
       "  <tbody>\n",
       "    <tr>\n",
       "      <th>samples</th>\n",
       "      <td>100</td>\n",
       "      <td>100.000</td>\n",
       "    </tr>\n",
       "    <tr>\n",
       "      <th>burnins</th>\n",
       "      <td>10</td>\n",
       "      <td>10.000</td>\n",
       "    </tr>\n",
       "    <tr>\n",
       "      <th>scale</th>\n",
       "      <td>-</td>\n",
       "      <td>0.050</td>\n",
       "    </tr>\n",
       "    <tr>\n",
       "      <th>ESS(v0)</th>\n",
       "      <td>34.876</td>\n",
       "      <td>1.904</td>\n",
       "    </tr>\n",
       "    <tr>\n",
       "      <th>ESS(v1)</th>\n",
       "      <td>46.566</td>\n",
       "      <td>9.197</td>\n",
       "    </tr>\n",
       "    <tr>\n",
       "      <th>AR</th>\n",
       "      <td>0.99</td>\n",
       "      <td>0.890</td>\n",
       "    </tr>\n",
       "    <tr>\n",
       "      <th>LogPDF</th>\n",
       "      <td>3887</td>\n",
       "      <td>110.000</td>\n",
       "    </tr>\n",
       "    <tr>\n",
       "      <th>Gradient</th>\n",
       "      <td>3887</td>\n",
       "      <td>0.000</td>\n",
       "    </tr>\n",
       "    <tr>\n",
       "      <th>Rhat(v0)</th>\n",
       "      <td>1.026</td>\n",
       "      <td>2.274</td>\n",
       "    </tr>\n",
       "    <tr>\n",
       "      <th>Rhat(v1)</th>\n",
       "      <td>1.038</td>\n",
       "      <td>1.679</td>\n",
       "    </tr>\n",
       "  </tbody>\n",
       "</table>\n",
       "</div>"
      ],
      "text/plain": [
       "            NUTS       MH\n",
       "samples      100  100.000\n",
       "burnins       10   10.000\n",
       "scale          -    0.050\n",
       "ESS(v0)   34.876    1.904\n",
       "ESS(v1)   46.566    9.197\n",
       "AR          0.99    0.890\n",
       "LogPDF      3887  110.000\n",
       "Gradient    3887    0.000\n",
       "Rhat(v0)   1.026    2.274\n",
       "Rhat(v1)   1.038    1.679"
      ]
     },
     "execution_count": 10,
     "metadata": {},
     "output_type": "execute_result"
    }
   ],
   "source": [
    "df"
   ]
  },
  {
   "cell_type": "code",
   "execution_count": 8,
   "metadata": {},
   "outputs": [
    {
     "data": {
      "text/html": [
       "<div>\n",
       "<style scoped>\n",
       "    .dataframe tbody tr th:only-of-type {\n",
       "        vertical-align: middle;\n",
       "    }\n",
       "\n",
       "    .dataframe tbody tr th {\n",
       "        vertical-align: top;\n",
       "    }\n",
       "\n",
       "    .dataframe thead th {\n",
       "        text-align: right;\n",
       "    }\n",
       "</style>\n",
       "<table border=\"1\" class=\"dataframe\">\n",
       "  <thead>\n",
       "    <tr style=\"text-align: right;\">\n",
       "      <th></th>\n",
       "      <th>NUTS</th>\n",
       "      <th>MH</th>\n",
       "    </tr>\n",
       "  </thead>\n",
       "  <tbody>\n",
       "    <tr>\n",
       "      <th>samples</th>\n",
       "      <td>100</td>\n",
       "      <td>100.000</td>\n",
       "    </tr>\n",
       "    <tr>\n",
       "      <th>burnins</th>\n",
       "      <td>10</td>\n",
       "      <td>10.000</td>\n",
       "    </tr>\n",
       "    <tr>\n",
       "      <th>scale</th>\n",
       "      <td>-</td>\n",
       "      <td>0.050</td>\n",
       "    </tr>\n",
       "    <tr>\n",
       "      <th>ESS(v0)</th>\n",
       "      <td>34.876</td>\n",
       "      <td>1.904</td>\n",
       "    </tr>\n",
       "    <tr>\n",
       "      <th>ESS(v1)</th>\n",
       "      <td>46.566</td>\n",
       "      <td>9.197</td>\n",
       "    </tr>\n",
       "    <tr>\n",
       "      <th>AR</th>\n",
       "      <td>0.99</td>\n",
       "      <td>0.890</td>\n",
       "    </tr>\n",
       "    <tr>\n",
       "      <th>LogPDF</th>\n",
       "      <td>3887</td>\n",
       "      <td>110.000</td>\n",
       "    </tr>\n",
       "    <tr>\n",
       "      <th>Gradient</th>\n",
       "      <td>3887</td>\n",
       "      <td>0.000</td>\n",
       "    </tr>\n",
       "    <tr>\n",
       "      <th>Rhat(v0)</th>\n",
       "      <td>1.026</td>\n",
       "      <td>2.274</td>\n",
       "    </tr>\n",
       "    <tr>\n",
       "      <th>Rhat(v1)</th>\n",
       "      <td>1.038</td>\n",
       "      <td>1.679</td>\n",
       "    </tr>\n",
       "  </tbody>\n",
       "</table>\n",
       "</div>"
      ],
      "text/plain": [
       "            NUTS       MH\n",
       "samples      100  100.000\n",
       "burnins       10   10.000\n",
       "scale          -    0.050\n",
       "ESS(v0)   34.876    1.904\n",
       "ESS(v1)   46.566    9.197\n",
       "AR          0.99    0.890\n",
       "LogPDF      3887  110.000\n",
       "Gradient    3887    0.000\n",
       "Rhat(v0)   1.026    2.274\n",
       "Rhat(v1)   1.038    1.679"
      ]
     },
     "execution_count": 8,
     "metadata": {},
     "output_type": "execute_result"
    }
   ],
   "source": [
    "df"
   ]
  },
  {
   "cell_type": "code",
   "execution_count": 7,
   "metadata": {},
   "outputs": [
    {
     "data": {
      "text/html": [
       "<div>\n",
       "<style scoped>\n",
       "    .dataframe tbody tr th:only-of-type {\n",
       "        vertical-align: middle;\n",
       "    }\n",
       "\n",
       "    .dataframe tbody tr th {\n",
       "        vertical-align: top;\n",
       "    }\n",
       "\n",
       "    .dataframe thead th {\n",
       "        text-align: right;\n",
       "    }\n",
       "</style>\n",
       "<table border=\"1\" class=\"dataframe\">\n",
       "  <thead>\n",
       "    <tr style=\"text-align: right;\">\n",
       "      <th></th>\n",
       "      <th>MH</th>\n",
       "      <th>MH_adapted</th>\n",
       "      <th>CWMH</th>\n",
       "      <th>CWMH_adapted</th>\n",
       "    </tr>\n",
       "  </thead>\n",
       "  <tbody>\n",
       "    <tr>\n",
       "      <th>samples</th>\n",
       "      <td>100.000</td>\n",
       "      <td>100.000</td>\n",
       "      <td>100.000</td>\n",
       "      <td>100.000</td>\n",
       "    </tr>\n",
       "    <tr>\n",
       "      <th>burnins</th>\n",
       "      <td>10.000</td>\n",
       "      <td>10.000</td>\n",
       "      <td>10.000</td>\n",
       "      <td>10.000</td>\n",
       "    </tr>\n",
       "    <tr>\n",
       "      <th>scale</th>\n",
       "      <td>0.050</td>\n",
       "      <td>0.050</td>\n",
       "      <td>0.050</td>\n",
       "      <td>0.050</td>\n",
       "    </tr>\n",
       "    <tr>\n",
       "      <th>ESS(v0)</th>\n",
       "      <td>1.483</td>\n",
       "      <td>6.470</td>\n",
       "      <td>1.416</td>\n",
       "      <td>1.894</td>\n",
       "    </tr>\n",
       "    <tr>\n",
       "      <th>ESS(v1)</th>\n",
       "      <td>1.423</td>\n",
       "      <td>2.463</td>\n",
       "      <td>1.415</td>\n",
       "      <td>6.124</td>\n",
       "    </tr>\n",
       "    <tr>\n",
       "      <th>AR</th>\n",
       "      <td>0.770</td>\n",
       "      <td>0.560</td>\n",
       "      <td>0.700</td>\n",
       "      <td>0.720</td>\n",
       "    </tr>\n",
       "    <tr>\n",
       "      <th>LogPDF</th>\n",
       "      <td>110.000</td>\n",
       "      <td>110.000</td>\n",
       "      <td>219.000</td>\n",
       "      <td>219.000</td>\n",
       "    </tr>\n",
       "    <tr>\n",
       "      <th>Gradient</th>\n",
       "      <td>0.000</td>\n",
       "      <td>0.000</td>\n",
       "      <td>0.000</td>\n",
       "      <td>0.000</td>\n",
       "    </tr>\n",
       "    <tr>\n",
       "      <th>Rhat(v0)</th>\n",
       "      <td>2.518</td>\n",
       "      <td>2.036</td>\n",
       "      <td>3.036</td>\n",
       "      <td>1.772</td>\n",
       "    </tr>\n",
       "    <tr>\n",
       "      <th>Rhat(v1)</th>\n",
       "      <td>2.678</td>\n",
       "      <td>1.646</td>\n",
       "      <td>1.669</td>\n",
       "      <td>1.650</td>\n",
       "    </tr>\n",
       "  </tbody>\n",
       "</table>\n",
       "</div>"
      ],
      "text/plain": [
       "               MH  MH_adapted     CWMH  CWMH_adapted\n",
       "samples   100.000     100.000  100.000       100.000\n",
       "burnins    10.000      10.000   10.000        10.000\n",
       "scale       0.050       0.050    0.050         0.050\n",
       "ESS(v0)     1.483       6.470    1.416         1.894\n",
       "ESS(v1)     1.423       2.463    1.415         6.124\n",
       "AR          0.770       0.560    0.700         0.720\n",
       "LogPDF    110.000     110.000  219.000       219.000\n",
       "Gradient    0.000       0.000    0.000         0.000\n",
       "Rhat(v0)    2.518       2.036    3.036         1.772\n",
       "Rhat(v1)    2.678       1.646    1.669         1.650"
      ]
     },
     "execution_count": 7,
     "metadata": {},
     "output_type": "execute_result"
    }
   ],
   "source": [
    "df2"
   ]
  },
  {
   "cell_type": "code",
   "execution_count": 33,
   "metadata": {},
   "outputs": [
    {
     "name": "stderr",
     "output_type": "stream",
     "text": [
      "/tmp/ipykernel_43425/3856682864.py:1: FutureWarning: Setting an item of incompatible dtype is deprecated and will raise an error in a future version of pandas. Value '100' has dtype incompatible with float64, please explicitly cast to a compatible dtype first.\n",
      "  df2.loc['samples'] = df2.loc['samples'].apply(lambda x: f\"{x:.0f}\")\n",
      "/tmp/ipykernel_43425/3856682864.py:1: FutureWarning: Setting an item of incompatible dtype is deprecated and will raise an error in a future version of pandas. Value '100' has dtype incompatible with float64, please explicitly cast to a compatible dtype first.\n",
      "  df2.loc['samples'] = df2.loc['samples'].apply(lambda x: f\"{x:.0f}\")\n",
      "/tmp/ipykernel_43425/3856682864.py:1: FutureWarning: Setting an item of incompatible dtype is deprecated and will raise an error in a future version of pandas. Value '100' has dtype incompatible with float64, please explicitly cast to a compatible dtype first.\n",
      "  df2.loc['samples'] = df2.loc['samples'].apply(lambda x: f\"{x:.0f}\")\n",
      "/tmp/ipykernel_43425/3856682864.py:1: FutureWarning: Setting an item of incompatible dtype is deprecated and will raise an error in a future version of pandas. Value '100' has dtype incompatible with float64, please explicitly cast to a compatible dtype first.\n",
      "  df2.loc['samples'] = df2.loc['samples'].apply(lambda x: f\"{x:.0f}\")\n"
     ]
    }
   ],
   "source": []
  },
  {
   "cell_type": "code",
   "execution_count": 34,
   "metadata": {},
   "outputs": [
    {
     "data": {
      "text/html": [
       "<div>\n",
       "<style scoped>\n",
       "    .dataframe tbody tr th:only-of-type {\n",
       "        vertical-align: middle;\n",
       "    }\n",
       "\n",
       "    .dataframe tbody tr th {\n",
       "        vertical-align: top;\n",
       "    }\n",
       "\n",
       "    .dataframe thead th {\n",
       "        text-align: right;\n",
       "    }\n",
       "</style>\n",
       "<table border=\"1\" class=\"dataframe\">\n",
       "  <thead>\n",
       "    <tr style=\"text-align: right;\">\n",
       "      <th></th>\n",
       "      <th>MH</th>\n",
       "      <th>MH_adapted</th>\n",
       "      <th>CWMH</th>\n",
       "      <th>CWMH_adapted</th>\n",
       "    </tr>\n",
       "  </thead>\n",
       "  <tbody>\n",
       "    <tr>\n",
       "      <th>samples</th>\n",
       "      <td>100</td>\n",
       "      <td>100</td>\n",
       "      <td>100</td>\n",
       "      <td>100</td>\n",
       "    </tr>\n",
       "    <tr>\n",
       "      <th>burnins</th>\n",
       "      <td>10.0</td>\n",
       "      <td>10.0</td>\n",
       "      <td>10.0</td>\n",
       "      <td>10.0</td>\n",
       "    </tr>\n",
       "    <tr>\n",
       "      <th>scale</th>\n",
       "      <td>0.05</td>\n",
       "      <td>0.05</td>\n",
       "      <td>0.05</td>\n",
       "      <td>0.05</td>\n",
       "    </tr>\n",
       "    <tr>\n",
       "      <th>ESS(v0)</th>\n",
       "      <td>1.483</td>\n",
       "      <td>6.47</td>\n",
       "      <td>1.416</td>\n",
       "      <td>1.894</td>\n",
       "    </tr>\n",
       "    <tr>\n",
       "      <th>ESS(v1)</th>\n",
       "      <td>1.423</td>\n",
       "      <td>2.463</td>\n",
       "      <td>1.415</td>\n",
       "      <td>6.124</td>\n",
       "    </tr>\n",
       "    <tr>\n",
       "      <th>AR</th>\n",
       "      <td>0.77</td>\n",
       "      <td>0.56</td>\n",
       "      <td>0.7</td>\n",
       "      <td>0.72</td>\n",
       "    </tr>\n",
       "    <tr>\n",
       "      <th>LogPDF</th>\n",
       "      <td>110.0</td>\n",
       "      <td>110.0</td>\n",
       "      <td>219.0</td>\n",
       "      <td>219.0</td>\n",
       "    </tr>\n",
       "    <tr>\n",
       "      <th>Gradient</th>\n",
       "      <td>0.0</td>\n",
       "      <td>0.0</td>\n",
       "      <td>0.0</td>\n",
       "      <td>0.0</td>\n",
       "    </tr>\n",
       "    <tr>\n",
       "      <th>Rhat(v0)</th>\n",
       "      <td>2.518</td>\n",
       "      <td>2.036</td>\n",
       "      <td>3.036</td>\n",
       "      <td>1.772</td>\n",
       "    </tr>\n",
       "    <tr>\n",
       "      <th>Rhat(v1)</th>\n",
       "      <td>2.678</td>\n",
       "      <td>1.646</td>\n",
       "      <td>1.669</td>\n",
       "      <td>1.65</td>\n",
       "    </tr>\n",
       "  </tbody>\n",
       "</table>\n",
       "</div>"
      ],
      "text/plain": [
       "             MH MH_adapted   CWMH CWMH_adapted\n",
       "samples     100        100    100          100\n",
       "burnins    10.0       10.0   10.0         10.0\n",
       "scale      0.05       0.05   0.05         0.05\n",
       "ESS(v0)   1.483       6.47  1.416        1.894\n",
       "ESS(v1)   1.423      2.463  1.415        6.124\n",
       "AR         0.77       0.56    0.7         0.72\n",
       "LogPDF    110.0      110.0  219.0        219.0\n",
       "Gradient    0.0        0.0    0.0          0.0\n",
       "Rhat(v0)  2.518      2.036  3.036        1.772\n",
       "Rhat(v1)  2.678      1.646  1.669         1.65"
      ]
     },
     "execution_count": 34,
     "metadata": {},
     "output_type": "execute_result"
    }
   ],
   "source": [
    "df2"
   ]
  },
  {
   "cell_type": "code",
   "execution_count": 30,
   "metadata": {},
   "outputs": [
    {
     "ename": "KeyError",
     "evalue": "'samples'",
     "output_type": "error",
     "traceback": [
      "\u001b[0;31m---------------------------------------------------------------------------\u001b[0m",
      "\u001b[0;31mKeyError\u001b[0m                                  Traceback (most recent call last)",
      "File \u001b[0;32m/opt/conda/envs/env/lib/python3.10/site-packages/pandas/core/indexes/base.py:3805\u001b[0m, in \u001b[0;36mIndex.get_loc\u001b[0;34m(self, key)\u001b[0m\n\u001b[1;32m   3804\u001b[0m \u001b[38;5;28;01mtry\u001b[39;00m:\n\u001b[0;32m-> 3805\u001b[0m     \u001b[38;5;28;01mreturn\u001b[39;00m \u001b[38;5;28;43mself\u001b[39;49m\u001b[38;5;241;43m.\u001b[39;49m\u001b[43m_engine\u001b[49m\u001b[38;5;241;43m.\u001b[39;49m\u001b[43mget_loc\u001b[49m\u001b[43m(\u001b[49m\u001b[43mcasted_key\u001b[49m\u001b[43m)\u001b[49m\n\u001b[1;32m   3806\u001b[0m \u001b[38;5;28;01mexcept\u001b[39;00m \u001b[38;5;167;01mKeyError\u001b[39;00m \u001b[38;5;28;01mas\u001b[39;00m err:\n",
      "File \u001b[0;32mindex.pyx:167\u001b[0m, in \u001b[0;36mpandas._libs.index.IndexEngine.get_loc\u001b[0;34m()\u001b[0m\n",
      "File \u001b[0;32mindex.pyx:196\u001b[0m, in \u001b[0;36mpandas._libs.index.IndexEngine.get_loc\u001b[0;34m()\u001b[0m\n",
      "File \u001b[0;32mpandas/_libs/hashtable_class_helper.pxi:7081\u001b[0m, in \u001b[0;36mpandas._libs.hashtable.PyObjectHashTable.get_item\u001b[0;34m()\u001b[0m\n",
      "File \u001b[0;32mpandas/_libs/hashtable_class_helper.pxi:7089\u001b[0m, in \u001b[0;36mpandas._libs.hashtable.PyObjectHashTable.get_item\u001b[0;34m()\u001b[0m\n",
      "\u001b[0;31mKeyError\u001b[0m: 'samples'",
      "\nThe above exception was the direct cause of the following exception:\n",
      "\u001b[0;31mKeyError\u001b[0m                                  Traceback (most recent call last)",
      "Cell \u001b[0;32mIn[30], line 2\u001b[0m\n\u001b[1;32m      1\u001b[0m \u001b[38;5;28;01mfor\u001b[39;00m index, row \u001b[38;5;129;01min\u001b[39;00m df\u001b[38;5;241m.\u001b[39miterrows():\n\u001b[0;32m----> 2\u001b[0m     \u001b[38;5;28mprint\u001b[39m(\u001b[43mrow\u001b[49m\u001b[43m[\u001b[49m\u001b[38;5;124;43m\"\u001b[39;49m\u001b[38;5;124;43msamples\u001b[39;49m\u001b[38;5;124;43m\"\u001b[39;49m\u001b[43m]\u001b[49m, row[\u001b[38;5;124m\"\u001b[39m\u001b[38;5;124mscale\u001b[39m\u001b[38;5;124m\"\u001b[39m])\n",
      "File \u001b[0;32m/opt/conda/envs/env/lib/python3.10/site-packages/pandas/core/series.py:1121\u001b[0m, in \u001b[0;36mSeries.__getitem__\u001b[0;34m(self, key)\u001b[0m\n\u001b[1;32m   1118\u001b[0m     \u001b[38;5;28;01mreturn\u001b[39;00m \u001b[38;5;28mself\u001b[39m\u001b[38;5;241m.\u001b[39m_values[key]\n\u001b[1;32m   1120\u001b[0m \u001b[38;5;28;01melif\u001b[39;00m key_is_scalar:\n\u001b[0;32m-> 1121\u001b[0m     \u001b[38;5;28;01mreturn\u001b[39;00m \u001b[38;5;28;43mself\u001b[39;49m\u001b[38;5;241;43m.\u001b[39;49m\u001b[43m_get_value\u001b[49m\u001b[43m(\u001b[49m\u001b[43mkey\u001b[49m\u001b[43m)\u001b[49m\n\u001b[1;32m   1123\u001b[0m \u001b[38;5;66;03m# Convert generator to list before going through hashable part\u001b[39;00m\n\u001b[1;32m   1124\u001b[0m \u001b[38;5;66;03m# (We will iterate through the generator there to check for slices)\u001b[39;00m\n\u001b[1;32m   1125\u001b[0m \u001b[38;5;28;01mif\u001b[39;00m is_iterator(key):\n",
      "File \u001b[0;32m/opt/conda/envs/env/lib/python3.10/site-packages/pandas/core/series.py:1237\u001b[0m, in \u001b[0;36mSeries._get_value\u001b[0;34m(self, label, takeable)\u001b[0m\n\u001b[1;32m   1234\u001b[0m     \u001b[38;5;28;01mreturn\u001b[39;00m \u001b[38;5;28mself\u001b[39m\u001b[38;5;241m.\u001b[39m_values[label]\n\u001b[1;32m   1236\u001b[0m \u001b[38;5;66;03m# Similar to Index.get_value, but we do not fall back to positional\u001b[39;00m\n\u001b[0;32m-> 1237\u001b[0m loc \u001b[38;5;241m=\u001b[39m \u001b[38;5;28;43mself\u001b[39;49m\u001b[38;5;241;43m.\u001b[39;49m\u001b[43mindex\u001b[49m\u001b[38;5;241;43m.\u001b[39;49m\u001b[43mget_loc\u001b[49m\u001b[43m(\u001b[49m\u001b[43mlabel\u001b[49m\u001b[43m)\u001b[49m\n\u001b[1;32m   1239\u001b[0m \u001b[38;5;28;01mif\u001b[39;00m is_integer(loc):\n\u001b[1;32m   1240\u001b[0m     \u001b[38;5;28;01mreturn\u001b[39;00m \u001b[38;5;28mself\u001b[39m\u001b[38;5;241m.\u001b[39m_values[loc]\n",
      "File \u001b[0;32m/opt/conda/envs/env/lib/python3.10/site-packages/pandas/core/indexes/base.py:3812\u001b[0m, in \u001b[0;36mIndex.get_loc\u001b[0;34m(self, key)\u001b[0m\n\u001b[1;32m   3807\u001b[0m     \u001b[38;5;28;01mif\u001b[39;00m \u001b[38;5;28misinstance\u001b[39m(casted_key, \u001b[38;5;28mslice\u001b[39m) \u001b[38;5;129;01mor\u001b[39;00m (\n\u001b[1;32m   3808\u001b[0m         \u001b[38;5;28misinstance\u001b[39m(casted_key, abc\u001b[38;5;241m.\u001b[39mIterable)\n\u001b[1;32m   3809\u001b[0m         \u001b[38;5;129;01mand\u001b[39;00m \u001b[38;5;28many\u001b[39m(\u001b[38;5;28misinstance\u001b[39m(x, \u001b[38;5;28mslice\u001b[39m) \u001b[38;5;28;01mfor\u001b[39;00m x \u001b[38;5;129;01min\u001b[39;00m casted_key)\n\u001b[1;32m   3810\u001b[0m     ):\n\u001b[1;32m   3811\u001b[0m         \u001b[38;5;28;01mraise\u001b[39;00m InvalidIndexError(key)\n\u001b[0;32m-> 3812\u001b[0m     \u001b[38;5;28;01mraise\u001b[39;00m \u001b[38;5;167;01mKeyError\u001b[39;00m(key) \u001b[38;5;28;01mfrom\u001b[39;00m \u001b[38;5;21;01merr\u001b[39;00m\n\u001b[1;32m   3813\u001b[0m \u001b[38;5;28;01mexcept\u001b[39;00m \u001b[38;5;167;01mTypeError\u001b[39;00m:\n\u001b[1;32m   3814\u001b[0m     \u001b[38;5;66;03m# If we have a listlike key, _check_indexing_error will raise\u001b[39;00m\n\u001b[1;32m   3815\u001b[0m     \u001b[38;5;66;03m#  InvalidIndexError. Otherwise we fall through and re-raise\u001b[39;00m\n\u001b[1;32m   3816\u001b[0m     \u001b[38;5;66;03m#  the TypeError.\u001b[39;00m\n\u001b[1;32m   3817\u001b[0m     \u001b[38;5;28mself\u001b[39m\u001b[38;5;241m.\u001b[39m_check_indexing_error(key)\n",
      "\u001b[0;31mKeyError\u001b[0m: 'samples'"
     ]
    }
   ],
   "source": [
    "for index, row in df.iterrows():\n",
    "    print(row[\"samples\"], row[\"scale\"])"
   ]
  },
  {
   "cell_type": "code",
   "execution_count": 14,
   "metadata": {},
   "outputs": [
    {
     "ename": "AttributeError",
     "evalue": "'Series' object has no attribute 'style'",
     "output_type": "error",
     "traceback": [
      "\u001b[0;31m---------------------------------------------------------------------------\u001b[0m",
      "\u001b[0;31mAttributeError\u001b[0m                            Traceback (most recent call last)",
      "\u001b[0;32m/tmp/ipykernel_58510/3116649074.py\u001b[0m in \u001b[0;36m?\u001b[0;34m()\u001b[0m\n\u001b[1;32m      6\u001b[0m     \u001b[0;34m\"strings\"\u001b[0m\u001b[0;34m:\u001b[0m \u001b[0;34m[\u001b[0m\u001b[0;34m\"Adam\"\u001b[0m\u001b[0;34m,\u001b[0m \u001b[0;34m\"Mike\"\u001b[0m\u001b[0;34m]\u001b[0m\u001b[0;34m,\u001b[0m\u001b[0;34m\u001b[0m\u001b[0;34m\u001b[0m\u001b[0m\n\u001b[1;32m      7\u001b[0m     \u001b[0;34m\"ints\"\u001b[0m\u001b[0;34m:\u001b[0m \u001b[0;34m[\u001b[0m\u001b[0;36m1\u001b[0m\u001b[0;34m,\u001b[0m \u001b[0;36m3\u001b[0m\u001b[0;34m]\u001b[0m\u001b[0;34m,\u001b[0m\u001b[0;34m\u001b[0m\u001b[0;34m\u001b[0m\u001b[0m\n\u001b[1;32m      8\u001b[0m     \u001b[0;34m\"floats\"\u001b[0m\u001b[0;34m:\u001b[0m \u001b[0;34m[\u001b[0m\u001b[0;36m1.123\u001b[0m\u001b[0;34m,\u001b[0m \u001b[0;36m1000.23\u001b[0m\u001b[0;34m]\u001b[0m\u001b[0;34m\u001b[0m\u001b[0;34m\u001b[0m\u001b[0m\n\u001b[1;32m      9\u001b[0m })\n\u001b[0;32m---> 10\u001b[0;31m \u001b[0ms\u001b[0m \u001b[0;34m=\u001b[0m \u001b[0mdf\u001b[0m\u001b[0;34m[\u001b[0m\u001b[0;34m\"ULA\"\u001b[0m\u001b[0;34m]\u001b[0m\u001b[0;34m.\u001b[0m\u001b[0mstyle\u001b[0m\u001b[0;34m.\u001b[0m\u001b[0mformat\u001b[0m\u001b[0;34m(\u001b[0m\u001b[0;34m'{:.0f}'\u001b[0m\u001b[0;34m)\u001b[0m\u001b[0;34m\u001b[0m\u001b[0;34m\u001b[0m\u001b[0m\n\u001b[0m",
      "\u001b[0;32m/opt/conda/envs/env/lib/python3.10/site-packages/pandas/core/generic.py\u001b[0m in \u001b[0;36m?\u001b[0;34m(self, name)\u001b[0m\n\u001b[1;32m   6295\u001b[0m             \u001b[0;32mand\u001b[0m \u001b[0mname\u001b[0m \u001b[0;32mnot\u001b[0m \u001b[0;32min\u001b[0m \u001b[0mself\u001b[0m\u001b[0;34m.\u001b[0m\u001b[0m_accessors\u001b[0m\u001b[0;34m\u001b[0m\u001b[0;34m\u001b[0m\u001b[0m\n\u001b[1;32m   6296\u001b[0m             \u001b[0;32mand\u001b[0m \u001b[0mself\u001b[0m\u001b[0;34m.\u001b[0m\u001b[0m_info_axis\u001b[0m\u001b[0;34m.\u001b[0m\u001b[0m_can_hold_identifiers_and_holds_name\u001b[0m\u001b[0;34m(\u001b[0m\u001b[0mname\u001b[0m\u001b[0;34m)\u001b[0m\u001b[0;34m\u001b[0m\u001b[0;34m\u001b[0m\u001b[0m\n\u001b[1;32m   6297\u001b[0m         ):\n\u001b[1;32m   6298\u001b[0m             \u001b[0;32mreturn\u001b[0m \u001b[0mself\u001b[0m\u001b[0;34m[\u001b[0m\u001b[0mname\u001b[0m\u001b[0;34m]\u001b[0m\u001b[0;34m\u001b[0m\u001b[0;34m\u001b[0m\u001b[0m\n\u001b[0;32m-> 6299\u001b[0;31m         \u001b[0;32mreturn\u001b[0m \u001b[0mobject\u001b[0m\u001b[0;34m.\u001b[0m\u001b[0m__getattribute__\u001b[0m\u001b[0;34m(\u001b[0m\u001b[0mself\u001b[0m\u001b[0;34m,\u001b[0m \u001b[0mname\u001b[0m\u001b[0;34m)\u001b[0m\u001b[0;34m\u001b[0m\u001b[0;34m\u001b[0m\u001b[0m\n\u001b[0m",
      "\u001b[0;31mAttributeError\u001b[0m: 'Series' object has no attribute 'style'"
     ]
    }
   ],
   "source": [
    "import pandas as pd\n",
    "import numpy as np\n",
    "import matplotlib as mpl\n",
    "\n",
    "df2 = pd.DataFrame({\n",
    "    \"strings\": [\"Adam\", \"Mike\"],\n",
    "    \"ints\": [1, 3],\n",
    "    \"floats\": [1.123, 1000.23]\n",
    "})\n",
    "s = a\"ULA\"].style.format('{:.0f}')\n"
   ]
  },
  {
   "cell_type": "code",
   "execution_count": 20,
   "metadata": {},
   "outputs": [
    {
     "name": "stdout",
     "output_type": "stream",
     "text": [
      "             ULA   MALA\n",
      "samples  100.000  100.0\n",
      "burnins   10.000    0.0\n",
      "scale      0.050    0.1\n",
      "ESS(v0)    2.501  100.0\n",
      "ESS(v1)   16.994  100.0\n"
     ]
    }
   ],
   "source": [
    "print(df)"
   ]
  },
  {
   "cell_type": "code",
   "execution_count": 55,
   "metadata": {},
   "outputs": [
    {
     "name": "stdout",
     "output_type": "stream",
     "text": [
      "1.23\n",
      "1.0\n"
     ]
    }
   ],
   "source": [
    "import pandas as pd\n",
    "import numpy as np\n",
    "import matplotlib as mpl\n",
    "df = {}\n",
    "for i in range(3):\n",
    "    df[i]={}\n",
    "    df[i][\"float\"] = 1.23\n",
    "    df[i][\"number\"] = 1\n",
    "\n",
    "\n",
    "df2 = pd.DataFrame(df)\n",
    "for i in df2[0]:\n",
    "    if isinstance(i, int):\n",
    "        i.apply()\n",
    "\n",
    "# for s in enumerate(len(df[0])):\n",
    "#     print(df2[0][s])\n"
   ]
  },
  {
   "cell_type": "code",
   "execution_count": 29,
   "metadata": {},
   "outputs": [
    {
     "data": {
      "text/plain": [
       "2"
      ]
     },
     "execution_count": 29,
     "metadata": {},
     "output_type": "execute_result"
    }
   ],
   "source": [
    "len(df[0])"
   ]
  },
  {
   "cell_type": "code",
   "execution_count": 24,
   "metadata": {},
   "outputs": [
    {
     "name": "stderr",
     "output_type": "stream",
     "text": [
      "/tmp/ipykernel_58510/311917409.py:25: FutureWarning: Setting an item of incompatible dtype is deprecated and will raise an error in a future version of pandas. Value '1.1' has dtype incompatible with float64, please explicitly cast to a compatible dtype first.\n",
      "  formatted_df.iloc[i] = df.iloc[i].apply(lambda x: format_row(x, i))\n",
      "/tmp/ipykernel_58510/311917409.py:25: FutureWarning: Setting an item of incompatible dtype is deprecated and will raise an error in a future version of pandas. Value '4.1' has dtype incompatible with float64, please explicitly cast to a compatible dtype first.\n",
      "  formatted_df.iloc[i] = df.iloc[i].apply(lambda x: format_row(x, i))\n",
      "/tmp/ipykernel_58510/311917409.py:25: FutureWarning: Setting an item of incompatible dtype is deprecated and will raise an error in a future version of pandas. Value '7.1' has dtype incompatible with float64, please explicitly cast to a compatible dtype first.\n",
      "  formatted_df.iloc[i] = df.iloc[i].apply(lambda x: format_row(x, i))\n"
     ]
    },
    {
     "data": {
      "text/html": [
       "<div>\n",
       "<style scoped>\n",
       "    .dataframe tbody tr th:only-of-type {\n",
       "        vertical-align: middle;\n",
       "    }\n",
       "\n",
       "    .dataframe tbody tr th {\n",
       "        vertical-align: top;\n",
       "    }\n",
       "\n",
       "    .dataframe thead th {\n",
       "        text-align: right;\n",
       "    }\n",
       "</style>\n",
       "<table border=\"1\" class=\"dataframe\">\n",
       "  <thead>\n",
       "    <tr style=\"text-align: right;\">\n",
       "      <th></th>\n",
       "      <th>A</th>\n",
       "      <th>B</th>\n",
       "      <th>C</th>\n",
       "    </tr>\n",
       "  </thead>\n",
       "  <tbody>\n",
       "    <tr>\n",
       "      <th>0</th>\n",
       "      <td>1.1</td>\n",
       "      <td>4.1</td>\n",
       "      <td>7.1</td>\n",
       "    </tr>\n",
       "    <tr>\n",
       "      <th>1</th>\n",
       "      <td>2.65</td>\n",
       "      <td>5.65</td>\n",
       "      <td>8.65</td>\n",
       "    </tr>\n",
       "    <tr>\n",
       "      <th>2</th>\n",
       "      <td>3.142</td>\n",
       "      <td>6.142</td>\n",
       "      <td>9.142</td>\n",
       "    </tr>\n",
       "  </tbody>\n",
       "</table>\n",
       "</div>"
      ],
      "text/plain": [
       "       A      B      C\n",
       "0    1.1    4.1    7.1\n",
       "1   2.65   5.65   8.65\n",
       "2  3.142  6.142  9.142"
      ]
     },
     "execution_count": 24,
     "metadata": {},
     "output_type": "execute_result"
    }
   ],
   "source": [
    "import pandas as pd\n",
    "import numpy as np\n",
    "\n",
    "# Create a DataFrame\n",
    "\n",
    "\n",
    "# Define a custom formatter function for different row precisions\n",
    "def format_row(value, row_idx):\n",
    "    if row_idx == \"samples\":\n",
    "        return f\"{value:.1f}\"  # 1 decimal place for the first row\n",
    "    elif row_idx == 1:\n",
    "        return f\"{value:.2f}\"  # 2 decimal places for the second row\n",
    "    elif row_idx == 2:\n",
    "        return f\"{value:.3f}\"  # 3 decimal places for the third row\n",
    "    else:\n",
    "        return f\"{value:.6f}\"  # Default to 6 decimal places\n",
    "\n",
    "# Apply the formatting row by row\n",
    "formatted_df = df.copy()\n",
    "for i in range(len(df)):\n",
    "    formatted_df.iloc[i] = df.iloc[i].apply(lambda x: format_row(x, i))\n",
    "\n",
    "# Print the formatted DataFrame\n",
    "(formatted_df)\n"
   ]
  },
  {
   "cell_type": "code",
   "execution_count": 13,
   "metadata": {},
   "outputs": [
    {
     "data": {
      "text/plain": [
       "array([1000, 1000, 1000])"
      ]
     },
     "execution_count": 13,
     "metadata": {},
     "output_type": "execute_result"
    }
   ],
   "source": [
    "if isinstance(a, int):\n",
    "    a = np.full(3, a)\n",
    "a"
   ]
  },
  {
   "cell_type": "code",
   "execution_count": 14,
   "metadata": {},
   "outputs": [
    {
     "data": {
      "text/plain": [
       "numpy.int64"
      ]
     },
     "execution_count": 14,
     "metadata": {},
     "output_type": "execute_result"
    }
   ],
   "source": [
    "type(a[0])"
   ]
  },
  {
   "cell_type": "code",
   "execution_count": 12,
   "metadata": {},
   "outputs": [
    {
     "data": {
      "text/html": [
       "<style type=\"text/css\">\n",
       "</style>\n",
       "<table id=\"T_e495e\">\n",
       "  <thead>\n",
       "    <tr>\n",
       "      <th class=\"blank level0\" >&nbsp;</th>\n",
       "      <th id=\"T_e495e_level0_col0\" class=\"col_heading level0 col0\" >MH_fixed</th>\n",
       "      <th id=\"T_e495e_level0_col1\" class=\"col_heading level0 col1\" >CWMH</th>\n",
       "      <th id=\"T_e495e_level0_col2\" class=\"col_heading level0 col2\" >ULA</th>\n",
       "      <th id=\"T_e495e_level0_col3\" class=\"col_heading level0 col3\" >MALA</th>\n",
       "      <th id=\"T_e495e_level0_col4\" class=\"col_heading level0 col4\" >NUTS</th>\n",
       "    </tr>\n",
       "  </thead>\n",
       "  <tbody>\n",
       "    <tr>\n",
       "      <th id=\"T_e495e_level0_row0\" class=\"row_heading level0 row0\" >samples</th>\n",
       "      <td id=\"T_e495e_row0_col0\" class=\"data row0 col0\" >100.0</td>\n",
       "      <td id=\"T_e495e_row0_col1\" class=\"data row0 col1\" >100.0</td>\n",
       "      <td id=\"T_e495e_row0_col2\" class=\"data row0 col2\" >100.0</td>\n",
       "      <td id=\"T_e495e_row0_col3\" class=\"data row0 col3\" >100.0</td>\n",
       "      <td id=\"T_e495e_row0_col4\" class=\"data row0 col4\" >100.0</td>\n",
       "    </tr>\n",
       "    <tr>\n",
       "      <th id=\"T_e495e_level0_row1\" class=\"row_heading level0 row1\" >burnins</th>\n",
       "      <td id=\"T_e495e_row1_col0\" class=\"data row1 col0\" >10.0</td>\n",
       "      <td id=\"T_e495e_row1_col1\" class=\"data row1 col1\" >10.0</td>\n",
       "      <td id=\"T_e495e_row1_col2\" class=\"data row1 col2\" >10.0</td>\n",
       "      <td id=\"T_e495e_row1_col3\" class=\"data row1 col3\" >10.0</td>\n",
       "      <td id=\"T_e495e_row1_col4\" class=\"data row1 col4\" >10.0</td>\n",
       "    </tr>\n",
       "    <tr>\n",
       "      <th id=\"T_e495e_level0_row2\" class=\"row_heading level0 row2\" >scale</th>\n",
       "      <td id=\"T_e495e_row2_col0\" class=\"data row2 col0\" >0.1</td>\n",
       "      <td id=\"T_e495e_row2_col1\" class=\"data row2 col1\" >0.1</td>\n",
       "      <td id=\"T_e495e_row2_col2\" class=\"data row2 col2\" >0.1</td>\n",
       "      <td id=\"T_e495e_row2_col3\" class=\"data row2 col3\" >0.1</td>\n",
       "      <td id=\"T_e495e_row2_col4\" class=\"data row2 col4\" >0.1</td>\n",
       "    </tr>\n",
       "    <tr>\n",
       "      <th id=\"T_e495e_level0_row3\" class=\"row_heading level0 row3\" >ESS(v0)</th>\n",
       "      <td id=\"T_e495e_row3_col0\" class=\"data row3 col0\" >1.5</td>\n",
       "      <td id=\"T_e495e_row3_col1\" class=\"data row3 col1\" >1.4</td>\n",
       "      <td id=\"T_e495e_row3_col2\" class=\"data row3 col2\" >2.1</td>\n",
       "      <td id=\"T_e495e_row3_col3\" class=\"data row3 col3\" >1.7</td>\n",
       "      <td id=\"T_e495e_row3_col4\" class=\"data row3 col4\" >25.1</td>\n",
       "    </tr>\n",
       "    <tr>\n",
       "      <th id=\"T_e495e_level0_row4\" class=\"row_heading level0 row4\" >ESS(v1)</th>\n",
       "      <td id=\"T_e495e_row4_col0\" class=\"data row4 col0\" >1.4</td>\n",
       "      <td id=\"T_e495e_row4_col1\" class=\"data row4 col1\" >1.4</td>\n",
       "      <td id=\"T_e495e_row4_col2\" class=\"data row4 col2\" >1.5</td>\n",
       "      <td id=\"T_e495e_row4_col3\" class=\"data row4 col3\" >2.7</td>\n",
       "      <td id=\"T_e495e_row4_col4\" class=\"data row4 col4\" >36.4</td>\n",
       "    </tr>\n",
       "  </tbody>\n",
       "</table>\n"
      ],
      "text/plain": [
       "<pandas.io.formats.style.Styler at 0x7f81fdf8d600>"
      ]
     },
     "execution_count": 12,
     "metadata": {},
     "output_type": "execute_result"
    }
   ],
   "source": [
    "df.style \\\n",
    "  .format(precision=1) "
   ]
  },
  {
   "cell_type": "code",
   "execution_count": 5,
   "metadata": {},
   "outputs": [
    {
     "data": {
      "text/html": [
       "<div>\n",
       "<style scoped>\n",
       "    .dataframe tbody tr th:only-of-type {\n",
       "        vertical-align: middle;\n",
       "    }\n",
       "\n",
       "    .dataframe tbody tr th {\n",
       "        vertical-align: top;\n",
       "    }\n",
       "\n",
       "    .dataframe thead th {\n",
       "        text-align: right;\n",
       "    }\n",
       "</style>\n",
       "<table border=\"1\" class=\"dataframe\">\n",
       "  <thead>\n",
       "    <tr style=\"text-align: right;\">\n",
       "      <th></th>\n",
       "      <th>ULA</th>\n",
       "      <th>MALA</th>\n",
       "    </tr>\n",
       "  </thead>\n",
       "  <tbody>\n",
       "    <tr>\n",
       "      <th>samples</th>\n",
       "      <td>100.000</td>\n",
       "      <td>100.0</td>\n",
       "    </tr>\n",
       "    <tr>\n",
       "      <th>burnins</th>\n",
       "      <td>10.000</td>\n",
       "      <td>0.0</td>\n",
       "    </tr>\n",
       "    <tr>\n",
       "      <th>scale</th>\n",
       "      <td>0.050</td>\n",
       "      <td>0.1</td>\n",
       "    </tr>\n",
       "    <tr>\n",
       "      <th>ESS(v0)</th>\n",
       "      <td>2.501</td>\n",
       "      <td>100.0</td>\n",
       "    </tr>\n",
       "    <tr>\n",
       "      <th>ESS(v1)</th>\n",
       "      <td>16.994</td>\n",
       "      <td>100.0</td>\n",
       "    </tr>\n",
       "  </tbody>\n",
       "</table>\n",
       "</div>"
      ],
      "text/plain": [
       "             ULA   MALA\n",
       "samples  100.000  100.0\n",
       "burnins   10.000    0.0\n",
       "scale      0.050    0.1\n",
       "ESS(v0)    2.501  100.0\n",
       "ESS(v1)   16.994  100.0"
      ]
     },
     "execution_count": 5,
     "metadata": {},
     "output_type": "execute_result"
    }
   ],
   "source": [
    "df"
   ]
  },
  {
   "cell_type": "code",
   "execution_count": 16,
   "metadata": {},
   "outputs": [
    {
     "data": {
      "text/plain": [
       "numpy.float64"
      ]
     },
     "execution_count": 16,
     "metadata": {},
     "output_type": "execute_result"
    }
   ],
   "source": [
    "type(df[\"CWMH\"][\"samples\"])"
   ]
  },
  {
   "cell_type": "markdown",
   "metadata": {},
   "source": [
    "df"
   ]
  },
  {
   "cell_type": "code",
   "execution_count": 6,
   "metadata": {},
   "outputs": [
    {
     "data": {
      "text/html": [
       "<div>\n",
       "<style scoped>\n",
       "    .dataframe tbody tr th:only-of-type {\n",
       "        vertical-align: middle;\n",
       "    }\n",
       "\n",
       "    .dataframe tbody tr th {\n",
       "        vertical-align: top;\n",
       "    }\n",
       "\n",
       "    .dataframe thead th {\n",
       "        text-align: right;\n",
       "    }\n",
       "</style>\n",
       "<table border=\"1\" class=\"dataframe\">\n",
       "  <thead>\n",
       "    <tr style=\"text-align: right;\">\n",
       "      <th></th>\n",
       "      <th>MH_fixed</th>\n",
       "      <th>CWMH</th>\n",
       "      <th>ULA</th>\n",
       "      <th>MALA</th>\n",
       "      <th>NUTS</th>\n",
       "    </tr>\n",
       "  </thead>\n",
       "  <tbody>\n",
       "    <tr>\n",
       "      <th>samples</th>\n",
       "      <td>100.000</td>\n",
       "      <td>100.000</td>\n",
       "      <td>100.000</td>\n",
       "      <td>100.000</td>\n",
       "      <td>100.000</td>\n",
       "    </tr>\n",
       "    <tr>\n",
       "      <th>burnins</th>\n",
       "      <td>10.000</td>\n",
       "      <td>10.000</td>\n",
       "      <td>10.000</td>\n",
       "      <td>10.000</td>\n",
       "      <td>10.000</td>\n",
       "    </tr>\n",
       "    <tr>\n",
       "      <th>scale</th>\n",
       "      <td>0.050</td>\n",
       "      <td>0.050</td>\n",
       "      <td>0.050</td>\n",
       "      <td>0.050</td>\n",
       "      <td>0.050</td>\n",
       "    </tr>\n",
       "    <tr>\n",
       "      <th>ESS(v0)</th>\n",
       "      <td>1.483</td>\n",
       "      <td>1.416</td>\n",
       "      <td>2.086</td>\n",
       "      <td>1.665</td>\n",
       "      <td>25.082</td>\n",
       "    </tr>\n",
       "    <tr>\n",
       "      <th>ESS(v1)</th>\n",
       "      <td>1.423</td>\n",
       "      <td>1.415</td>\n",
       "      <td>1.534</td>\n",
       "      <td>2.711</td>\n",
       "      <td>36.366</td>\n",
       "    </tr>\n",
       "  </tbody>\n",
       "</table>\n",
       "</div>"
      ],
      "text/plain": [
       "         MH_fixed     CWMH      ULA     MALA     NUTS\n",
       "samples   100.000  100.000  100.000  100.000  100.000\n",
       "burnins    10.000   10.000   10.000   10.000   10.000\n",
       "scale       0.050    0.050    0.050    0.050    0.050\n",
       "ESS(v0)     1.483    1.416    2.086    1.665   25.082\n",
       "ESS(v1)     1.423    1.415    1.534    2.711   36.366"
      ]
     },
     "execution_count": 6,
     "metadata": {},
     "output_type": "execute_result"
    }
   ],
   "source": [
    "df"
   ]
  },
  {
   "cell_type": "code",
   "execution_count": 2,
   "metadata": {},
   "outputs": [
    {
     "ename": "NameError",
     "evalue": "name 'TA' is not defined",
     "output_type": "error",
     "traceback": [
      "\u001b[0;31m---------------------------------------------------------------------------\u001b[0m",
      "\u001b[0;31mNameError\u001b[0m                                 Traceback (most recent call last)",
      "Cell \u001b[0;32mIn[2], line 1\u001b[0m\n\u001b[0;32m----> 1\u001b[0m \u001b[43mTA\u001b[49m\u001b[38;5;241m.\u001b[39mplot_pdf_2D(target_mm, \u001b[38;5;241m-\u001b[39m\u001b[38;5;241m10\u001b[39m, \u001b[38;5;241m10\u001b[39m, \u001b[38;5;241m-\u001b[39m\u001b[38;5;241m10\u001b[39m, \u001b[38;5;241m10\u001b[39m,N2\u001b[38;5;241m=\u001b[39m\u001b[38;5;241m201\u001b[39m)\n",
      "\u001b[0;31mNameError\u001b[0m: name 'TA' is not defined"
     ]
    }
   ],
   "source": [
    "TA.plot_pdf_2D(target_mm, -10, 10, -10, 10,N2=201)"
   ]
  },
  {
   "cell_type": "code",
   "execution_count": 6,
   "metadata": {},
   "outputs": [
    {
     "data": {
      "text/plain": [
       "BayesianProblem with target: \n",
       " Posterior(\n",
       "    Equation:\n",
       "\t p(x|b) ∝ L(x|b)p(x)\n",
       "    Densities:\n",
       "\tb ~ CUQI Gaussian Likelihood function. Parameters ['x'].\n",
       " \tx ~ CUQI Gaussian.\n",
       " )"
      ]
     },
     "execution_count": 6,
     "metadata": {},
     "output_type": "execute_result"
    }
   ],
   "source": [
    "x = Gaussian(np.zeros(2), 2.5)\n",
    "A_matrix = np.array([[1.0, 1.0]])\n",
    "A = LinearModel(A_matrix)\n",
    "b= Gaussian(A@x, 0.1)\n",
    "BP = BayesianProblem(b, x)\n",
    "\n",
    "specific =  np.array([1.5,1.5 ])\n",
    "b_ob = b(x = specific).sample()\n",
    "BP.set_data(b=b_ob)"
   ]
  },
  {
   "cell_type": "code",
   "execution_count": 9,
   "metadata": {},
   "outputs": [],
   "source": [
    "target = UserDefinedDistribution(dim = 2, logpdf_func = BP.posterior.logpdf, gradient_func = BP.posterior.gradient)"
   ]
  },
  {
   "cell_type": "code",
   "execution_count": 5,
   "metadata": {},
   "outputs": [
    {
     "data": {
      "text/plain": [
       "CUQI Gaussian. Conditioning variables ['x']."
      ]
     },
     "execution_count": 5,
     "metadata": {},
     "output_type": "execute_result"
    }
   ],
   "source": [
    "x = Gaussian(np.zeros(2), 2.5)\n",
    "A_matrix = np.array([[1.0, 1.0]])\n",
    "A = LinearModel(A_matrix)\n",
    "b= Gaussian(A@x, 0.1)\n",
    "b"
   ]
  },
  {
   "cell_type": "code",
   "execution_count": 3,
   "metadata": {},
   "outputs": [
    {
     "data": {
      "image/png": "[encoded data removed]",
      "text/plain": [
       "<Figure size 640x480 with 2 Axes>"
      ]
     },
     "metadata": {},
     "output_type": "display_data"
    }
   ],
   "source": [
    "TA.plot_pdf_2D(target_mm, -4, 4, -4, 4)"
   ]
  },
  {
   "cell_type": "code",
   "execution_count": 4,
   "metadata": {},
   "outputs": [
    {
     "name": "stdout",
     "output_type": "stream",
     "text": [
      "Sample 100 / 100\n",
      "\n",
      "Average acceptance rate: 0.77 \n",
      "\n",
      "Sample 100 / 100\n",
      "\n",
      "Average acceptance rate all components: 0.7 \n",
      "\n",
      "Sample 100 / 100\n",
      "Sample 150 / 150\n",
      "Sample 110 / 110\n"
     ]
    }
   ],
   "source": [
    "df, (fig, axs)  = TA.create_comparison(\n",
    "    target_donut, \n",
    "    [0.05, 0.05, 0.065, 0.065, 0.05 ], \n",
    "    [100, 85, 100, 100, 100], \n",
    "    [0, 15, 0, 50, 10], \n",
    "    x0 = np.array([1, 1]),\n",
    "    seed=12, \n",
    "    chains = 2\n",
    ")\n"
   ]
  }
 ],
 "metadata": {
  "kernelspec": {
   "display_name": "env",
   "language": "python",
   "name": "python3"
  },
  "language_info": {
   "codemirror_mode": {
    "name": "ipython",
    "version": 3
   },
   "file_extension": ".py",
   "mimetype": "text/x-python",
   "name": "python",
   "nbconvert_exporter": "python",
   "pygments_lexer": "ipython3",
   "version": "3.10.14"
  }
 },
 "nbformat": 4,
 "nbformat_minor": 2
}
