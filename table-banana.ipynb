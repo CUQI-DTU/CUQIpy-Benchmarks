{
 "cells": [
  {
   "cell_type": "code",
   "execution_count": 6,
   "metadata": {},
   "outputs": [],
   "source": [
    "from cuqi.distribution import DistributionGallery, Gaussian, JointDistribution\n",
    "from cuqi.testproblem import Poisson1D\n",
    "from cuqi.problem import BayesianProblem\n",
    "import cuqi\n",
    "import inspect\n",
    "import numpy as np\n",
    "import matplotlib.pyplot as plt\n",
    "from cuqi.sampler import MH, CWMH, ULA, MALA, NUTS\n",
    "import time\n",
    "import scipy.stats as sps\n",
    "from scipy.stats import gaussian_kde\n",
    "import pandas as pd\n",
    "import TableAutomization as TA\n"
   ]
  },
  {
   "cell_type": "code",
   "execution_count": 12,
   "metadata": {},
   "outputs": [
    {
     "name": "stdout",
     "output_type": "stream",
     "text": [
      "Sample 102 / 102\n",
      "\n",
      "Average acceptance rate: 0.99 \n",
      "\n",
      "Sample 102 / 102\n",
      "\n",
      "Average acceptance rate: 0.95 MCMC scale: 0.1886311426808492 \n",
      "\n",
      "Sample 102 / 102\n",
      "Sample 102 / 102\n",
      "Sample 102 / 102\n"
     ]
    },
    {
     "data": {
      "text/html": [
       "<div>\n",
       "<style scoped>\n",
       "    .dataframe tbody tr th:only-of-type {\n",
       "        vertical-align: middle;\n",
       "    }\n",
       "\n",
       "    .dataframe tbody tr th {\n",
       "        vertical-align: top;\n",
       "    }\n",
       "\n",
       "    .dataframe thead th {\n",
       "        text-align: right;\n",
       "    }\n",
       "</style>\n",
       "<table border=\"1\" class=\"dataframe\">\n",
       "  <thead>\n",
       "    <tr style=\"text-align: right;\">\n",
       "      <th></th>\n",
       "      <th>Sampling Method</th>\n",
       "      <th>No. of Samples</th>\n",
       "      <th>No. of Burn-ins</th>\n",
       "      <th>Scaling Factor</th>\n",
       "      <th>ESS (v0)</th>\n",
       "      <th>ESS (v1)</th>\n",
       "    </tr>\n",
       "  </thead>\n",
       "  <tbody>\n",
       "    <tr>\n",
       "      <th>0</th>\n",
       "      <td>MH_fixed</td>\n",
       "      <td>100</td>\n",
       "      <td>2</td>\n",
       "      <td>0.005</td>\n",
       "      <td>2.143</td>\n",
       "      <td>2.580</td>\n",
       "    </tr>\n",
       "    <tr>\n",
       "      <th>1</th>\n",
       "      <td>MH_adapted</td>\n",
       "      <td>100</td>\n",
       "      <td>2</td>\n",
       "      <td>0.005</td>\n",
       "      <td>1.966</td>\n",
       "      <td>1.432</td>\n",
       "    </tr>\n",
       "    <tr>\n",
       "      <th>2</th>\n",
       "      <td>ULA</td>\n",
       "      <td>100</td>\n",
       "      <td>2</td>\n",
       "      <td>0.005</td>\n",
       "      <td>1.540</td>\n",
       "      <td>7.924</td>\n",
       "    </tr>\n",
       "    <tr>\n",
       "      <th>3</th>\n",
       "      <td>MALA</td>\n",
       "      <td>100</td>\n",
       "      <td>2</td>\n",
       "      <td>0.005</td>\n",
       "      <td>2.594</td>\n",
       "      <td>1.397</td>\n",
       "    </tr>\n",
       "    <tr>\n",
       "      <th>4</th>\n",
       "      <td>NUTS</td>\n",
       "      <td>100</td>\n",
       "      <td>2</td>\n",
       "      <td>0.005</td>\n",
       "      <td>100.000</td>\n",
       "      <td>100.000</td>\n",
       "    </tr>\n",
       "  </tbody>\n",
       "</table>\n",
       "</div>"
      ],
      "text/plain": [
       "  Sampling Method  No. of Samples  No. of Burn-ins  Scaling Factor  ESS (v0)  \\\n",
       "0        MH_fixed             100                2           0.005     2.143   \n",
       "1      MH_adapted             100                2           0.005     1.966   \n",
       "2             ULA             100                2           0.005     1.540   \n",
       "3            MALA             100                2           0.005     2.594   \n",
       "4            NUTS             100                2           0.005   100.000   \n",
       "\n",
       "   ESS (v1)  \n",
       "0     2.580  \n",
       "1     1.432  \n",
       "2     7.924  \n",
       "3     1.397  \n",
       "4   100.000  "
      ]
     },
     "execution_count": 12,
     "metadata": {},
     "output_type": "execute_result"
    }
   ],
   "source": [
    "# The banana distribution \n",
    "target_banana = DistributionGallery(\"banana\")\n",
    "\n",
    "TA.create_table(target_banana, 0.005, 100, 2, x0 = np.array([0,0]), seed = 12)"
   ]
  }
 ],
 "metadata": {
  "kernelspec": {
   "display_name": "cuqipy",
   "language": "python",
   "name": "python3"
  },
  "language_info": {
   "codemirror_mode": {
    "name": "ipython",
    "version": 3
   },
   "file_extension": ".py",
   "mimetype": "text/x-python",
   "name": "python",
   "nbconvert_exporter": "python",
   "pygments_lexer": "ipython3",
   "version": "3.12.4"
  }
 },
 "nbformat": 4,
 "nbformat_minor": 2
}
